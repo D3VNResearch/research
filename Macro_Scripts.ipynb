{
 "cells": [
  {
   "attachments": {},
   "cell_type": "markdown",
   "id": "2f9c70bc",
   "metadata": {},
   "source": [
    "### IMPORT LIBRARY"
   ]
  },
  {
   "cell_type": "code",
   "execution_count": 13,
   "id": "ccfa4d14",
   "metadata": {},
   "outputs": [],
   "source": [
    "from office365.runtime.auth.authentication_context import AuthenticationContext\n",
    "from office365.sharepoint.client_context import ClientContext\n",
    "from office365.sharepoint.files.file import File\n",
    "from office365.runtime.auth.client_credential import ClientCredential\n",
    "from office365.runtime.client_request_exception import ClientRequestException\n",
    "import datetime\n",
    "import pytz\n",
    "import pandas as pd\n",
    "import numpy as np\n",
    "import csv\n",
    "import glob\n",
    "import pyodbc\n",
    "import os \n",
    "import json\n",
    "from io import BytesIO\n",
    "import io\n",
    "import platform\n",
    "from function.PyToSp import *\n",
    "from tqdm import tqdm\n",
    "from urllib.parse import quote_plus\n",
    "import numpy as np\n",
    "import pandas as pd\n",
    "from sqlalchemy import create_engine, event,text\n",
    "import pyodbc\n",
    "import requests\n",
    "import inspect\n",
    "from validate import *\n",
    "pd.set_option('display.max_columns', None)\n",
    "pd.set_option('display.max_rows', None)\n",
    "from urllib.parse import quote_plus\n",
    "import msal\n",
    "from itertools import chain\n",
    "from send_email import *\n",
    "\n",
    "# set to_email\n",
    "to_email = ['nthieu@savills.com.vn','pthihuongnguyen@savills.com.vn']\n",
    "# to_email = ['nthieu@savills.com.vn']"
   ]
  },
  {
   "attachments": {},
   "cell_type": "markdown",
   "id": "d8bee114",
   "metadata": {},
   "source": [
    "### CONNECT TO AZURE SQL"
   ]
  },
  {
   "cell_type": "code",
   "execution_count": 14,
   "id": "a39960d9",
   "metadata": {},
   "outputs": [
    {
     "name": "stdout",
     "output_type": "stream",
     "text": [
      "CONNECTION SUCESSFUL!\n"
     ]
    }
   ],
   "source": [
    "import json\n",
    "f = open ('database_information.json', \"r\")\n",
    "qq = json.loads(f.read())\n",
    "f.close()\n",
    "ini_cnt_str ='Driver={driver_str};Server=tcp:hkazdevsqld3vnreserch.database.windows.net,1433;database={database};Uid={username};Pwd={password};Encrypt=yes;Authentication=ActiveDirectoryPassword;Connection Timeout=30;'.format(**qq)\n",
    "quoted = quote_plus(ini_cnt_str)\n",
    "cnt_str = 'mssql+pyodbc:///?odbc_connect={}'.format(quoted)\n",
    "engine = create_engine(cnt_str)\n",
    "\n",
    "#Test Connection\n",
    "try:\n",
    "    conn = engine.connect()\n",
    "    result = conn.execute(text(\"SELECT 1\"))\n",
    "    print(\"CONNECTION SUCESSFUL!\")\n",
    "except Exception as e:\n",
    "    print(\"CONNECTION FAILED:\",str(e))"
   ]
  },
  {
   "attachments": {},
   "cell_type": "markdown",
   "id": "81420039",
   "metadata": {},
   "source": [
    "### CONNECT TO SHAREPOINT"
   ]
  },
  {
   "cell_type": "code",
   "execution_count": 3,
   "id": "4b0587ba",
   "metadata": {},
   "outputs": [
    {
     "name": "stdout",
     "output_type": "stream",
     "text": [
      "Web site title: S22M Research & BI Hub _ Successful Connection!\n"
     ]
    }
   ],
   "source": [
    "header_BIHub = 'share_point_BIHub'\n",
    "config_BIHub = read_config_json(config_path, header_BIHub)\n",
    "BIHub = SharePoint(config_BIHub)\n",
    "BIHub.check_connect()"
   ]
  },
  {
   "cell_type": "code",
   "execution_count": 4,
   "id": "d951e70e",
   "metadata": {
    "scrolled": true
   },
   "outputs": [
    {
     "name": "stdout",
     "output_type": "stream",
     "text": [
      "Folder name: /sites/BIHub/Shared Documents/Advisory Data/Macro economic/Flat file/Ben Tre Province\n",
      "/sites/BIHub/Shared Documents/Advisory Data/Macro economic/Flat file/Vinh Long Province\n",
      "/sites/BIHub/Shared Documents/Advisory Data/Macro economic/Flat file/An Giang Province\n",
      "/sites/BIHub/Shared Documents/Advisory Data/Macro economic/Flat file/Lao Cai Province\n",
      "/sites/BIHub/Shared Documents/Advisory Data/Macro economic/Flat file/Can Tho City\n",
      "/sites/BIHub/Shared Documents/Advisory Data/Macro economic/Flat file/Thua Thien Hue Province\n",
      "/sites/BIHub/Shared Documents/Advisory Data/Macro economic/Flat file/Khanh Hoa Province\n",
      "/sites/BIHub/Shared Documents/Advisory Data/Macro economic/Flat file/Country\n",
      "/sites/BIHub/Shared Documents/Advisory Data/Macro economic/Flat file/Dong Nai Province\n",
      "/sites/BIHub/Shared Documents/Advisory Data/Macro economic/Flat file/Quang Ngai Province\n",
      "/sites/BIHub/Shared Documents/Advisory Data/Macro economic/Flat file/Ho Chi Minh City\n",
      "/sites/BIHub/Shared Documents/Advisory Data/Macro economic/Flat file/Hai Phong City\n",
      "/sites/BIHub/Shared Documents/Advisory Data/Macro economic/Flat file/Kien Giang Province\n",
      "/sites/BIHub/Shared Documents/Advisory Data/Macro economic/Flat file/Da Nang City\n",
      "/sites/BIHub/Shared Documents/Advisory Data/Macro economic/Flat file/Ninh Binh Province\n",
      "/sites/BIHub/Shared Documents/Advisory Data/Macro economic/Flat file/Nghe An Province\n",
      "/sites/BIHub/Shared Documents/Advisory Data/Macro economic/Flat file/Binh Duong Province\n",
      "/sites/BIHub/Shared Documents/Advisory Data/Macro economic/Flat file/Quang Ninh Province\n",
      "/sites/BIHub/Shared Documents/Advisory Data/Macro economic/Flat file/Others\n",
      "/sites/BIHub/Shared Documents/Advisory Data/Macro economic/Flat file/Long An Province\n",
      "/sites/BIHub/Shared Documents/Advisory Data/Macro economic/Flat file/Phu Yen Province\n",
      "/sites/BIHub/Shared Documents/Advisory Data/Macro economic/Flat file/Tien Giang Province\n",
      "/sites/BIHub/Shared Documents/Advisory Data/Macro economic/Flat file/Binh Dinh Province\n",
      "/sites/BIHub/Shared Documents/Advisory Data/Macro economic/Flat file/Ha Nam Province\n",
      "/sites/BIHub/Shared Documents/Advisory Data/Macro economic/Flat file/Hai Duong Province\n",
      "/sites/BIHub/Shared Documents/Advisory Data/Macro economic/Flat file/Dong Thap Province\n",
      "/sites/BIHub/Shared Documents/Advisory Data/Macro economic/Flat file/Bac Ninh Province\n",
      "/sites/BIHub/Shared Documents/Advisory Data/Macro economic/Flat file/Binh Thuan Province\n",
      "/sites/BIHub/Shared Documents/Advisory Data/Macro economic/Flat file/Lam Dong Province\n",
      "/sites/BIHub/Shared Documents/Advisory Data/Macro economic/Flat file/Bac Giang Province\n",
      "/sites/BIHub/Shared Documents/Advisory Data/Macro economic/Flat file/Hoa Binh Province\n",
      "/sites/BIHub/Shared Documents/Advisory Data/Macro economic/Flat file/Thanh Hoa Province\n",
      "/sites/BIHub/Shared Documents/Advisory Data/Macro economic/Flat file/BRVT\n",
      "/sites/BIHub/Shared Documents/Advisory Data/Macro economic/Flat file/Vinh Phuc Province\n",
      "/sites/BIHub/Shared Documents/Advisory Data/Macro economic/Flat file/Tay Ninh Province\n",
      "/sites/BIHub/Shared Documents/Advisory Data/Macro economic/Flat file/Ha Noi City\n",
      "/sites/BIHub/Shared Documents/Advisory Data/Macro economic/Flat file/Hung Yen Province\n",
      "/sites/BIHub/Shared Documents/Advisory Data/Macro economic/Flat file/Quang Nam Province\n",
      "/sites/BIHub/Shared Documents/Advisory Data/Macro economic/Flat file/Binh Phuoc Province\n"
     ]
    }
   ],
   "source": [
    "#Tất cả các tỉnh\n",
    "relative_url = \"/sites/BIHub/Shared Documents/Advisory Data/Macro economic/Flat file\"\n",
    "sp_object = relative_url.split('/')[2].replace('-','')\n",
    "list_folder = eval(sp_object).get_content_url(relative_url,return_list_folder=True)"
   ]
  },
  {
   "cell_type": "code",
   "execution_count": 10,
   "id": "33fac8a3",
   "metadata": {},
   "outputs": [
    {
     "name": "stdout",
     "output_type": "stream",
     "text": [
      "Nhập tên các tỉnh bạn muốn chọn, cách nhau bằng dấu phẩy (nhập -1 để thoát): hai duong\n",
      "Nhập chuỗi năm và quý (ví dụ: 2023Q1): 2023Q1\n",
      "Các tỉnh đã chọn:\n",
      "\u001b[33mHai Duong Province\u001b[0m\n",
      "\u001b[33mYear:2023, Quarter:Q1\u001b[0m\n",
      "Folder các tỉnh cần import:\n",
      "\u001b[33m/sites/BIHub/Shared Documents/Advisory Data/Macro economic/Flat file/Hai Duong Province\u001b[0m\n",
      "Folder name: \n",
      "Files name: /sites/BIHub/Shared Documents/Advisory Data/Macro economic/Flat file/Hai Duong Province/2023/Q1/Macro_HaiDuong_20230331.xlsx\n"
     ]
    }
   ],
   "source": [
    "# Lấy danh sách tỉnh\n",
    "province_list = []\n",
    "for i in list_folder:\n",
    "    province_list.append(i.split('/')[7])\n",
    "\n",
    "# Chọn tỉnh\n",
    "selected_provinces = []\n",
    "\n",
    "# Input tỉnh\n",
    "input_string = input(\"Nhập tên các tỉnh bạn muốn chọn, cách nhau bằng dấu phẩy (nhập -1 để thoát): \")\n",
    "input_list = input_string.split(',')\n",
    "\n",
    "for input_province in input_list:\n",
    "    input_province = input_province.strip().lower()\n",
    "    if input_province == \"-1\":\n",
    "        break\n",
    "\n",
    "    matched_provinces = [province for province in province_list if input_province in province.lower()]\n",
    "    if matched_provinces:\n",
    "        selected_provinces.extend(matched_provinces)\n",
    "    else:\n",
    "        print(f\"Không tìm thấy tỉnh chứa từ khóa '{input_province}'.\")\n",
    "\n",
    "# Input Năm và Quý\n",
    "quarter_year = input(\"Nhập chuỗi năm và quý (ví dụ: 2023Q1): \")\n",
    "Year, Quarter = quarter_year[:4], quarter_year[4:]\n",
    "\n",
    "# In danh sách tỉnh đã chọn, năm và quý\n",
    "print(\"Các tỉnh đã chọn:\")\n",
    "for province in selected_provinces:\n",
    "    print(colored(province,'yellow'))\n",
    "print(colored(\"Year:{}, Quarter:{}\".format(Year,Quarter),'yellow'))\n",
    "\n",
    "# Tìm các folder chứa từ khóa\n",
    "selected_province_folders = [folder for folder in list_folder if any(re.search(keyword, folder, re.IGNORECASE) for keyword in selected_provinces)]\n",
    "selected_year_quarter = []\n",
    "for folder in selected_province_folders:\n",
    "    folder_sub2 = folder + '/' + Year + '/' + Quarter\n",
    "    selected_year_quarter.append(folder_sub2)\n",
    "# In danh sách các folder đã tìm thấy\n",
    "print(\"Folder các tỉnh cần import:\")\n",
    "for folder in selected_province_folders:\n",
    "    print(colored(folder,'yellow'))\n",
    "\n",
    "#Lấy file trong Năm và Quý\n",
    "df_summ_file = pd.DataFrame({'Name':[],'ServerRelativeUrl':[], 'TimeLastModified':[], 'ModTime':[], 'Modified_by_ID':[]})\n",
    "for i in selected_year_quarter:\n",
    "    if i.split('/')[7] in selected_provinces and i.split('/')[8] in Year and i.split('/')[9] in Quarter:\n",
    "        df_summ_file = pd.concat([df_summ_file, eval(sp_object).get_content_url(i)])\n",
    "list_url = df_summ_file['ServerRelativeUrl'].to_list()\n",
    "\n",
    "#History file\n",
    "df_query=pd.DataFrame(df_summ_file).reset_index(drop=True)\n",
    "df_summ_file = df_summ_file.reset_index(drop=True)"
   ]
  },
  {
   "cell_type": "code",
   "execution_count": 11,
   "id": "e5bc3144",
   "metadata": {
    "scrolled": true
   },
   "outputs": [
    {
     "data": {
      "text/plain": [
       "['/sites/BIHub/Shared Documents/Advisory Data/Macro economic/Flat file/Hai Duong Province/2023/Q1/Macro_HaiDuong_20230331.xlsx']"
      ]
     },
     "execution_count": 11,
     "metadata": {},
     "output_type": "execute_result"
    }
   ],
   "source": [
    "url = []\n",
    "for i in list_url:\n",
    "    sector = i.split('/')[-1].split('_')[0].upper()\n",
    "    if sector not in ('x'):\n",
    "        url.append(i)\n",
    "    else:\n",
    "        pass\n",
    "url"
   ]
  },
  {
   "attachments": {},
   "cell_type": "markdown",
   "id": "8fc83b84",
   "metadata": {},
   "source": [
    "### IMPORT DATA"
   ]
  },
  {
   "cell_type": "code",
   "execution_count": 12,
   "id": "51d50056",
   "metadata": {
    "scrolled": true
   },
   "outputs": [
    {
     "name": "stderr",
     "output_type": "stream",
     "text": [
      "\r\n",
      "  0%|          | 0/1 [00:00<?, ?it/s]"
     ]
    },
    {
     "name": "stdout",
     "output_type": "stream",
     "text": [
      "\u001b[32mValidate succesfully\u001b[0m\n",
      "CONNECTION SUCESSFUL IN INSERT TO FRESH FUNCTION!\n",
      "Insert Macro_HaiDuong_20230331 to Fresh\n",
      "Insert Macro_HaiDuong_20230331 to Fresh\n",
      "Insert Macro_HaiDuong_20230331 to Fresh\n"
     ]
    },
    {
     "name": "stderr",
     "output_type": "stream",
     "text": [
      "100%|██████████| 1/1 [00:04<00:00,  4.33s/it]\n"
     ]
    }
   ],
   "source": [
    "'''Prepare ingredients'''\n",
    "columns_that_need_unidecode=['City', 'District', 'Indicator', 'Attribute_lv1', 'Attribute_lv2', \n",
    "                             'Indicator_Unit', 'Source'\n",
    "                            ]\n",
    "#Create empty df for checking dictionary\n",
    "df_dict = pd.DataFrame(columns=['File_Name', 'Missing_Values', 'Flag'])\n",
    "df_temp_flat_macro = pd.DataFrame()\n",
    "df_flat_macro = pd.DataFrame()\n",
    "#-------------------------------------------------------\n",
    "'''Get data''' \n",
    "for file_url in tqdm(url):\n",
    "    data, file_name, sector = get_data(relative_url, file_url)\n",
    "    #-------------------------------------------------------\n",
    "    data = check_date_key(file_url, data)#Check format date_key in flat file\n",
    "    #-------------------------------------------------------\n",
    "    '''Validation step'''\n",
    "    #Remove unfortmated values\n",
    "    data = remove_unformated_character(data)\n",
    "    #Remove unicode characters\n",
    "    for i in columns_that_need_unidecode:\n",
    "        data[i] = remove_unicode(data[i])\n",
    "    #Check dictionary\n",
    "    data, df_dict = check_dictionary(df_dict, file_name, data, 'City', 'City', sector, engine, sp_object)\n",
    "    data, df_dict = check_dictionary(df_dict, file_name, data, 'Indicator', 'Indicator', sector, engine, sp_object)\n",
    "    if len(df_dict) == 0:\n",
    "        print(colored('Validate succesfully','green'))\n",
    "        data = Generate_Additional_Columns(data,url,df_summ_file,BIHub,engine,file_url)\n",
    "        df_temp_flat_macro = pd.concat([df_temp_flat_macro, data], axis=0)\n",
    "        df_flat_macro = tracking_flat_file(df_temp_flat_macro, sector)\n",
    "        insert_to_fresh(file_url, data, cnt_str)\n",
    "    else:\n",
    "        pass"
   ]
  },
  {
   "attachments": {},
   "cell_type": "markdown",
   "id": "8ab4b79b",
   "metadata": {
    "scrolled": true
   },
   "source": [
    "### SEND EMAIL"
   ]
  },
  {
   "cell_type": "code",
   "execution_count": 13,
   "id": "8736012f",
   "metadata": {
    "scrolled": true
   },
   "outputs": [
    {
     "name": "stdout",
     "output_type": "stream",
     "text": [
      "Imported data succesfully\n",
      "Sent email successfully\n"
     ]
    }
   ],
   "source": [
    "list_df_flat = [df_flat_macro]\n",
    "if len(df_dict) != 0:\n",
    "    print(colored('Missing values in dictionary','yellow'))\n",
    "    df_noti_html = convert_df_to_html(type_html = 2, df = df_dict, cnxn = engine)\n",
    "    run_email(email_type = 2, user_email = to_email, df_noti_html = df_noti_html)\n",
    "else:\n",
    "    print('Imported data succesfully')\n",
    "    df_flat_html, df_query_html = convert_df_to_html(type_html = 3, list_df = list_df_flat, type_sector = 2, cnxn = engine)\n",
    "    run_email(type_sector = 'MACRO', email_type = 3, user_email = to_email, df_flat_html = df_flat_html, df_query_html = df_query_html)"
   ]
  },
  {
   "attachments": {},
   "cell_type": "markdown",
   "id": "88a8fdb2",
   "metadata": {},
   "source": [
    "### TRACKING AUDIT"
   ]
  },
  {
   "cell_type": "code",
   "execution_count": 14,
   "id": "0d522b00",
   "metadata": {},
   "outputs": [
    {
     "name": "stdout",
     "output_type": "stream",
     "text": [
      "\u001b[32mInserted audit tracking sucessfully\u001b[0m\n"
     ]
    }
   ],
   "source": [
    "insert_to_tracking(list_df_flat, 'Tracking_Macro', engine)"
   ]
  },
  {
   "cell_type": "code",
   "execution_count": null,
   "id": "15a4adc6",
   "metadata": {},
   "outputs": [],
   "source": []
  },
  {
   "cell_type": "code",
   "execution_count": null,
   "id": "de5c3dc1",
   "metadata": {},
   "outputs": [],
   "source": []
  }
 ],
 "metadata": {
  "kernelspec": {
   "display_name": "Python 3 (ipykernel)",
   "language": "python",
   "name": "python3"
  },
  "language_info": {
   "codemirror_mode": {
    "name": "ipython",
    "version": 3
   },
   "file_extension": ".py",
   "mimetype": "text/x-python",
   "name": "python",
   "nbconvert_exporter": "python",
   "pygments_lexer": "ipython3",
   "version": "3.11.3"
  }
 },
 "nbformat": 4,
 "nbformat_minor": 5
}
