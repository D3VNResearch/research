{
 "cells": [
  {
   "cell_type": "markdown",
   "id": "12012f35",
   "metadata": {},
   "source": [
    "### IMPORT LIBRARY"
   ]
  },
  {
   "cell_type": "code",
   "execution_count": 1,
   "id": "378258c1",
   "metadata": {},
   "outputs": [],
   "source": [
    "from office365.runtime.auth.authentication_context import AuthenticationContext\n",
    "from office365.sharepoint.client_context import ClientContext\n",
    "from office365.sharepoint.files.file import File\n",
    "from office365.runtime.auth.client_credential import ClientCredential\n",
    "from office365.runtime.client_request_exception import ClientRequestException\n",
    "import datetime\n",
    "import pytz\n",
    "import pandas as pd\n",
    "import numpy as np\n",
    "import csv\n",
    "import glob\n",
    "import pyodbc\n",
    "import os \n",
    "import json\n",
    "from io import BytesIO\n",
    "import io\n",
    "import platform\n",
    "from function.PyToSp import *\n",
    "from tqdm import tqdm\n",
    "from urllib.parse import quote_plus\n",
    "import numpy as np\n",
    "import pandas as pd\n",
    "from sqlalchemy import create_engine, event\n",
    "import pyodbc\n",
    "import requests\n",
    "import inspect\n",
    "from validate import *\n",
    "pd.set_option('display.max_columns', None)\n",
    "pd.set_option('display.max_rows', None)\n",
    "from urllib.parse import quote_plus\n",
    "import msal\n",
    "from itertools import chain\n",
    "from send_email import *"
   ]
  },
  {
   "cell_type": "markdown",
   "id": "d8bee114",
   "metadata": {},
   "source": [
    "### CONNECT TO AZURE SQL"
   ]
  },
  {
   "cell_type": "code",
   "execution_count": 2,
   "id": "a39960d9",
   "metadata": {},
   "outputs": [],
   "source": [
    "import json\n",
    "f = open ('database_information.json', \"r\")\n",
    "qq = json.loads(f.read())\n",
    "f.close()\n",
    "ini_cnt_str ='Driver={driver_str};Server=tcp:hkazdevsqld3vnreserch.database.windows.net,1433;database={database};Uid={username};Pwd={password};Encrypt=yes;Authentication=ActiveDirectoryPassword;Connection Timeout=30;'.format(**qq)\n",
    "quoted = quote_plus(ini_cnt_str)\n",
    "cnt_str = 'mssql+pyodbc:///?odbc_connect={}'.format(quoted)\n",
    "engine = create_engine(cnt_str)"
   ]
  },
  {
   "cell_type": "markdown",
   "id": "81420039",
   "metadata": {},
   "source": [
    "### CONNECT TO SHAREPOINT"
   ]
  },
  {
   "cell_type": "code",
   "execution_count": 3,
   "id": "4b0587ba",
   "metadata": {},
   "outputs": [
    {
     "name": "stdout",
     "output_type": "stream",
     "text": [
      "Web site title: S22M Internal Hub _ Successful Connection!\n"
     ]
    }
   ],
   "source": [
    "header_BIHub = 'share_point_BIHub'\n",
    "config_BIHub = read_config_json(config_path, header_BIHub)\n",
    "BIHub = SharePoint(config_BIHub)\n",
    "BIHub.check_connect()"
   ]
  },
  {
   "cell_type": "markdown",
   "id": "0e642c12",
   "metadata": {},
   "source": [
    "### READ FILE"
   ]
  },
  {
   "cell_type": "code",
   "execution_count": 4,
   "id": "d951e70e",
   "metadata": {
    "scrolled": true
   },
   "outputs": [
    {
     "name": "stdout",
     "output_type": "stream",
     "text": [
      "Folder name: /sites/BIHub/Shared Documents/Advisory Data/Main sector/Flat file/Can Tho City\n",
      "/sites/BIHub/Shared Documents/Advisory Data/Main sector/Flat file/Ho Chi Minh City\n",
      "/sites/BIHub/Shared Documents/Advisory Data/Main sector/Flat file/Quang Ninh Province\n",
      "/sites/BIHub/Shared Documents/Advisory Data/Main sector/Flat file/Hung Yen Province\n",
      "/sites/BIHub/Shared Documents/Advisory Data/Main sector/Flat file/Nghe An Province\n",
      "/sites/BIHub/Shared Documents/Advisory Data/Main sector/Flat file/Da Nang City\n",
      "/sites/BIHub/Shared Documents/Advisory Data/Main sector/Flat file/Binh Thuan Province\n",
      "/sites/BIHub/Shared Documents/Advisory Data/Main sector/Flat file/Old\n",
      "/sites/BIHub/Shared Documents/Advisory Data/Main sector/Flat file/Khanh Hoa Province\n",
      "/sites/BIHub/Shared Documents/Advisory Data/Main sector/Flat file/Bac Ninh Province\n",
      "/sites/BIHub/Shared Documents/Advisory Data/Main sector/Flat file/BRVT\n",
      "/sites/BIHub/Shared Documents/Advisory Data/Main sector/Flat file/Binh Duong Province\n",
      "/sites/BIHub/Shared Documents/Advisory Data/Main sector/Flat file/Lam Dong Province\n",
      "/sites/BIHub/Shared Documents/Advisory Data/Main sector/Flat file/Quang Nam Province\n",
      "/sites/BIHub/Shared Documents/Advisory Data/Main sector/Flat file/Ha Noi City\n",
      "/sites/BIHub/Shared Documents/Advisory Data/Main sector/Flat file/Hoa Binh Province\n",
      "/sites/BIHub/Shared Documents/Advisory Data/Main sector/Flat file/Phu Quoc City\n",
      "/sites/BIHub/Shared Documents/Advisory Data/Main sector/Flat file/Hai Phong City\n",
      "/sites/BIHub/Shared Documents/Advisory Data/Main sector/Flat file/Long An Province\n",
      "/sites/BIHub/Shared Documents/Advisory Data/Main sector/Flat file/Thua Thien Hue Province\n",
      "/sites/BIHub/Shared Documents/Advisory Data/Main sector/Flat file/Dong Nai Province\n",
      "/sites/BIHub/Shared Documents/Advisory Data/Main sector/Flat file/Binh Dinh Province\n"
     ]
    }
   ],
   "source": [
    "#Tất cả các tỉnh\n",
    "relative_url = \"/sites/BIHub/Shared Documents/Advisory Data/Main sector/Flat file\"\n",
    "sp_object = relative_url.split('/')[2].replace('-','')\n",
    "list_folder = eval(sp_object).get_content_url(relative_url,return_list_folder=True)"
   ]
  },
  {
   "cell_type": "code",
   "execution_count": 5,
   "id": "162f57a3",
   "metadata": {
    "scrolled": true
   },
   "outputs": [
    {
     "name": "stdout",
     "output_type": "stream",
     "text": [
      "Folder name: /sites/BIHub/Shared Documents/Advisory Data/Main sector/Flat file/Can Tho City/2018\n",
      "/sites/BIHub/Shared Documents/Advisory Data/Main sector/Flat file/Can Tho City/2019\n",
      "/sites/BIHub/Shared Documents/Advisory Data/Main sector/Flat file/Can Tho City/2020\n",
      "Folder name: /sites/BIHub/Shared Documents/Advisory Data/Main sector/Flat file/Ho Chi Minh City/2021\n",
      "/sites/BIHub/Shared Documents/Advisory Data/Main sector/Flat file/Ho Chi Minh City/2017\n",
      "/sites/BIHub/Shared Documents/Advisory Data/Main sector/Flat file/Ho Chi Minh City/2020\n",
      "/sites/BIHub/Shared Documents/Advisory Data/Main sector/Flat file/Ho Chi Minh City/2022\n",
      "/sites/BIHub/Shared Documents/Advisory Data/Main sector/Flat file/Ho Chi Minh City/2019\n",
      "/sites/BIHub/Shared Documents/Advisory Data/Main sector/Flat file/Ho Chi Minh City/2018\n",
      "Folder name: /sites/BIHub/Shared Documents/Advisory Data/Main sector/Flat file/Quang Ninh Province/2017\n",
      "/sites/BIHub/Shared Documents/Advisory Data/Main sector/Flat file/Quang Ninh Province/2021\n",
      "/sites/BIHub/Shared Documents/Advisory Data/Main sector/Flat file/Quang Ninh Province/2022\n",
      "/sites/BIHub/Shared Documents/Advisory Data/Main sector/Flat file/Quang Ninh Province/2020\n",
      "/sites/BIHub/Shared Documents/Advisory Data/Main sector/Flat file/Quang Ninh Province/2018\n",
      "/sites/BIHub/Shared Documents/Advisory Data/Main sector/Flat file/Quang Ninh Province/2019\n",
      "Folder name: /sites/BIHub/Shared Documents/Advisory Data/Main sector/Flat file/Hung Yen Province/2021\n",
      "/sites/BIHub/Shared Documents/Advisory Data/Main sector/Flat file/Hung Yen Province/2022\n",
      "/sites/BIHub/Shared Documents/Advisory Data/Main sector/Flat file/Hung Yen Province/2018\n",
      "Folder name: /sites/BIHub/Shared Documents/Advisory Data/Main sector/Flat file/Nghe An Province/2019\n",
      "/sites/BIHub/Shared Documents/Advisory Data/Main sector/Flat file/Nghe An Province/2022\n",
      "/sites/BIHub/Shared Documents/Advisory Data/Main sector/Flat file/Nghe An Province/2018\n",
      "/sites/BIHub/Shared Documents/Advisory Data/Main sector/Flat file/Nghe An Province/2021\n",
      "Folder name: /sites/BIHub/Shared Documents/Advisory Data/Main sector/Flat file/Da Nang City/2019\n",
      "/sites/BIHub/Shared Documents/Advisory Data/Main sector/Flat file/Da Nang City/2017\n",
      "/sites/BIHub/Shared Documents/Advisory Data/Main sector/Flat file/Da Nang City/2021\n",
      "/sites/BIHub/Shared Documents/Advisory Data/Main sector/Flat file/Da Nang City/2020\n",
      "/sites/BIHub/Shared Documents/Advisory Data/Main sector/Flat file/Da Nang City/2022\n",
      "/sites/BIHub/Shared Documents/Advisory Data/Main sector/Flat file/Da Nang City/2018\n",
      "Folder name: /sites/BIHub/Shared Documents/Advisory Data/Main sector/Flat file/Binh Thuan Province/2018\n",
      "/sites/BIHub/Shared Documents/Advisory Data/Main sector/Flat file/Binh Thuan Province/2017\n",
      "/sites/BIHub/Shared Documents/Advisory Data/Main sector/Flat file/Binh Thuan Province/2021\n",
      "/sites/BIHub/Shared Documents/Advisory Data/Main sector/Flat file/Binh Thuan Province/2020\n",
      "/sites/BIHub/Shared Documents/Advisory Data/Main sector/Flat file/Binh Thuan Province/2019\n",
      "Folder name: /sites/BIHub/Shared Documents/Advisory Data/Main sector/Flat file/Old/Da Nang City1\n",
      "/sites/BIHub/Shared Documents/Advisory Data/Main sector/Flat file/Old/Quang Ninh Province\n",
      "/sites/BIHub/Shared Documents/Advisory Data/Main sector/Flat file/Old/Kien Giang Province\n",
      "/sites/BIHub/Shared Documents/Advisory Data/Main sector/Flat file/Old/Ha Noi City\n",
      "/sites/BIHub/Shared Documents/Advisory Data/Main sector/Flat file/Old/Hoa Binh Province\n",
      "/sites/BIHub/Shared Documents/Advisory Data/Main sector/Flat file/Old/Khanh Hoa Province\n",
      "/sites/BIHub/Shared Documents/Advisory Data/Main sector/Flat file/Old/Quang Nam Province\n",
      "/sites/BIHub/Shared Documents/Advisory Data/Main sector/Flat file/Old/Da Nang City2\n",
      "/sites/BIHub/Shared Documents/Advisory Data/Main sector/Flat file/Old/Ho Chi Minh City\n",
      "/sites/BIHub/Shared Documents/Advisory Data/Main sector/Flat file/Old/Quang Ninh Province1\n",
      "/sites/BIHub/Shared Documents/Advisory Data/Main sector/Flat file/Old/Binh Thuan Province\n",
      "/sites/BIHub/Shared Documents/Advisory Data/Main sector/Flat file/Old/Da Nang City\n",
      "/sites/BIHub/Shared Documents/Advisory Data/Main sector/Flat file/Old/Thua Thien Hue Province\n",
      "Folder name: /sites/BIHub/Shared Documents/Advisory Data/Main sector/Flat file/Khanh Hoa Province/2021\n",
      "/sites/BIHub/Shared Documents/Advisory Data/Main sector/Flat file/Khanh Hoa Province/2020\n",
      "/sites/BIHub/Shared Documents/Advisory Data/Main sector/Flat file/Khanh Hoa Province/2022\n",
      "/sites/BIHub/Shared Documents/Advisory Data/Main sector/Flat file/Khanh Hoa Province/2019\n",
      "Folder name: /sites/BIHub/Shared Documents/Advisory Data/Main sector/Flat file/Bac Ninh Province/2019\n",
      "/sites/BIHub/Shared Documents/Advisory Data/Main sector/Flat file/Bac Ninh Province/2021\n",
      "/sites/BIHub/Shared Documents/Advisory Data/Main sector/Flat file/Bac Ninh Province/2018\n",
      "/sites/BIHub/Shared Documents/Advisory Data/Main sector/Flat file/Bac Ninh Province/2022\n",
      "/sites/BIHub/Shared Documents/Advisory Data/Main sector/Flat file/Bac Ninh Province/2020\n",
      "Folder name: /sites/BIHub/Shared Documents/Advisory Data/Main sector/Flat file/BRVT/2020\n",
      "/sites/BIHub/Shared Documents/Advisory Data/Main sector/Flat file/BRVT/2021\n",
      "/sites/BIHub/Shared Documents/Advisory Data/Main sector/Flat file/BRVT/2019\n",
      "/sites/BIHub/Shared Documents/Advisory Data/Main sector/Flat file/BRVT/2022\n",
      "Folder name: /sites/BIHub/Shared Documents/Advisory Data/Main sector/Flat file/Binh Duong Province/2022\n",
      "/sites/BIHub/Shared Documents/Advisory Data/Main sector/Flat file/Binh Duong Province/2019\n",
      "/sites/BIHub/Shared Documents/Advisory Data/Main sector/Flat file/Binh Duong Province/2018\n",
      "/sites/BIHub/Shared Documents/Advisory Data/Main sector/Flat file/Binh Duong Province/2021\n",
      "/sites/BIHub/Shared Documents/Advisory Data/Main sector/Flat file/Binh Duong Province/2020\n",
      "Folder name: /sites/BIHub/Shared Documents/Advisory Data/Main sector/Flat file/Lam Dong Province/2018\n",
      "/sites/BIHub/Shared Documents/Advisory Data/Main sector/Flat file/Lam Dong Province/2021\n",
      "/sites/BIHub/Shared Documents/Advisory Data/Main sector/Flat file/Lam Dong Province/2017\n",
      "/sites/BIHub/Shared Documents/Advisory Data/Main sector/Flat file/Lam Dong Province/2020\n",
      "Folder name: /sites/BIHub/Shared Documents/Advisory Data/Main sector/Flat file/Quang Nam Province/2017\n",
      "/sites/BIHub/Shared Documents/Advisory Data/Main sector/Flat file/Quang Nam Province/2018\n",
      "/sites/BIHub/Shared Documents/Advisory Data/Main sector/Flat file/Quang Nam Province/2020\n",
      "Folder name: /sites/BIHub/Shared Documents/Advisory Data/Main sector/Flat file/Ha Noi City/2021\n",
      "/sites/BIHub/Shared Documents/Advisory Data/Main sector/Flat file/Ha Noi City/2017\n",
      "/sites/BIHub/Shared Documents/Advisory Data/Main sector/Flat file/Ha Noi City/2020\n",
      "/sites/BIHub/Shared Documents/Advisory Data/Main sector/Flat file/Ha Noi City/2022\n",
      "/sites/BIHub/Shared Documents/Advisory Data/Main sector/Flat file/Ha Noi City/2018\n",
      "/sites/BIHub/Shared Documents/Advisory Data/Main sector/Flat file/Ha Noi City/2019\n",
      "Folder name: /sites/BIHub/Shared Documents/Advisory Data/Main sector/Flat file/Hoa Binh Province/2021\n",
      "Folder name: /sites/BIHub/Shared Documents/Advisory Data/Main sector/Flat file/Phu Quoc City/2017\n",
      "/sites/BIHub/Shared Documents/Advisory Data/Main sector/Flat file/Phu Quoc City/2020\n",
      "/sites/BIHub/Shared Documents/Advisory Data/Main sector/Flat file/Phu Quoc City/2021\n",
      "/sites/BIHub/Shared Documents/Advisory Data/Main sector/Flat file/Phu Quoc City/2019\n",
      "/sites/BIHub/Shared Documents/Advisory Data/Main sector/Flat file/Phu Quoc City/2018\n",
      "/sites/BIHub/Shared Documents/Advisory Data/Main sector/Flat file/Phu Quoc City/2016\n",
      "Folder name: /sites/BIHub/Shared Documents/Advisory Data/Main sector/Flat file/Hai Phong City/2019\n",
      "/sites/BIHub/Shared Documents/Advisory Data/Main sector/Flat file/Hai Phong City/2021\n",
      "/sites/BIHub/Shared Documents/Advisory Data/Main sector/Flat file/Hai Phong City/2018\n",
      "/sites/BIHub/Shared Documents/Advisory Data/Main sector/Flat file/Hai Phong City/2017\n",
      "/sites/BIHub/Shared Documents/Advisory Data/Main sector/Flat file/Hai Phong City/2022\n",
      "/sites/BIHub/Shared Documents/Advisory Data/Main sector/Flat file/Hai Phong City/2020\n",
      "Folder name: /sites/BIHub/Shared Documents/Advisory Data/Main sector/Flat file/Long An Province/2019\n",
      "/sites/BIHub/Shared Documents/Advisory Data/Main sector/Flat file/Long An Province/2022\n",
      "/sites/BIHub/Shared Documents/Advisory Data/Main sector/Flat file/Long An Province/2018\n",
      "/sites/BIHub/Shared Documents/Advisory Data/Main sector/Flat file/Long An Province/2020\n",
      "/sites/BIHub/Shared Documents/Advisory Data/Main sector/Flat file/Long An Province/2021\n",
      "/sites/BIHub/Shared Documents/Advisory Data/Main sector/Flat file/Long An Province/2017\n"
     ]
    },
    {
     "name": "stdout",
     "output_type": "stream",
     "text": [
      "Folder name: /sites/BIHub/Shared Documents/Advisory Data/Main sector/Flat file/Thua Thien Hue Province/2017\n",
      "/sites/BIHub/Shared Documents/Advisory Data/Main sector/Flat file/Thua Thien Hue Province/2022\n",
      "/sites/BIHub/Shared Documents/Advisory Data/Main sector/Flat file/Thua Thien Hue Province/2021\n",
      "/sites/BIHub/Shared Documents/Advisory Data/Main sector/Flat file/Thua Thien Hue Province/2019\n",
      "Folder name: /sites/BIHub/Shared Documents/Advisory Data/Main sector/Flat file/Dong Nai Province/2017\n",
      "/sites/BIHub/Shared Documents/Advisory Data/Main sector/Flat file/Dong Nai Province/2019\n",
      "/sites/BIHub/Shared Documents/Advisory Data/Main sector/Flat file/Dong Nai Province/2022\n",
      "/sites/BIHub/Shared Documents/Advisory Data/Main sector/Flat file/Dong Nai Province/2018\n",
      "/sites/BIHub/Shared Documents/Advisory Data/Main sector/Flat file/Dong Nai Province/2021\n",
      "/sites/BIHub/Shared Documents/Advisory Data/Main sector/Flat file/Dong Nai Province/Old\n",
      "/sites/BIHub/Shared Documents/Advisory Data/Main sector/Flat file/Dong Nai Province/2020\n",
      "Folder name: /sites/BIHub/Shared Documents/Advisory Data/Main sector/Flat file/Binh Dinh Province/2022\n",
      "/sites/BIHub/Shared Documents/Advisory Data/Main sector/Flat file/Binh Dinh Province/2021\n",
      "/sites/BIHub/Shared Documents/Advisory Data/Main sector/Flat file/Binh Dinh Province/2019\n",
      "/sites/BIHub/Shared Documents/Advisory Data/Main sector/Flat file/Binh Dinh Province/2020\n"
     ]
    }
   ],
   "source": [
    "#lấy năm\n",
    "list_folder_sub1=[]\n",
    "for i in list_folder:\n",
    "    ls=eval(sp_object).get_content_url(i,return_list_folder=True)\n",
    "    list_folder_sub1=list_folder_sub1+ls"
   ]
  },
  {
   "cell_type": "code",
   "execution_count": 6,
   "id": "338da9f5",
   "metadata": {
    "scrolled": true
   },
   "outputs": [
    {
     "name": "stdout",
     "output_type": "stream",
     "text": [
      "Folder name: /sites/BIHub/Shared Documents/Advisory Data/Main sector/Flat file/Can Tho City/2018/Q1\n",
      "Folder name: /sites/BIHub/Shared Documents/Advisory Data/Main sector/Flat file/Can Tho City/2019/Q4\n",
      "Folder name: /sites/BIHub/Shared Documents/Advisory Data/Main sector/Flat file/Can Tho City/2020/Q3\n",
      "Folder name: /sites/BIHub/Shared Documents/Advisory Data/Main sector/Flat file/Ho Chi Minh City/2021/Q3\n",
      "/sites/BIHub/Shared Documents/Advisory Data/Main sector/Flat file/Ho Chi Minh City/2021/Q1\n",
      "/sites/BIHub/Shared Documents/Advisory Data/Main sector/Flat file/Ho Chi Minh City/2021/Q4\n",
      "/sites/BIHub/Shared Documents/Advisory Data/Main sector/Flat file/Ho Chi Minh City/2021/Q2\n",
      "Folder name: /sites/BIHub/Shared Documents/Advisory Data/Main sector/Flat file/Ho Chi Minh City/2017/Q3\n",
      "/sites/BIHub/Shared Documents/Advisory Data/Main sector/Flat file/Ho Chi Minh City/2017/Q4\n",
      "/sites/BIHub/Shared Documents/Advisory Data/Main sector/Flat file/Ho Chi Minh City/2017/Q2\n",
      "/sites/BIHub/Shared Documents/Advisory Data/Main sector/Flat file/Ho Chi Minh City/2017/Q1\n",
      "Folder name: /sites/BIHub/Shared Documents/Advisory Data/Main sector/Flat file/Ho Chi Minh City/2020/Q3\n",
      "/sites/BIHub/Shared Documents/Advisory Data/Main sector/Flat file/Ho Chi Minh City/2020/Q2\n",
      "/sites/BIHub/Shared Documents/Advisory Data/Main sector/Flat file/Ho Chi Minh City/2020/Q1\n",
      "/sites/BIHub/Shared Documents/Advisory Data/Main sector/Flat file/Ho Chi Minh City/2020/Q4\n",
      "Folder name: /sites/BIHub/Shared Documents/Advisory Data/Main sector/Flat file/Ho Chi Minh City/2022/Q2\n",
      "/sites/BIHub/Shared Documents/Advisory Data/Main sector/Flat file/Ho Chi Minh City/2022/Q1\n",
      "Folder name: /sites/BIHub/Shared Documents/Advisory Data/Main sector/Flat file/Ho Chi Minh City/2019/Q3\n",
      "/sites/BIHub/Shared Documents/Advisory Data/Main sector/Flat file/Ho Chi Minh City/2019/Q1\n",
      "/sites/BIHub/Shared Documents/Advisory Data/Main sector/Flat file/Ho Chi Minh City/2019/Q2\n",
      "/sites/BIHub/Shared Documents/Advisory Data/Main sector/Flat file/Ho Chi Minh City/2019/Q4\n",
      "Folder name: /sites/BIHub/Shared Documents/Advisory Data/Main sector/Flat file/Ho Chi Minh City/2018/Q3\n",
      "/sites/BIHub/Shared Documents/Advisory Data/Main sector/Flat file/Ho Chi Minh City/2018/Q1\n",
      "/sites/BIHub/Shared Documents/Advisory Data/Main sector/Flat file/Ho Chi Minh City/2018/Q2\n",
      "/sites/BIHub/Shared Documents/Advisory Data/Main sector/Flat file/Ho Chi Minh City/2018/Q4\n",
      "Folder name: /sites/BIHub/Shared Documents/Advisory Data/Main sector/Flat file/Quang Ninh Province/2017/Q3\n",
      "/sites/BIHub/Shared Documents/Advisory Data/Main sector/Flat file/Quang Ninh Province/2017/Q4\n",
      "Folder name: /sites/BIHub/Shared Documents/Advisory Data/Main sector/Flat file/Quang Ninh Province/2021/Q3\n",
      "Folder name: /sites/BIHub/Shared Documents/Advisory Data/Main sector/Flat file/Quang Ninh Province/2022/Q2\n",
      "Folder name: /sites/BIHub/Shared Documents/Advisory Data/Main sector/Flat file/Quang Ninh Province/2020/Q2\n",
      "/sites/BIHub/Shared Documents/Advisory Data/Main sector/Flat file/Quang Ninh Province/2020/Q4\n",
      "Folder name: /sites/BIHub/Shared Documents/Advisory Data/Main sector/Flat file/Quang Ninh Province/2018/Q2\n",
      "/sites/BIHub/Shared Documents/Advisory Data/Main sector/Flat file/Quang Ninh Province/2018/Q1\n",
      "/sites/BIHub/Shared Documents/Advisory Data/Main sector/Flat file/Quang Ninh Province/2018/Q4\n",
      "Folder name: /sites/BIHub/Shared Documents/Advisory Data/Main sector/Flat file/Quang Ninh Province/2019/Q2\n",
      "/sites/BIHub/Shared Documents/Advisory Data/Main sector/Flat file/Quang Ninh Province/2019/Q4\n",
      "/sites/BIHub/Shared Documents/Advisory Data/Main sector/Flat file/Quang Ninh Province/2019/Q1\n",
      "Folder name: /sites/BIHub/Shared Documents/Advisory Data/Main sector/Flat file/Hung Yen Province/2021/Q2\n",
      "Folder name: /sites/BIHub/Shared Documents/Advisory Data/Main sector/Flat file/Hung Yen Province/2022/Q2\n",
      "Folder name: /sites/BIHub/Shared Documents/Advisory Data/Main sector/Flat file/Hung Yen Province/2018/Q1\n",
      "Folder name: /sites/BIHub/Shared Documents/Advisory Data/Main sector/Flat file/Nghe An Province/2019/Q4\n",
      "Folder name: /sites/BIHub/Shared Documents/Advisory Data/Main sector/Flat file/Nghe An Province/2022/Q1\n",
      "Folder name: /sites/BIHub/Shared Documents/Advisory Data/Main sector/Flat file/Nghe An Province/2018/Q3\n",
      "Folder name: /sites/BIHub/Shared Documents/Advisory Data/Main sector/Flat file/Nghe An Province/2021/Q4\n",
      "/sites/BIHub/Shared Documents/Advisory Data/Main sector/Flat file/Nghe An Province/2021/Q1\n",
      "Folder name: /sites/BIHub/Shared Documents/Advisory Data/Main sector/Flat file/Da Nang City/2019/Q4\n",
      "Folder name: /sites/BIHub/Shared Documents/Advisory Data/Main sector/Flat file/Da Nang City/2017/Q4\n",
      "Folder name: /sites/BIHub/Shared Documents/Advisory Data/Main sector/Flat file/Da Nang City/2021/Q2\n",
      "/sites/BIHub/Shared Documents/Advisory Data/Main sector/Flat file/Da Nang City/2021/Q4\n",
      "Folder name: /sites/BIHub/Shared Documents/Advisory Data/Main sector/Flat file/Da Nang City/2020/Q4\n",
      "/sites/BIHub/Shared Documents/Advisory Data/Main sector/Flat file/Da Nang City/2020/Q2\n",
      "Folder name: /sites/BIHub/Shared Documents/Advisory Data/Main sector/Flat file/Da Nang City/2022/Q1\n",
      "Folder name: /sites/BIHub/Shared Documents/Advisory Data/Main sector/Flat file/Da Nang City/2018/Q1\n",
      "/sites/BIHub/Shared Documents/Advisory Data/Main sector/Flat file/Da Nang City/2018/Q4\n",
      "Folder name: /sites/BIHub/Shared Documents/Advisory Data/Main sector/Flat file/Binh Thuan Province/2018/Q3\n",
      "/sites/BIHub/Shared Documents/Advisory Data/Main sector/Flat file/Binh Thuan Province/2018/Q2\n",
      "Folder name: /sites/BIHub/Shared Documents/Advisory Data/Main sector/Flat file/Binh Thuan Province/2017/Q2\n",
      "/sites/BIHub/Shared Documents/Advisory Data/Main sector/Flat file/Binh Thuan Province/2017/Q4\n",
      "Folder name: /sites/BIHub/Shared Documents/Advisory Data/Main sector/Flat file/Binh Thuan Province/2021/Q1\n",
      "Folder name: /sites/BIHub/Shared Documents/Advisory Data/Main sector/Flat file/Binh Thuan Province/2020/Q4\n",
      "Folder name: /sites/BIHub/Shared Documents/Advisory Data/Main sector/Flat file/Binh Thuan Province/2019/Q2\n",
      "/sites/BIHub/Shared Documents/Advisory Data/Main sector/Flat file/Binh Thuan Province/2019/Q4\n",
      "Folder name: /sites/BIHub/Shared Documents/Advisory Data/Main sector/Flat file/Old/Da Nang City1/2018\n",
      "/sites/BIHub/Shared Documents/Advisory Data/Main sector/Flat file/Old/Da Nang City1/2017\n",
      "/sites/BIHub/Shared Documents/Advisory Data/Main sector/Flat file/Old/Da Nang City1/2021\n",
      "/sites/BIHub/Shared Documents/Advisory Data/Main sector/Flat file/Old/Da Nang City1/2016\n",
      "/sites/BIHub/Shared Documents/Advisory Data/Main sector/Flat file/Old/Da Nang City1/2019\n",
      "/sites/BIHub/Shared Documents/Advisory Data/Main sector/Flat file/Old/Da Nang City1/2020\n",
      "Folder name: /sites/BIHub/Shared Documents/Advisory Data/Main sector/Flat file/Old/Quang Ninh Province/2019\n",
      "Folder name: /sites/BIHub/Shared Documents/Advisory Data/Main sector/Flat file/Old/Kien Giang Province/2021\n",
      "Folder name: /sites/BIHub/Shared Documents/Advisory Data/Main sector/Flat file/Old/Ha Noi City/2021\n",
      "Folder name: /sites/BIHub/Shared Documents/Advisory Data/Main sector/Flat file/Old/Hoa Binh Province/2021\n",
      "Folder name: /sites/BIHub/Shared Documents/Advisory Data/Main sector/Flat file/Old/Khanh Hoa Province/2021\n",
      "Folder name: /sites/BIHub/Shared Documents/Advisory Data/Main sector/Flat file/Old/Quang Nam Province/2020\n",
      "Folder name: /sites/BIHub/Shared Documents/Advisory Data/Main sector/Flat file/Old/Da Nang City2/2021\n",
      "/sites/BIHub/Shared Documents/Advisory Data/Main sector/Flat file/Old/Da Nang City2/2018\n",
      "/sites/BIHub/Shared Documents/Advisory Data/Main sector/Flat file/Old/Da Nang City2/2019\n",
      "/sites/BIHub/Shared Documents/Advisory Data/Main sector/Flat file/Old/Da Nang City2/2020\n",
      "/sites/BIHub/Shared Documents/Advisory Data/Main sector/Flat file/Old/Da Nang City2/2017\n",
      "/sites/BIHub/Shared Documents/Advisory Data/Main sector/Flat file/Old/Da Nang City2/2022\n",
      "Folder name: /sites/BIHub/Shared Documents/Advisory Data/Main sector/Flat file/Old/Ho Chi Minh City/2021\n",
      "Folder name: /sites/BIHub/Shared Documents/Advisory Data/Main sector/Flat file/Old/Quang Ninh Province1/2018\n",
      "/sites/BIHub/Shared Documents/Advisory Data/Main sector/Flat file/Old/Quang Ninh Province1/2019\n",
      "/sites/BIHub/Shared Documents/Advisory Data/Main sector/Flat file/Old/Quang Ninh Province1/2020\n",
      "/sites/BIHub/Shared Documents/Advisory Data/Main sector/Flat file/Old/Quang Ninh Province1/2021\n"
     ]
    },
    {
     "name": "stdout",
     "output_type": "stream",
     "text": [
      "Folder name: /sites/BIHub/Shared Documents/Advisory Data/Main sector/Flat file/Old/Binh Thuan Province/2021\n",
      "Folder name: /sites/BIHub/Shared Documents/Advisory Data/Main sector/Flat file/Old/Da Nang City/2020\n",
      "Folder name: /sites/BIHub/Shared Documents/Advisory Data/Main sector/Flat file/Old/Thua Thien Hue Province/2020\n",
      "/sites/BIHub/Shared Documents/Advisory Data/Main sector/Flat file/Old/Thua Thien Hue Province/2021\n",
      "/sites/BIHub/Shared Documents/Advisory Data/Main sector/Flat file/Old/Thua Thien Hue Province/Q1\n",
      "Folder name: /sites/BIHub/Shared Documents/Advisory Data/Main sector/Flat file/Khanh Hoa Province/2021/Q1\n",
      "Folder name: /sites/BIHub/Shared Documents/Advisory Data/Main sector/Flat file/Khanh Hoa Province/2020/Q4\n",
      "/sites/BIHub/Shared Documents/Advisory Data/Main sector/Flat file/Khanh Hoa Province/2020/Q2\n",
      "Folder name: /sites/BIHub/Shared Documents/Advisory Data/Main sector/Flat file/Khanh Hoa Province/2022/Q1\n",
      "Folder name: /sites/BIHub/Shared Documents/Advisory Data/Main sector/Flat file/Khanh Hoa Province/2019/Q2\n",
      "/sites/BIHub/Shared Documents/Advisory Data/Main sector/Flat file/Khanh Hoa Province/2019/Q4\n",
      "Folder name: /sites/BIHub/Shared Documents/Advisory Data/Main sector/Flat file/Bac Ninh Province/2019/Q1\n",
      "/sites/BIHub/Shared Documents/Advisory Data/Main sector/Flat file/Bac Ninh Province/2019/Q4\n",
      "Folder name: /sites/BIHub/Shared Documents/Advisory Data/Main sector/Flat file/Bac Ninh Province/2021/Q4\n",
      "Folder name: /sites/BIHub/Shared Documents/Advisory Data/Main sector/Flat file/Bac Ninh Province/2018/Q2\n",
      "Folder name: /sites/BIHub/Shared Documents/Advisory Data/Main sector/Flat file/Bac Ninh Province/2022/Q1\n",
      "/sites/BIHub/Shared Documents/Advisory Data/Main sector/Flat file/Bac Ninh Province/2022/Q2\n",
      "Folder name: /sites/BIHub/Shared Documents/Advisory Data/Main sector/Flat file/Bac Ninh Province/2020/Q2\n",
      "/sites/BIHub/Shared Documents/Advisory Data/Main sector/Flat file/Bac Ninh Province/2020/Q1\n",
      "Folder name: /sites/BIHub/Shared Documents/Advisory Data/Main sector/Flat file/BRVT/2020/Q2\n",
      "Folder name: /sites/BIHub/Shared Documents/Advisory Data/Main sector/Flat file/BRVT/2021/Q1\n",
      "Folder name: /sites/BIHub/Shared Documents/Advisory Data/Main sector/Flat file/BRVT/2019/Q4\n",
      "/sites/BIHub/Shared Documents/Advisory Data/Main sector/Flat file/BRVT/2019/Q3\n",
      "Folder name: /sites/BIHub/Shared Documents/Advisory Data/Main sector/Flat file/BRVT/2022/Q2\n",
      "/sites/BIHub/Shared Documents/Advisory Data/Main sector/Flat file/BRVT/2022/Q1\n",
      "Folder name: /sites/BIHub/Shared Documents/Advisory Data/Main sector/Flat file/Binh Duong Province/2022/Q1\n",
      "Folder name: /sites/BIHub/Shared Documents/Advisory Data/Main sector/Flat file/Binh Duong Province/2019/Q4\n",
      "/sites/BIHub/Shared Documents/Advisory Data/Main sector/Flat file/Binh Duong Province/2019/Q1\n",
      "/sites/BIHub/Shared Documents/Advisory Data/Main sector/Flat file/Binh Duong Province/2019/Q2\n",
      "/sites/BIHub/Shared Documents/Advisory Data/Main sector/Flat file/Binh Duong Province/2019/Q3\n",
      "Folder name: /sites/BIHub/Shared Documents/Advisory Data/Main sector/Flat file/Binh Duong Province/2018/Q1\n",
      "/sites/BIHub/Shared Documents/Advisory Data/Main sector/Flat file/Binh Duong Province/2018/Q4\n",
      "Folder name: /sites/BIHub/Shared Documents/Advisory Data/Main sector/Flat file/Binh Duong Province/2021/Q4\n",
      "/sites/BIHub/Shared Documents/Advisory Data/Main sector/Flat file/Binh Duong Province/2021/Q1\n",
      "/sites/BIHub/Shared Documents/Advisory Data/Main sector/Flat file/Binh Duong Province/2021/Q3\n",
      "/sites/BIHub/Shared Documents/Advisory Data/Main sector/Flat file/Binh Duong Province/2021/Q2\n",
      "Folder name: /sites/BIHub/Shared Documents/Advisory Data/Main sector/Flat file/Binh Duong Province/2020/Q1\n",
      "/sites/BIHub/Shared Documents/Advisory Data/Main sector/Flat file/Binh Duong Province/2020/Q4\n",
      "Folder name: /sites/BIHub/Shared Documents/Advisory Data/Main sector/Flat file/Lam Dong Province/2018/Q2\n",
      "Folder name: /sites/BIHub/Shared Documents/Advisory Data/Main sector/Flat file/Lam Dong Province/2021/Q3\n",
      "Folder name: /sites/BIHub/Shared Documents/Advisory Data/Main sector/Flat file/Lam Dong Province/2017/Q1\n",
      "Folder name: /sites/BIHub/Shared Documents/Advisory Data/Main sector/Flat file/Lam Dong Province/2020/Q4\n",
      "Folder name: /sites/BIHub/Shared Documents/Advisory Data/Main sector/Flat file/Quang Nam Province/2017/Q2\n",
      "Folder name: /sites/BIHub/Shared Documents/Advisory Data/Main sector/Flat file/Quang Nam Province/2018/Q1\n",
      "Folder name: /sites/BIHub/Shared Documents/Advisory Data/Main sector/Flat file/Quang Nam Province/2020/Q3\n",
      "Folder name: /sites/BIHub/Shared Documents/Advisory Data/Main sector/Flat file/Ha Noi City/2021/Q4\n",
      "/sites/BIHub/Shared Documents/Advisory Data/Main sector/Flat file/Ha Noi City/2021/Q3\n",
      "/sites/BIHub/Shared Documents/Advisory Data/Main sector/Flat file/Ha Noi City/2021/Q1\n",
      "/sites/BIHub/Shared Documents/Advisory Data/Main sector/Flat file/Ha Noi City/2021/Q2\n",
      "Folder name: /sites/BIHub/Shared Documents/Advisory Data/Main sector/Flat file/Ha Noi City/2017/Q1\n",
      "/sites/BIHub/Shared Documents/Advisory Data/Main sector/Flat file/Ha Noi City/2017/Q3\n",
      "/sites/BIHub/Shared Documents/Advisory Data/Main sector/Flat file/Ha Noi City/2017/Q4\n",
      "/sites/BIHub/Shared Documents/Advisory Data/Main sector/Flat file/Ha Noi City/2017/Q2\n",
      "Folder name: /sites/BIHub/Shared Documents/Advisory Data/Main sector/Flat file/Ha Noi City/2020/Q4\n",
      "/sites/BIHub/Shared Documents/Advisory Data/Main sector/Flat file/Ha Noi City/2020/Q3\n",
      "/sites/BIHub/Shared Documents/Advisory Data/Main sector/Flat file/Ha Noi City/2020/Q2\n",
      "/sites/BIHub/Shared Documents/Advisory Data/Main sector/Flat file/Ha Noi City/2020/Q1\n",
      "Folder name: /sites/BIHub/Shared Documents/Advisory Data/Main sector/Flat file/Ha Noi City/2022/Q2\n",
      "/sites/BIHub/Shared Documents/Advisory Data/Main sector/Flat file/Ha Noi City/2022/Q1\n",
      "Folder name: /sites/BIHub/Shared Documents/Advisory Data/Main sector/Flat file/Ha Noi City/2018/Q3\n",
      "/sites/BIHub/Shared Documents/Advisory Data/Main sector/Flat file/Ha Noi City/2018/Q2\n",
      "/sites/BIHub/Shared Documents/Advisory Data/Main sector/Flat file/Ha Noi City/2018/Q1\n",
      "/sites/BIHub/Shared Documents/Advisory Data/Main sector/Flat file/Ha Noi City/2018/Q4\n",
      "Folder name: /sites/BIHub/Shared Documents/Advisory Data/Main sector/Flat file/Ha Noi City/2019/Q4\n",
      "/sites/BIHub/Shared Documents/Advisory Data/Main sector/Flat file/Ha Noi City/2019/Q3\n",
      "/sites/BIHub/Shared Documents/Advisory Data/Main sector/Flat file/Ha Noi City/2019/Q1\n",
      "/sites/BIHub/Shared Documents/Advisory Data/Main sector/Flat file/Ha Noi City/2019/Q2\n",
      "Folder name: /sites/BIHub/Shared Documents/Advisory Data/Main sector/Flat file/Hoa Binh Province/2021/Q2\n",
      "/sites/BIHub/Shared Documents/Advisory Data/Main sector/Flat file/Hoa Binh Province/2021/Q1\n",
      "Folder name: /sites/BIHub/Shared Documents/Advisory Data/Main sector/Flat file/Phu Quoc City/2017/Q3\n",
      "/sites/BIHub/Shared Documents/Advisory Data/Main sector/Flat file/Phu Quoc City/2017/Q2\n",
      "/sites/BIHub/Shared Documents/Advisory Data/Main sector/Flat file/Phu Quoc City/2017/Q1\n",
      "Folder name: /sites/BIHub/Shared Documents/Advisory Data/Main sector/Flat file/Phu Quoc City/2020/Q3\n",
      "/sites/BIHub/Shared Documents/Advisory Data/Main sector/Flat file/Phu Quoc City/2020/Q1\n",
      "Folder name: /sites/BIHub/Shared Documents/Advisory Data/Main sector/Flat file/Phu Quoc City/2021/Q1\n",
      "/sites/BIHub/Shared Documents/Advisory Data/Main sector/Flat file/Phu Quoc City/2021/Q2\n",
      "Folder name: /sites/BIHub/Shared Documents/Advisory Data/Main sector/Flat file/Phu Quoc City/2019/Q1\n",
      "/sites/BIHub/Shared Documents/Advisory Data/Main sector/Flat file/Phu Quoc City/2019/Q3\n",
      "/sites/BIHub/Shared Documents/Advisory Data/Main sector/Flat file/Phu Quoc City/2019/Q4\n",
      "Folder name: /sites/BIHub/Shared Documents/Advisory Data/Main sector/Flat file/Phu Quoc City/2018/Q3\n",
      "/sites/BIHub/Shared Documents/Advisory Data/Main sector/Flat file/Phu Quoc City/2018/Q4\n",
      "Folder name: /sites/BIHub/Shared Documents/Advisory Data/Main sector/Flat file/Phu Quoc City/2016/Q4\n",
      "/sites/BIHub/Shared Documents/Advisory Data/Main sector/Flat file/Phu Quoc City/2016/Q1\n",
      "Folder name: /sites/BIHub/Shared Documents/Advisory Data/Main sector/Flat file/Hai Phong City/2019/Q4\n",
      "Folder name: /sites/BIHub/Shared Documents/Advisory Data/Main sector/Flat file/Hai Phong City/2021/Q4\n",
      "Folder name: /sites/BIHub/Shared Documents/Advisory Data/Main sector/Flat file/Hai Phong City/2018/Q4\n",
      "/sites/BIHub/Shared Documents/Advisory Data/Main sector/Flat file/Hai Phong City/2018/Q2\n"
     ]
    },
    {
     "name": "stdout",
     "output_type": "stream",
     "text": [
      "Folder name: /sites/BIHub/Shared Documents/Advisory Data/Main sector/Flat file/Hai Phong City/2017/Q3\n",
      "/sites/BIHub/Shared Documents/Advisory Data/Main sector/Flat file/Hai Phong City/2017/Q4\n",
      "/sites/BIHub/Shared Documents/Advisory Data/Main sector/Flat file/Hai Phong City/2017/Q2\n",
      "/sites/BIHub/Shared Documents/Advisory Data/Main sector/Flat file/Hai Phong City/2017/Q1\n",
      "Folder name: /sites/BIHub/Shared Documents/Advisory Data/Main sector/Flat file/Hai Phong City/2022/Q2\n",
      "Folder name: /sites/BIHub/Shared Documents/Advisory Data/Main sector/Flat file/Hai Phong City/2020/Q4\n",
      "Folder name: /sites/BIHub/Shared Documents/Advisory Data/Main sector/Flat file/Long An Province/2019/Q4\n",
      "Folder name: /sites/BIHub/Shared Documents/Advisory Data/Main sector/Flat file/Long An Province/2022/Q1\n",
      "Folder name: /sites/BIHub/Shared Documents/Advisory Data/Main sector/Flat file/Long An Province/2018/Q4\n",
      "Folder name: /sites/BIHub/Shared Documents/Advisory Data/Main sector/Flat file/Long An Province/2020/Q2\n",
      "/sites/BIHub/Shared Documents/Advisory Data/Main sector/Flat file/Long An Province/2020/Q1\n",
      "Folder name: /sites/BIHub/Shared Documents/Advisory Data/Main sector/Flat file/Long An Province/2021/Q1\n",
      "/sites/BIHub/Shared Documents/Advisory Data/Main sector/Flat file/Long An Province/2021/Q4\n",
      "Folder name: /sites/BIHub/Shared Documents/Advisory Data/Main sector/Flat file/Long An Province/2017/Q1\n",
      "Folder name: /sites/BIHub/Shared Documents/Advisory Data/Main sector/Flat file/Thua Thien Hue Province/2017/Q1\n",
      "/sites/BIHub/Shared Documents/Advisory Data/Main sector/Flat file/Thua Thien Hue Province/2017/Q2\n",
      "Folder name: /sites/BIHub/Shared Documents/Advisory Data/Main sector/Flat file/Thua Thien Hue Province/2022/Q2\n",
      "Folder name: /sites/BIHub/Shared Documents/Advisory Data/Main sector/Flat file/Thua Thien Hue Province/2021/Q3\n",
      "Folder name: /sites/BIHub/Shared Documents/Advisory Data/Main sector/Flat file/Thua Thien Hue Province/2019/Q3\n",
      "Folder name: /sites/BIHub/Shared Documents/Advisory Data/Main sector/Flat file/Dong Nai Province/2017/Q2\n",
      "/sites/BIHub/Shared Documents/Advisory Data/Main sector/Flat file/Dong Nai Province/2017/Q4\n",
      "Folder name: /sites/BIHub/Shared Documents/Advisory Data/Main sector/Flat file/Dong Nai Province/2019/Q4\n",
      "/sites/BIHub/Shared Documents/Advisory Data/Main sector/Flat file/Dong Nai Province/2019/Q2\n",
      "/sites/BIHub/Shared Documents/Advisory Data/Main sector/Flat file/Dong Nai Province/2019/Q3\n",
      "/sites/BIHub/Shared Documents/Advisory Data/Main sector/Flat file/Dong Nai Province/2019/Q1\n",
      "Folder name: /sites/BIHub/Shared Documents/Advisory Data/Main sector/Flat file/Dong Nai Province/2022/Q1\n",
      "/sites/BIHub/Shared Documents/Advisory Data/Main sector/Flat file/Dong Nai Province/2022/Q2\n",
      "Folder name: /sites/BIHub/Shared Documents/Advisory Data/Main sector/Flat file/Dong Nai Province/2018/Q2\n",
      "/sites/BIHub/Shared Documents/Advisory Data/Main sector/Flat file/Dong Nai Province/2018/Q3\n",
      "/sites/BIHub/Shared Documents/Advisory Data/Main sector/Flat file/Dong Nai Province/2018/Q1\n",
      "/sites/BIHub/Shared Documents/Advisory Data/Main sector/Flat file/Dong Nai Province/2018/Q4\n",
      "Folder name: /sites/BIHub/Shared Documents/Advisory Data/Main sector/Flat file/Dong Nai Province/2021/Q1\n",
      "/sites/BIHub/Shared Documents/Advisory Data/Main sector/Flat file/Dong Nai Province/2021/Q4\n",
      "/sites/BIHub/Shared Documents/Advisory Data/Main sector/Flat file/Dong Nai Province/2021/Q3\n",
      "/sites/BIHub/Shared Documents/Advisory Data/Main sector/Flat file/Dong Nai Province/2021/Q2\n",
      "Folder name: \n",
      "Folder name: /sites/BIHub/Shared Documents/Advisory Data/Main sector/Flat file/Dong Nai Province/2020/Q3\n",
      "/sites/BIHub/Shared Documents/Advisory Data/Main sector/Flat file/Dong Nai Province/2020/Q4\n",
      "/sites/BIHub/Shared Documents/Advisory Data/Main sector/Flat file/Dong Nai Province/2020/Q1\n",
      "/sites/BIHub/Shared Documents/Advisory Data/Main sector/Flat file/Dong Nai Province/2020/Q2\n",
      "Folder name: /sites/BIHub/Shared Documents/Advisory Data/Main sector/Flat file/Binh Dinh Province/2022/Q1\n",
      "Folder name: /sites/BIHub/Shared Documents/Advisory Data/Main sector/Flat file/Binh Dinh Province/2021/Q2\n",
      "Folder name: /sites/BIHub/Shared Documents/Advisory Data/Main sector/Flat file/Binh Dinh Province/2019/Q1\n",
      "Folder name: /sites/BIHub/Shared Documents/Advisory Data/Main sector/Flat file/Binh Dinh Province/2020/Q4\n"
     ]
    }
   ],
   "source": [
    "#lấy quý\n",
    "list_folder_sub2=[]\n",
    "for i in list_folder_sub1:\n",
    "    ls=eval(sp_object).get_content_url(i,return_list_folder=True)\n",
    "    list_folder_sub2=list_folder_sub2+ls"
   ]
  },
  {
   "cell_type": "code",
   "execution_count": 33,
   "id": "aa46fe3c",
   "metadata": {
    "scrolled": true
   },
   "outputs": [
    {
     "name": "stdout",
     "output_type": "stream",
     "text": [
      "Folder name: \n",
      "Files name: /sites/BIHub/Shared Documents/Advisory Data/Main sector/Flat file/Can Tho City/2019/Q4/VLTH_CanTho_20191231.xlsx\n",
      "Files name: /sites/BIHub/Shared Documents/Advisory Data/Main sector/Flat file/Can Tho City/2019/Q4/Apt_CanTho_20191231.xlsx\n",
      "Folder name: \n",
      "Files name: /sites/BIHub/Shared Documents/Advisory Data/Main sector/Flat file/Binh Thuan Province/2020/Q4/Apt_BinhThuan_20201231.xlsx\n",
      "Files name: /sites/BIHub/Shared Documents/Advisory Data/Main sector/Flat file/Binh Thuan Province/2020/Q4/VLTH_BinhThuan_20201231.xlsx\n",
      "Files name: /sites/BIHub/Shared Documents/Advisory Data/Main sector/Flat file/Binh Thuan Province/2020/Q4/Retail_BinhThuan_20201231.xlsx\n",
      "Files name: /sites/BIHub/Shared Documents/Advisory Data/Main sector/Flat file/Binh Thuan Province/2020/Q4/Hotel_BinhThuan_20201231.xlsx\n",
      "Folder name: \n",
      "Files name: /sites/BIHub/Shared Documents/Advisory Data/Main sector/Flat file/Binh Thuan Province/2019/Q4/Apt_BinhThuan_20191231.xlsx\n",
      "Files name: /sites/BIHub/Shared Documents/Advisory Data/Main sector/Flat file/Binh Thuan Province/2019/Q4/VLTH_BinhThuan_20191231.xlsx\n",
      "Files name: /sites/BIHub/Shared Documents/Advisory Data/Main sector/Flat file/Binh Thuan Province/2019/Q4/Hotel_BinhThuan_20191231.xlsx\n"
     ]
    }
   ],
   "source": [
    "#List file\n",
    "#Điền tên tỉnh/thành phố, năm, quý cần import vào 3 biến bên dưới, không edit phần còn lại\n",
    "Province_name=['Can Tho City', 'Binh Thuan Province']\n",
    "Year=['2019', '2020']\n",
    "Quarter=['Q4']\n",
    "#Không edit từ đây trở xuống\n",
    "df_summ_file = pd.DataFrame({'Name':[],'ServerRelativeUrl':[], 'TimeLastModified':[], 'ModTime':[], 'Modified_by_ID':[]})\n",
    "for i in list_folder_sub2:\n",
    "    if i.split('/')[7] in Province_name and i.split('/')[8] in Year and i.split('/')[9] in Quarter:\n",
    "        df_summ_file = pd.concat([df_summ_file, eval(sp_object).get_content_url(i)])\n",
    "list_url = df_summ_file['ServerRelativeUrl'].to_list()\n",
    "#History file\n",
    "df_query=pd.DataFrame(df_summ_file).reset_index(drop=True)\n",
    "df_summ_file = df_summ_file.reset_index(drop=True)"
   ]
  },
  {
   "cell_type": "markdown",
   "id": "afbe169c",
   "metadata": {},
   "source": [
    "### GET IMPORT FILE"
   ]
  },
  {
   "cell_type": "code",
   "execution_count": 34,
   "id": "51e0061a",
   "metadata": {
    "scrolled": true
   },
   "outputs": [
    {
     "data": {
      "text/plain": [
       "['/sites/BIHub/Shared Documents/Advisory Data/Main sector/Flat file/Can Tho City/2019/Q4/VLTH_CanTho_20191231.xlsx',\n",
       " '/sites/BIHub/Shared Documents/Advisory Data/Main sector/Flat file/Can Tho City/2019/Q4/Apt_CanTho_20191231.xlsx',\n",
       " '/sites/BIHub/Shared Documents/Advisory Data/Main sector/Flat file/Binh Thuan Province/2020/Q4/Apt_BinhThuan_20201231.xlsx',\n",
       " '/sites/BIHub/Shared Documents/Advisory Data/Main sector/Flat file/Binh Thuan Province/2020/Q4/VLTH_BinhThuan_20201231.xlsx',\n",
       " '/sites/BIHub/Shared Documents/Advisory Data/Main sector/Flat file/Binh Thuan Province/2020/Q4/Retail_BinhThuan_20201231.xlsx',\n",
       " '/sites/BIHub/Shared Documents/Advisory Data/Main sector/Flat file/Binh Thuan Province/2020/Q4/Hotel_BinhThuan_20201231.xlsx',\n",
       " '/sites/BIHub/Shared Documents/Advisory Data/Main sector/Flat file/Binh Thuan Province/2019/Q4/Apt_BinhThuan_20191231.xlsx',\n",
       " '/sites/BIHub/Shared Documents/Advisory Data/Main sector/Flat file/Binh Thuan Province/2019/Q4/VLTH_BinhThuan_20191231.xlsx',\n",
       " '/sites/BIHub/Shared Documents/Advisory Data/Main sector/Flat file/Binh Thuan Province/2019/Q4/Hotel_BinhThuan_20191231.xlsx']"
      ]
     },
     "execution_count": 34,
     "metadata": {},
     "output_type": "execute_result"
    }
   ],
   "source": [
    "url = []\n",
    "for i in list_url:\n",
    "    sector = i.split('/')[-1].split('_')[0].upper()\n",
    "    #print(sector)\n",
    "    if sector=='APARTMENT':\n",
    "        sector='APT'\n",
    "    else:\n",
    "        pass\n",
    "    if sector not in ('x'):\n",
    "        url.append(i)\n",
    "    else:\n",
    "        pass\n",
    "url"
   ]
  },
  {
   "cell_type": "markdown",
   "id": "df571cf7",
   "metadata": {},
   "source": [
    "### GET DATA"
   ]
  },
  {
   "cell_type": "code",
   "execution_count": 38,
   "id": "5fa7bc94",
   "metadata": {
    "scrolled": true
   },
   "outputs": [
    {
     "name": "stderr",
     "output_type": "stream",
     "text": [
      "\r",
      "  0%|                                                                                            | 0/9 [00:00<?, ?it/s]"
     ]
    },
    {
     "name": "stdout",
     "output_type": "stream",
     "text": [
      "\u001b[32mValidate succesfully\u001b[0m\n"
     ]
    },
    {
     "name": "stderr",
     "output_type": "stream",
     "text": [
      "C:\\Users\\NNgocPhuongUyen\\Downloads\\Scripts_Import\\Scripts_Import\\validate.py:561: SettingWithCopyWarning: \n",
      "A value is trying to be set on a copy of a slice from a DataFrame\n",
      "\n",
      "See the caveats in the documentation: https://pandas.pydata.org/pandas-docs/stable/user_guide/indexing.html#returning-a-view-versus-a-copy\n",
      "  processed_data.rename(columns = {'Project_Status':'Current_Status','Import_date':'Import_Date'}, inplace = True)\n",
      " 11%|█████████▎                                                                          | 1/9 [00:06<00:53,  6.69s/it]"
     ]
    },
    {
     "name": "stdout",
     "output_type": "stream",
     "text": [
      "\u001b[32mValidate succesfully\u001b[0m\n"
     ]
    },
    {
     "name": "stderr",
     "output_type": "stream",
     "text": [
      "C:\\Users\\NNgocPhuongUyen\\Downloads\\Scripts_Import\\Scripts_Import\\validate.py:561: SettingWithCopyWarning: \n",
      "A value is trying to be set on a copy of a slice from a DataFrame\n",
      "\n",
      "See the caveats in the documentation: https://pandas.pydata.org/pandas-docs/stable/user_guide/indexing.html#returning-a-view-versus-a-copy\n",
      "  processed_data.rename(columns = {'Project_Status':'Current_Status','Import_date':'Import_Date'}, inplace = True)\n",
      " 22%|██████████████████▋                                                                 | 2/9 [00:12<00:44,  6.42s/it]"
     ]
    },
    {
     "name": "stdout",
     "output_type": "stream",
     "text": [
      "\u001b[32mValidate succesfully\u001b[0m\n"
     ]
    },
    {
     "name": "stderr",
     "output_type": "stream",
     "text": [
      "C:\\Users\\NNgocPhuongUyen\\Downloads\\Scripts_Import\\Scripts_Import\\validate.py:561: SettingWithCopyWarning: \n",
      "A value is trying to be set on a copy of a slice from a DataFrame\n",
      "\n",
      "See the caveats in the documentation: https://pandas.pydata.org/pandas-docs/stable/user_guide/indexing.html#returning-a-view-versus-a-copy\n",
      "  processed_data.rename(columns = {'Project_Status':'Current_Status','Import_date':'Import_Date'}, inplace = True)\n",
      " 33%|████████████████████████████                                                        | 3/9 [00:19<00:38,  6.44s/it]"
     ]
    },
    {
     "name": "stdout",
     "output_type": "stream",
     "text": [
      "\u001b[32mValidate succesfully\u001b[0m\n"
     ]
    },
    {
     "name": "stderr",
     "output_type": "stream",
     "text": [
      "C:\\Users\\NNgocPhuongUyen\\Downloads\\Scripts_Import\\Scripts_Import\\validate.py:561: SettingWithCopyWarning: \n",
      "A value is trying to be set on a copy of a slice from a DataFrame\n",
      "\n",
      "See the caveats in the documentation: https://pandas.pydata.org/pandas-docs/stable/user_guide/indexing.html#returning-a-view-versus-a-copy\n",
      "  processed_data.rename(columns = {'Project_Status':'Current_Status','Import_date':'Import_Date'}, inplace = True)\n",
      " 44%|█████████████████████████████████████▎                                              | 4/9 [00:25<00:30,  6.16s/it]"
     ]
    },
    {
     "name": "stdout",
     "output_type": "stream",
     "text": [
      "\u001b[32mValidate succesfully\u001b[0m\n"
     ]
    },
    {
     "name": "stderr",
     "output_type": "stream",
     "text": [
      "C:\\Users\\NNgocPhuongUyen\\Downloads\\Scripts_Import\\Scripts_Import\\validate.py:561: SettingWithCopyWarning: \n",
      "A value is trying to be set on a copy of a slice from a DataFrame\n",
      "\n",
      "See the caveats in the documentation: https://pandas.pydata.org/pandas-docs/stable/user_guide/indexing.html#returning-a-view-versus-a-copy\n",
      "  processed_data.rename(columns = {'Project_Status':'Current_Status','Import_date':'Import_Date'}, inplace = True)\n",
      " 56%|██████████████████████████████████████████████▋                                     | 5/9 [00:30<00:24,  6.03s/it]"
     ]
    },
    {
     "name": "stdout",
     "output_type": "stream",
     "text": [
      "\u001b[33mColumn Construction_Status has been added in Hotel_BinhThuan_20201231\u001b[0m\n",
      "\u001b[32mValidate succesfully\u001b[0m\n"
     ]
    },
    {
     "name": "stderr",
     "output_type": "stream",
     "text": [
      "C:\\Users\\NNgocPhuongUyen\\Downloads\\Scripts_Import\\Scripts_Import\\validate.py:561: SettingWithCopyWarning: \n",
      "A value is trying to be set on a copy of a slice from a DataFrame\n",
      "\n",
      "See the caveats in the documentation: https://pandas.pydata.org/pandas-docs/stable/user_guide/indexing.html#returning-a-view-versus-a-copy\n",
      "  processed_data.rename(columns = {'Project_Status':'Current_Status','Import_date':'Import_Date'}, inplace = True)\n",
      " 67%|████████████████████████████████████████████████████████                            | 6/9 [00:37<00:18,  6.19s/it]"
     ]
    },
    {
     "name": "stdout",
     "output_type": "stream",
     "text": [
      "\u001b[32mValidate succesfully\u001b[0m\n"
     ]
    },
    {
     "name": "stderr",
     "output_type": "stream",
     "text": [
      "C:\\Users\\NNgocPhuongUyen\\Downloads\\Scripts_Import\\Scripts_Import\\validate.py:561: SettingWithCopyWarning: \n",
      "A value is trying to be set on a copy of a slice from a DataFrame\n",
      "\n",
      "See the caveats in the documentation: https://pandas.pydata.org/pandas-docs/stable/user_guide/indexing.html#returning-a-view-versus-a-copy\n",
      "  processed_data.rename(columns = {'Project_Status':'Current_Status','Import_date':'Import_Date'}, inplace = True)\n",
      " 78%|█████████████████████████████████████████████████████████████████▎                  | 7/9 [00:43<00:12,  6.32s/it]"
     ]
    },
    {
     "name": "stdout",
     "output_type": "stream",
     "text": [
      "\u001b[32mValidate succesfully\u001b[0m\n"
     ]
    },
    {
     "name": "stderr",
     "output_type": "stream",
     "text": [
      "C:\\Users\\NNgocPhuongUyen\\Downloads\\Scripts_Import\\Scripts_Import\\validate.py:561: SettingWithCopyWarning: \n",
      "A value is trying to be set on a copy of a slice from a DataFrame\n",
      "\n",
      "See the caveats in the documentation: https://pandas.pydata.org/pandas-docs/stable/user_guide/indexing.html#returning-a-view-versus-a-copy\n",
      "  processed_data.rename(columns = {'Project_Status':'Current_Status','Import_date':'Import_Date'}, inplace = True)\n",
      " 89%|██████████████████████████████████████████████████████████████████████████▋         | 8/9 [00:49<00:06,  6.16s/it]"
     ]
    },
    {
     "name": "stdout",
     "output_type": "stream",
     "text": [
      "\u001b[33mColumn Construction_Status has been added in Hotel_BinhThuan_20191231\u001b[0m\n",
      "\u001b[32mValidate succesfully\u001b[0m\n"
     ]
    },
    {
     "name": "stderr",
     "output_type": "stream",
     "text": [
      "C:\\Users\\NNgocPhuongUyen\\Downloads\\Scripts_Import\\Scripts_Import\\validate.py:561: SettingWithCopyWarning: \n",
      "A value is trying to be set on a copy of a slice from a DataFrame\n",
      "\n",
      "See the caveats in the documentation: https://pandas.pydata.org/pandas-docs/stable/user_guide/indexing.html#returning-a-view-versus-a-copy\n",
      "  processed_data.rename(columns = {'Project_Status':'Current_Status','Import_date':'Import_Date'}, inplace = True)\n",
      "100%|████████████████████████████████████████████████████████████████████████████████████| 9/9 [00:55<00:00,  6.22s/it]\n"
     ]
    }
   ],
   "source": [
    "list_sector = []\n",
    "columns_that_need_unidecode=['Project_Name','Sub_Project_Name','Developer','Constructor',\n",
    "                             'Operator','Project_District_Name','Project_City_Name']\n",
    "\n",
    "df_dict = pd.DataFrame(columns=['File Name', 'Missing values', 'Flag'])\n",
    "\n",
    "#Create multi empty dataframe for tracking autdit step\n",
    "name_sector = ['RETAIL', 'SA', 'APT', 'VLTH', 'OFFICE', 'HOTEL']\n",
    "name_sector = [x.lower() for x in name_sector]\n",
    "for i in name_sector:\n",
    "    globals()['df_temp_flat_{}'.format(i)] = pd.DataFrame([])\n",
    "    globals()['df_flat_{}'.format(i)] = pd.DataFrame([])\n",
    "\n",
    "    #-------------------------------------------------------\n",
    "    \n",
    "for file_url in tqdm(url):\n",
    "    #Get data\n",
    "    sp_object = relative_url.split('/')[2].replace('-','')\n",
    "    data=eval(sp_object).get_file(file_url)\n",
    "    #-------------------------------------------------------\n",
    "    data.dropna(axis=0, how='all', thresh=None, subset=None, inplace=True)#remove blank rows  \n",
    "    data.drop(data.columns[data.columns.str.contains('Unnamed')], axis=1, inplace=True)#remove blank columns\n",
    "    data.columns = data.columns.str.strip().str.replace(r'\\s+', '', regex=True)\n",
    "    file_name = file_url.split('/')[-1].split('.')[0]\n",
    "    sector=file_url.split('/')[-1].upper().split('_')[0]\n",
    "    list_sector.append(sector)\n",
    "    if sector=='APT':\n",
    "        sector='APARTMENT'\n",
    "    elif sector=='SA':\n",
    "        sector='SERVICED_APARTMENT'\n",
    "    else:\n",
    "        pass\n",
    "    \n",
    "    #Check date_key\n",
    "    data = check_date_key(file_url, data)\n",
    "    \n",
    "    #Check duplicate\n",
    "    flag_dup, data, dup=Check_Duplicated(data, 'Sub_Project_Name')\n",
    "    if flag_dup==1:\n",
    "        print(colored('Check dupplicate sub_name', 'yellow'))\n",
    "    else:\n",
    "        #change np.nan to None\n",
    "        for i in list(data.columns):\n",
    "            data[i] = data[i].replace({np.nan: None})\n",
    "            data[i] = data[i].replace(r'^\\s*$', np.nan, regex=True)#Replacing blank values (has white space)\n",
    "        #Fill up project_name if null:\n",
    "        data['Project_Name']= np.where(data['Project_Name'].isnull(), data['Sub_Project_Name'], data['Project_Name'])\n",
    "        \n",
    "        #-------------------------------------------------------\n",
    "        #Validation\n",
    "        #remove unicode\n",
    "        for i in columns_that_need_unidecode:\n",
    "            data[i]=Convert_Column(data[i])    \n",
    "            \n",
    "        #remove infortmated values\n",
    "        data=Generate_Additional_Columns(data,url,df_summ_file,BIHub,engine,file_url)\n",
    "        data = remove_unformated_character(sector, file_name, data) \n",
    "        \n",
    "        #Check dictionary\n",
    "        \n",
    "        data, df_dict = check_dictionary(df_dict, file_name, data, 'Project_City_Name', 'City', sector, engine)\n",
    "        data, df_dict = check_dictionary(df_dict, file_name, data, 'Project_District_Name', 'District', sector, engine)\n",
    "        data, df_dict = check_dictionary(df_dict, file_name, data, 'Project_Status', 'Status', sector, engine)\n",
    "        data, df_dict = check_dictionary(df_dict, file_name, data, 'Sub_Project_Type', 'Type', sector, engine)\n",
    "        data, df_dict = check_dictionary(df_dict, file_name, data, 'Grade', 'Grade', sector, engine)\n",
    "        '''total_dis_list=[]\n",
    "        flag_district,data,dis_list=Check_District(sector, data, engine)\n",
    "        if flag_district==1:\n",
    "            total_dis_list.append(dis_list)\n",
    "        else:\n",
    "            pass\n",
    "        flag_city,data,dis_list=Check_City(sector, data, engine)\n",
    "        if flag_city==1:\n",
    "            total_dis_list.append(dis_list)\n",
    "        else:\n",
    "            pass\n",
    "        #Duyệt qua dictionary Status\n",
    "        flag_status,data,dis_list=Check_Status(data,engine)\n",
    "        if flag_status==1:\n",
    "            total_dis_list.append(dis_list)\n",
    "        else:\n",
    "            pass\n",
    "        #Duyệt qua dictionary Grade và Type\n",
    "        flag_type,data,dis_list=Check_Type(data,engine,sector)\n",
    "        if flag_type==1:\n",
    "            total_dis_list.append(dis_list)\n",
    "        else:\n",
    "            pass\n",
    "        flag_grade,data,dis_list=Check_Grade(data,engine,sector)\n",
    "        if flag_grade==1:\n",
    "            total_dis_list.append(dis_list)\n",
    "        else:\n",
    "            pass\n",
    "        #main scripts\n",
    "        if flag_district==0 and flag_city==0 and flag_grade==0 and flag_type==0 and flag_status==0:'''\n",
    "        if len(df_dict) != 0:\n",
    "            print(colored('Missing values in dictionary'),'yellow')\n",
    "        else:\n",
    "            print(colored('Validate succesfully','green'))\n",
    "            #data=Generate_Additional_Columns(data,url,df_summ_file,BIHub,engine,file_url)\n",
    "            #create tracking audit\n",
    "            if sector == 'OFFICE':\n",
    "                df_temp_flat_office = pd.concat([df_temp_flat_office, data], axis=0)\n",
    "                df_flat_office=tracking_flat_file(df_temp_flat_office, sector)\n",
    "            elif sector == 'RETAIL':\n",
    "                df_temp_flat_retail = pd.concat([df_temp_flat_retail, data], axis=0)\n",
    "                df_flat_retail=tracking_flat_file(df_temp_flat_retail, sector)\n",
    "            elif sector == 'HOTEL':\n",
    "                df_temp_flat_hotel = pd.concat([df_temp_flat_hotel, data], axis=0)\n",
    "                df_flat_hotel=tracking_flat_file(df_temp_flat_hotel, sector)\n",
    "            elif sector == 'SA' or sector=='SERVICED_APARTMENT':\n",
    "                df_temp_flat_sa = pd.concat([df_temp_flat_sa, data], axis=0)\n",
    "                df_flat_sa=tracking_flat_file(df_temp_flat_sa, sector)\n",
    "            elif sector == 'APT' or sector=='APARTMENT':\n",
    "                df_temp_flat_apt = pd.concat([df_temp_flat_apt, data], axis=0)\n",
    "                df_flat_apt=tracking_flat_file(df_temp_flat_apt, sector)\n",
    "            elif sector == 'VLTH':\n",
    "                df_temp_flat_vlth = pd.concat([df_temp_flat_vlth, data], axis=0)\n",
    "                df_flat_vlth=tracking_flat_file(df_temp_flat_vlth, sector)\n",
    "            else:\n",
    "                pass\n",
    "            processed_data, list_column_name_insert_project, flag_key=Check_Project_Key(data,url,relative_url,df_summ_file,BIHub,engine,sector,file_url)\n",
    "            data=Get_Project_Key(sector, data, processed_data, list_column_name_insert_project, flag_key, engine)\n",
    "            '''Insert_to_fresh(sector,engine,data,file_url)\n",
    "        else:\n",
    "            print(dis_list)'''\n",
    "    \n"
   ]
  },
  {
   "cell_type": "markdown",
   "id": "7add8b93",
   "metadata": {},
   "source": [
    "### SEND EMAIL"
   ]
  },
  {
   "cell_type": "code",
   "execution_count": 39,
   "id": "b14df6ba",
   "metadata": {},
   "outputs": [
    {
     "name": "stdout",
     "output_type": "stream",
     "text": [
      "Sent email successfully\n"
     ]
    }
   ],
   "source": [
    "#Process to send email\n",
    "list_sector = list(set(list_sector))\n",
    "list_df_flat = [df_flat_office, df_flat_retail, df_flat_hotel, df_flat_sa, df_flat_apt, df_flat_vlth]\n",
    "df_flat_html = create_content(type_content = 1, type_sector = 1, list_sector = list_sector, list_df_flat = list_df_flat, engine = engine)\n",
    "df_query_html = create_content(type_content = 2, type_sector = 1, list_sector = list_sector, list_df_flat = list_df_flat, engine = engine)\n",
    "to_email = ['nngocphuonguyen@savills.com.vn']\n",
    "run_email(email_type = 1, user_email = to_email, df_flat_html = df_flat_html, df_query_html = df_query_html)"
   ]
  },
  {
   "cell_type": "code",
   "execution_count": null,
   "id": "651d13c3",
   "metadata": {},
   "outputs": [],
   "source": []
  }
 ],
 "metadata": {
  "kernelspec": {
   "display_name": "savills",
   "language": "python",
   "name": "savills"
  },
  "language_info": {
   "codemirror_mode": {
    "name": "ipython",
    "version": 3
   },
   "file_extension": ".py",
   "mimetype": "text/x-python",
   "name": "python",
   "nbconvert_exporter": "python",
   "pygments_lexer": "ipython3",
   "version": "3.9.13"
  }
 },
 "nbformat": 4,
 "nbformat_minor": 5
}
