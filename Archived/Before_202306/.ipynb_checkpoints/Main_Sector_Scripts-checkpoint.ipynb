{
 "cells": [
  {
   "cell_type": "markdown",
   "id": "12012f35",
   "metadata": {},
   "source": [
    "### IMPORT LIBRARY"
   ]
  },
  {
   "cell_type": "code",
   "execution_count": 1,
   "id": "378258c1",
   "metadata": {},
   "outputs": [
    {
     "ename": "ModuleNotFoundError",
     "evalue": "No module named 'office365'",
     "output_type": "error",
     "traceback": [
      "\u001b[1;31m---------------------------------------------------------------------------\u001b[0m",
      "\u001b[1;31mModuleNotFoundError\u001b[0m                       Traceback (most recent call last)",
      "Cell \u001b[1;32mIn[1], line 1\u001b[0m\n\u001b[1;32m----> 1\u001b[0m \u001b[39mfrom\u001b[39;00m \u001b[39moffice365\u001b[39;00m\u001b[39m.\u001b[39;00m\u001b[39mruntime\u001b[39;00m\u001b[39m.\u001b[39;00m\u001b[39mauth\u001b[39;00m\u001b[39m.\u001b[39;00m\u001b[39mauthentication_context\u001b[39;00m \u001b[39mimport\u001b[39;00m AuthenticationContext\n\u001b[0;32m      2\u001b[0m \u001b[39mfrom\u001b[39;00m \u001b[39moffice365\u001b[39;00m\u001b[39m.\u001b[39;00m\u001b[39msharepoint\u001b[39;00m\u001b[39m.\u001b[39;00m\u001b[39mclient_context\u001b[39;00m \u001b[39mimport\u001b[39;00m ClientContext\n\u001b[0;32m      3\u001b[0m \u001b[39mfrom\u001b[39;00m \u001b[39moffice365\u001b[39;00m\u001b[39m.\u001b[39;00m\u001b[39msharepoint\u001b[39;00m\u001b[39m.\u001b[39;00m\u001b[39mfiles\u001b[39;00m\u001b[39m.\u001b[39;00m\u001b[39mfile\u001b[39;00m \u001b[39mimport\u001b[39;00m File\n",
      "\u001b[1;31mModuleNotFoundError\u001b[0m: No module named 'office365'"
     ]
    }
   ],
   "source": [
    "from office365.runtime.auth.authentication_context import AuthenticationContext\n",
    "from office365.sharepoint.client_context import ClientContext\n",
    "from office365.sharepoint.files.file import File\n",
    "from office365.runtime.auth.client_credential import ClientCredential\n",
    "from office365.runtime.client_request_exception import ClientRequestException\n",
    "import datetime\n",
    "import pytz\n",
    "import pandas as pd\n",
    "import numpy as np\n",
    "import csv\n",
    "import glob\n",
    "import pyodbc\n",
    "import os \n",
    "import json\n",
    "from io import BytesIO\n",
    "import io\n",
    "import platform\n",
    "from function.PyToSp import *\n",
    "from tqdm import tqdm\n",
    "from urllib.parse import quote_plus\n",
    "import numpy as np\n",
    "import pandas as pd\n",
    "from sqlalchemy import create_engine, event,text\n",
    "import pyodbc\n",
    "import requests\n",
    "import inspect\n",
    "from validate import *\n",
    "pd.set_option('display.max_columns', None)\n",
    "pd.set_option('display.max_rows', None)\n",
    "from urllib.parse import quote_plus\n",
    "import msal\n",
    "from itertools import chain\n",
    "from send_email import *\n",
    "\n",
    "# set to_email\n",
    "to_email = ['nthieu@savills.com.vn','pthihuongnguyen@savills.com.vn']\n",
    "# to_email = ['nthieu@savills.com.vn']"
   ]
  },
  {
   "cell_type": "markdown",
   "id": "d8bee114",
   "metadata": {},
   "source": [
    "### CONNECT TO AZURE SQL"
   ]
  },
  {
   "cell_type": "code",
   "execution_count": 2,
   "id": "a39960d9",
   "metadata": {},
   "outputs": [
    {
     "name": "stdout",
     "output_type": "stream",
     "text": [
      "CONNECTION SUCESSFUL!\n"
     ]
    }
   ],
   "source": [
    "import json\n",
    "f = open ('database_information.json', \"r\")\n",
    "qq = json.loads(f.read())\n",
    "f.close()\n",
    "ini_cnt_str ='Driver={driver_str};Server=tcp:hkazdevsqld3vnreserch.database.windows.net,1433;database={database};Uid={username};Pwd={password};Encrypt=yes;Authentication=ActiveDirectoryPassword;Connection Timeout=30;'.format(**qq)\n",
    "quoted = quote_plus(ini_cnt_str)\n",
    "cnt_str = 'mssql+pyodbc:///?odbc_connect={}'.format(quoted)\n",
    "engine = create_engine(cnt_str)\n",
    "\n",
    "#Test Connection\n",
    "try:\n",
    "    conn = engine.connect()\n",
    "    result = conn.execute(text(\"SELECT 1\"))\n",
    "    print(\"CONNECTION SUCESSFUL!\")\n",
    "except Exception as e:\n",
    "    print(\"CONNECTION FAILED:\",str(e))"
   ]
  },
  {
   "cell_type": "markdown",
   "id": "81420039",
   "metadata": {},
   "source": [
    "### CONNECT TO SHAREPOINT"
   ]
  },
  {
   "cell_type": "code",
   "execution_count": 4,
   "id": "4b0587ba",
   "metadata": {},
   "outputs": [
    {
     "name": "stdout",
     "output_type": "stream",
     "text": [
      "Web site title: S22M Internal Hub _ Successful Connection!\n"
     ]
    }
   ],
   "source": [
    "header_BIHub = 'share_point_BIHub'\n",
    "config_BIHub = read_config_json(config_path, header_BIHub)\n",
    "BIHub = SharePoint(config_BIHub)\n",
    "BIHub.check_connect()"
   ]
  },
  {
   "cell_type": "markdown",
   "id": "0e642c12",
   "metadata": {},
   "source": [
    "### READ AND LIST FOLDER"
   ]
  },
  {
   "cell_type": "code",
   "execution_count": 5,
   "id": "d951e70e",
   "metadata": {
    "scrolled": true
   },
   "outputs": [
    {
     "name": "stdout",
     "output_type": "stream",
     "text": [
      "Folder name: /sites/BIHub/Shared Documents/Advisory Data/Main sector/Flat file/Can Tho City\n",
      "/sites/BIHub/Shared Documents/Advisory Data/Main sector/Flat file/Ho Chi Minh City\n",
      "/sites/BIHub/Shared Documents/Advisory Data/Main sector/Flat file/Quang Ninh Province\n",
      "/sites/BIHub/Shared Documents/Advisory Data/Main sector/Flat file/Hung Yen Province\n",
      "/sites/BIHub/Shared Documents/Advisory Data/Main sector/Flat file/Nghe An Province\n",
      "/sites/BIHub/Shared Documents/Advisory Data/Main sector/Flat file/Da Nang City\n",
      "/sites/BIHub/Shared Documents/Advisory Data/Main sector/Flat file/Binh Thuan Province\n",
      "/sites/BIHub/Shared Documents/Advisory Data/Main sector/Flat file/Old\n",
      "/sites/BIHub/Shared Documents/Advisory Data/Main sector/Flat file/Khanh Hoa Province\n",
      "/sites/BIHub/Shared Documents/Advisory Data/Main sector/Flat file/Bac Ninh Province\n",
      "/sites/BIHub/Shared Documents/Advisory Data/Main sector/Flat file/BRVT\n",
      "/sites/BIHub/Shared Documents/Advisory Data/Main sector/Flat file/Binh Duong Province\n",
      "/sites/BIHub/Shared Documents/Advisory Data/Main sector/Flat file/Kien Giang Province\n",
      "/sites/BIHub/Shared Documents/Advisory Data/Main sector/Flat file/Lam Dong Province\n",
      "/sites/BIHub/Shared Documents/Advisory Data/Main sector/Flat file/Quang Nam Province\n",
      "/sites/BIHub/Shared Documents/Advisory Data/Main sector/Flat file/Ha Noi City\n",
      "/sites/BIHub/Shared Documents/Advisory Data/Main sector/Flat file/Hoa Binh Province\n",
      "/sites/BIHub/Shared Documents/Advisory Data/Main sector/Flat file/Hai Phong City\n",
      "/sites/BIHub/Shared Documents/Advisory Data/Main sector/Flat file/Long An Province\n",
      "/sites/BIHub/Shared Documents/Advisory Data/Main sector/Flat file/Thua Thien Hue Province\n",
      "/sites/BIHub/Shared Documents/Advisory Data/Main sector/Flat file/Dong Nai Province\n",
      "/sites/BIHub/Shared Documents/Advisory Data/Main sector/Flat file/Binh Dinh Province\n"
     ]
    }
   ],
   "source": [
    "#Tất cả các tỉnh\n",
    "relative_url = \"/sites/BIHub/Shared Documents/Advisory Data/Main sector/Flat file\"\n",
    "sp_object = relative_url.split('/')[2].replace('-','')\n",
    "list_folder = eval(sp_object).get_content_url(relative_url,return_list_folder=True)"
   ]
  },
  {
   "cell_type": "code",
   "execution_count": 6,
   "id": "162f57a3",
   "metadata": {
    "scrolled": true
   },
   "outputs": [
    {
     "name": "stdout",
     "output_type": "stream",
     "text": [
      "Folder name: /sites/BIHub/Shared Documents/Advisory Data/Main sector/Flat file/Can Tho City/2018\n",
      "/sites/BIHub/Shared Documents/Advisory Data/Main sector/Flat file/Can Tho City/2019\n",
      "/sites/BIHub/Shared Documents/Advisory Data/Main sector/Flat file/Can Tho City/2020\n",
      "Folder name: /sites/BIHub/Shared Documents/Advisory Data/Main sector/Flat file/Ho Chi Minh City/2021\n",
      "/sites/BIHub/Shared Documents/Advisory Data/Main sector/Flat file/Ho Chi Minh City/2014\n",
      "/sites/BIHub/Shared Documents/Advisory Data/Main sector/Flat file/Ho Chi Minh City/2023\n",
      "/sites/BIHub/Shared Documents/Advisory Data/Main sector/Flat file/Ho Chi Minh City/2017\n",
      "/sites/BIHub/Shared Documents/Advisory Data/Main sector/Flat file/Ho Chi Minh City/2020\n",
      "/sites/BIHub/Shared Documents/Advisory Data/Main sector/Flat file/Ho Chi Minh City/2022\n",
      "/sites/BIHub/Shared Documents/Advisory Data/Main sector/Flat file/Ho Chi Minh City/2016\n",
      "/sites/BIHub/Shared Documents/Advisory Data/Main sector/Flat file/Ho Chi Minh City/2012\n",
      "/sites/BIHub/Shared Documents/Advisory Data/Main sector/Flat file/Ho Chi Minh City/2019\n",
      "/sites/BIHub/Shared Documents/Advisory Data/Main sector/Flat file/Ho Chi Minh City/2018\n",
      "/sites/BIHub/Shared Documents/Advisory Data/Main sector/Flat file/Ho Chi Minh City/2015\n",
      "/sites/BIHub/Shared Documents/Advisory Data/Main sector/Flat file/Ho Chi Minh City/2013\n",
      "Folder name: /sites/BIHub/Shared Documents/Advisory Data/Main sector/Flat file/Quang Ninh Province/2017\n",
      "/sites/BIHub/Shared Documents/Advisory Data/Main sector/Flat file/Quang Ninh Province/2021\n",
      "/sites/BIHub/Shared Documents/Advisory Data/Main sector/Flat file/Quang Ninh Province/2022\n",
      "/sites/BIHub/Shared Documents/Advisory Data/Main sector/Flat file/Quang Ninh Province/2020\n",
      "/sites/BIHub/Shared Documents/Advisory Data/Main sector/Flat file/Quang Ninh Province/2018\n",
      "/sites/BIHub/Shared Documents/Advisory Data/Main sector/Flat file/Quang Ninh Province/2019\n",
      "Folder name: /sites/BIHub/Shared Documents/Advisory Data/Main sector/Flat file/Hung Yen Province/2021\n",
      "/sites/BIHub/Shared Documents/Advisory Data/Main sector/Flat file/Hung Yen Province/2022\n",
      "/sites/BIHub/Shared Documents/Advisory Data/Main sector/Flat file/Hung Yen Province/2018\n",
      "/sites/BIHub/Shared Documents/Advisory Data/Main sector/Flat file/Hung Yen Province/2023\n",
      "Folder name: /sites/BIHub/Shared Documents/Advisory Data/Main sector/Flat file/Nghe An Province/2019\n",
      "/sites/BIHub/Shared Documents/Advisory Data/Main sector/Flat file/Nghe An Province/2022\n",
      "/sites/BIHub/Shared Documents/Advisory Data/Main sector/Flat file/Nghe An Province/2018\n",
      "/sites/BIHub/Shared Documents/Advisory Data/Main sector/Flat file/Nghe An Province/2021\n",
      "Folder name: /sites/BIHub/Shared Documents/Advisory Data/Main sector/Flat file/Da Nang City/2019\n",
      "/sites/BIHub/Shared Documents/Advisory Data/Main sector/Flat file/Da Nang City/2017\n",
      "/sites/BIHub/Shared Documents/Advisory Data/Main sector/Flat file/Da Nang City/2021\n",
      "/sites/BIHub/Shared Documents/Advisory Data/Main sector/Flat file/Da Nang City/2020\n",
      "/sites/BIHub/Shared Documents/Advisory Data/Main sector/Flat file/Da Nang City/2022\n",
      "/sites/BIHub/Shared Documents/Advisory Data/Main sector/Flat file/Da Nang City/2018\n",
      "Folder name: /sites/BIHub/Shared Documents/Advisory Data/Main sector/Flat file/Binh Thuan Province/2018\n",
      "/sites/BIHub/Shared Documents/Advisory Data/Main sector/Flat file/Binh Thuan Province/2017\n",
      "/sites/BIHub/Shared Documents/Advisory Data/Main sector/Flat file/Binh Thuan Province/2021\n",
      "/sites/BIHub/Shared Documents/Advisory Data/Main sector/Flat file/Binh Thuan Province/2020\n",
      "/sites/BIHub/Shared Documents/Advisory Data/Main sector/Flat file/Binh Thuan Province/2019\n",
      "Folder name: /sites/BIHub/Shared Documents/Advisory Data/Main sector/Flat file/Old/Da Nang City1\n",
      "/sites/BIHub/Shared Documents/Advisory Data/Main sector/Flat file/Old/Quang Ninh Province\n",
      "/sites/BIHub/Shared Documents/Advisory Data/Main sector/Flat file/Old/Kien Giang Province\n",
      "/sites/BIHub/Shared Documents/Advisory Data/Main sector/Flat file/Old/Ha Noi City\n",
      "/sites/BIHub/Shared Documents/Advisory Data/Main sector/Flat file/Old/Hoa Binh Province\n",
      "/sites/BIHub/Shared Documents/Advisory Data/Main sector/Flat file/Old/Khanh Hoa Province\n",
      "/sites/BIHub/Shared Documents/Advisory Data/Main sector/Flat file/Old/Quang Nam Province\n",
      "/sites/BIHub/Shared Documents/Advisory Data/Main sector/Flat file/Old/Da Nang City2\n",
      "/sites/BIHub/Shared Documents/Advisory Data/Main sector/Flat file/Old/Ho Chi Minh City\n",
      "/sites/BIHub/Shared Documents/Advisory Data/Main sector/Flat file/Old/Quang Ninh Province1\n",
      "/sites/BIHub/Shared Documents/Advisory Data/Main sector/Flat file/Old/Phu Quoc City\n",
      "/sites/BIHub/Shared Documents/Advisory Data/Main sector/Flat file/Old/Binh Thuan Province\n",
      "/sites/BIHub/Shared Documents/Advisory Data/Main sector/Flat file/Old/Da Nang City\n",
      "/sites/BIHub/Shared Documents/Advisory Data/Main sector/Flat file/Old/Thua Thien Hue Province\n",
      "Folder name: /sites/BIHub/Shared Documents/Advisory Data/Main sector/Flat file/Khanh Hoa Province/2021\n",
      "/sites/BIHub/Shared Documents/Advisory Data/Main sector/Flat file/Khanh Hoa Province/2020\n",
      "/sites/BIHub/Shared Documents/Advisory Data/Main sector/Flat file/Khanh Hoa Province/2022\n",
      "/sites/BIHub/Shared Documents/Advisory Data/Main sector/Flat file/Khanh Hoa Province/2019\n",
      "Folder name: /sites/BIHub/Shared Documents/Advisory Data/Main sector/Flat file/Bac Ninh Province/2019\n",
      "/sites/BIHub/Shared Documents/Advisory Data/Main sector/Flat file/Bac Ninh Province/2021\n",
      "/sites/BIHub/Shared Documents/Advisory Data/Main sector/Flat file/Bac Ninh Province/2023\n",
      "/sites/BIHub/Shared Documents/Advisory Data/Main sector/Flat file/Bac Ninh Province/2018\n",
      "/sites/BIHub/Shared Documents/Advisory Data/Main sector/Flat file/Bac Ninh Province/2022\n",
      "/sites/BIHub/Shared Documents/Advisory Data/Main sector/Flat file/Bac Ninh Province/2020\n",
      "Folder name: /sites/BIHub/Shared Documents/Advisory Data/Main sector/Flat file/BRVT/2020\n",
      "/sites/BIHub/Shared Documents/Advisory Data/Main sector/Flat file/BRVT/2021\n",
      "/sites/BIHub/Shared Documents/Advisory Data/Main sector/Flat file/BRVT/2019\n",
      "/sites/BIHub/Shared Documents/Advisory Data/Main sector/Flat file/BRVT/2022\n",
      "Folder name: /sites/BIHub/Shared Documents/Advisory Data/Main sector/Flat file/Binh Duong Province/2022\n",
      "/sites/BIHub/Shared Documents/Advisory Data/Main sector/Flat file/Binh Duong Province/2019\n",
      "/sites/BIHub/Shared Documents/Advisory Data/Main sector/Flat file/Binh Duong Province/2018\n",
      "/sites/BIHub/Shared Documents/Advisory Data/Main sector/Flat file/Binh Duong Province/2023\n",
      "/sites/BIHub/Shared Documents/Advisory Data/Main sector/Flat file/Binh Duong Province/2021\n",
      "/sites/BIHub/Shared Documents/Advisory Data/Main sector/Flat file/Binh Duong Province/2020\n",
      "Folder name: /sites/BIHub/Shared Documents/Advisory Data/Main sector/Flat file/Kien Giang Province/2018\n",
      "/sites/BIHub/Shared Documents/Advisory Data/Main sector/Flat file/Kien Giang Province/2019\n",
      "/sites/BIHub/Shared Documents/Advisory Data/Main sector/Flat file/Kien Giang Province/2022\n",
      "/sites/BIHub/Shared Documents/Advisory Data/Main sector/Flat file/Kien Giang Province/2016\n",
      "/sites/BIHub/Shared Documents/Advisory Data/Main sector/Flat file/Kien Giang Province/2021\n",
      "/sites/BIHub/Shared Documents/Advisory Data/Main sector/Flat file/Kien Giang Province/2017\n",
      "/sites/BIHub/Shared Documents/Advisory Data/Main sector/Flat file/Kien Giang Province/2020\n",
      "Folder name: /sites/BIHub/Shared Documents/Advisory Data/Main sector/Flat file/Lam Dong Province/2018\n",
      "/sites/BIHub/Shared Documents/Advisory Data/Main sector/Flat file/Lam Dong Province/2021\n",
      "/sites/BIHub/Shared Documents/Advisory Data/Main sector/Flat file/Lam Dong Province/2017\n",
      "/sites/BIHub/Shared Documents/Advisory Data/Main sector/Flat file/Lam Dong Province/2020\n",
      "Folder name: /sites/BIHub/Shared Documents/Advisory Data/Main sector/Flat file/Quang Nam Province/2017\n",
      "/sites/BIHub/Shared Documents/Advisory Data/Main sector/Flat file/Quang Nam Province/2018\n",
      "/sites/BIHub/Shared Documents/Advisory Data/Main sector/Flat file/Quang Nam Province/2020\n",
      "Folder name: /sites/BIHub/Shared Documents/Advisory Data/Main sector/Flat file/Ha Noi City/2021\n",
      "/sites/BIHub/Shared Documents/Advisory Data/Main sector/Flat file/Ha Noi City/2017\n",
      "/sites/BIHub/Shared Documents/Advisory Data/Main sector/Flat file/Ha Noi City/2020\n",
      "/sites/BIHub/Shared Documents/Advisory Data/Main sector/Flat file/Ha Noi City/2023\n",
      "/sites/BIHub/Shared Documents/Advisory Data/Main sector/Flat file/Ha Noi City/2022\n",
      "/sites/BIHub/Shared Documents/Advisory Data/Main sector/Flat file/Ha Noi City/2018\n",
      "/sites/BIHub/Shared Documents/Advisory Data/Main sector/Flat file/Ha Noi City/2019\n"
     ]
    },
    {
     "name": "stdout",
     "output_type": "stream",
     "text": [
      "Folder name: /sites/BIHub/Shared Documents/Advisory Data/Main sector/Flat file/Hoa Binh Province/2022\n",
      "/sites/BIHub/Shared Documents/Advisory Data/Main sector/Flat file/Hoa Binh Province/2021\n",
      "Folder name: /sites/BIHub/Shared Documents/Advisory Data/Main sector/Flat file/Hai Phong City/2019\n",
      "/sites/BIHub/Shared Documents/Advisory Data/Main sector/Flat file/Hai Phong City/2021\n",
      "/sites/BIHub/Shared Documents/Advisory Data/Main sector/Flat file/Hai Phong City/2018\n",
      "/sites/BIHub/Shared Documents/Advisory Data/Main sector/Flat file/Hai Phong City/2017\n",
      "/sites/BIHub/Shared Documents/Advisory Data/Main sector/Flat file/Hai Phong City/2022\n",
      "/sites/BIHub/Shared Documents/Advisory Data/Main sector/Flat file/Hai Phong City/2020\n",
      "/sites/BIHub/Shared Documents/Advisory Data/Main sector/Flat file/Hai Phong City/2023\n",
      "Folder name: /sites/BIHub/Shared Documents/Advisory Data/Main sector/Flat file/Long An Province/2019\n",
      "/sites/BIHub/Shared Documents/Advisory Data/Main sector/Flat file/Long An Province/2022\n",
      "/sites/BIHub/Shared Documents/Advisory Data/Main sector/Flat file/Long An Province/2018\n",
      "/sites/BIHub/Shared Documents/Advisory Data/Main sector/Flat file/Long An Province/2020\n",
      "/sites/BIHub/Shared Documents/Advisory Data/Main sector/Flat file/Long An Province/2023\n",
      "/sites/BIHub/Shared Documents/Advisory Data/Main sector/Flat file/Long An Province/2021\n",
      "/sites/BIHub/Shared Documents/Advisory Data/Main sector/Flat file/Long An Province/2017\n",
      "Folder name: /sites/BIHub/Shared Documents/Advisory Data/Main sector/Flat file/Thua Thien Hue Province/2017\n",
      "/sites/BIHub/Shared Documents/Advisory Data/Main sector/Flat file/Thua Thien Hue Province/2022\n",
      "/sites/BIHub/Shared Documents/Advisory Data/Main sector/Flat file/Thua Thien Hue Province/2021\n",
      "/sites/BIHub/Shared Documents/Advisory Data/Main sector/Flat file/Thua Thien Hue Province/2019\n",
      "Folder name: /sites/BIHub/Shared Documents/Advisory Data/Main sector/Flat file/Dong Nai Province/2017\n",
      "/sites/BIHub/Shared Documents/Advisory Data/Main sector/Flat file/Dong Nai Province/2019\n",
      "/sites/BIHub/Shared Documents/Advisory Data/Main sector/Flat file/Dong Nai Province/2022\n",
      "/sites/BIHub/Shared Documents/Advisory Data/Main sector/Flat file/Dong Nai Province/2018\n",
      "/sites/BIHub/Shared Documents/Advisory Data/Main sector/Flat file/Dong Nai Province/2023\n",
      "/sites/BIHub/Shared Documents/Advisory Data/Main sector/Flat file/Dong Nai Province/2021\n",
      "/sites/BIHub/Shared Documents/Advisory Data/Main sector/Flat file/Dong Nai Province/Old\n",
      "/sites/BIHub/Shared Documents/Advisory Data/Main sector/Flat file/Dong Nai Province/2020\n",
      "Folder name: /sites/BIHub/Shared Documents/Advisory Data/Main sector/Flat file/Binh Dinh Province/2022\n",
      "/sites/BIHub/Shared Documents/Advisory Data/Main sector/Flat file/Binh Dinh Province/2021\n",
      "/sites/BIHub/Shared Documents/Advisory Data/Main sector/Flat file/Binh Dinh Province/2019\n",
      "/sites/BIHub/Shared Documents/Advisory Data/Main sector/Flat file/Binh Dinh Province/2020\n"
     ]
    }
   ],
   "source": [
    "#lấy năm\n",
    "list_folder_sub1=[]\n",
    "for i in list_folder:\n",
    "    ls=eval(sp_object).get_content_url(i,return_list_folder=True)\n",
    "    list_folder_sub1=list_folder_sub1+ls"
   ]
  },
  {
   "cell_type": "code",
   "execution_count": 7,
   "id": "338da9f5",
   "metadata": {
    "scrolled": true
   },
   "outputs": [
    {
     "name": "stdout",
     "output_type": "stream",
     "text": [
      "Folder name: /sites/BIHub/Shared Documents/Advisory Data/Main sector/Flat file/Can Tho City/2018/Q1\n",
      "Folder name: /sites/BIHub/Shared Documents/Advisory Data/Main sector/Flat file/Can Tho City/2019/Q4\n",
      "Folder name: /sites/BIHub/Shared Documents/Advisory Data/Main sector/Flat file/Can Tho City/2020/Q3\n",
      "Folder name: /sites/BIHub/Shared Documents/Advisory Data/Main sector/Flat file/Ho Chi Minh City/2021/Q3\n",
      "/sites/BIHub/Shared Documents/Advisory Data/Main sector/Flat file/Ho Chi Minh City/2021/Q1\n",
      "/sites/BIHub/Shared Documents/Advisory Data/Main sector/Flat file/Ho Chi Minh City/2021/Q4\n",
      "/sites/BIHub/Shared Documents/Advisory Data/Main sector/Flat file/Ho Chi Minh City/2021/Q2\n",
      "Folder name: /sites/BIHub/Shared Documents/Advisory Data/Main sector/Flat file/Ho Chi Minh City/2014/Q4\n",
      "/sites/BIHub/Shared Documents/Advisory Data/Main sector/Flat file/Ho Chi Minh City/2014/Q3\n",
      "/sites/BIHub/Shared Documents/Advisory Data/Main sector/Flat file/Ho Chi Minh City/2014/Q2\n",
      "/sites/BIHub/Shared Documents/Advisory Data/Main sector/Flat file/Ho Chi Minh City/2014/Q1\n",
      "Folder name: /sites/BIHub/Shared Documents/Advisory Data/Main sector/Flat file/Ho Chi Minh City/2023/Q1\n",
      "Folder name: /sites/BIHub/Shared Documents/Advisory Data/Main sector/Flat file/Ho Chi Minh City/2017/Q3\n",
      "/sites/BIHub/Shared Documents/Advisory Data/Main sector/Flat file/Ho Chi Minh City/2017/Q4\n",
      "/sites/BIHub/Shared Documents/Advisory Data/Main sector/Flat file/Ho Chi Minh City/2017/Q2\n",
      "/sites/BIHub/Shared Documents/Advisory Data/Main sector/Flat file/Ho Chi Minh City/2017/Q1\n",
      "Folder name: /sites/BIHub/Shared Documents/Advisory Data/Main sector/Flat file/Ho Chi Minh City/2020/Q3\n",
      "/sites/BIHub/Shared Documents/Advisory Data/Main sector/Flat file/Ho Chi Minh City/2020/Q2\n",
      "/sites/BIHub/Shared Documents/Advisory Data/Main sector/Flat file/Ho Chi Minh City/2020/Q1\n",
      "/sites/BIHub/Shared Documents/Advisory Data/Main sector/Flat file/Ho Chi Minh City/2020/Q4\n",
      "Folder name: /sites/BIHub/Shared Documents/Advisory Data/Main sector/Flat file/Ho Chi Minh City/2022/Q3\n",
      "/sites/BIHub/Shared Documents/Advisory Data/Main sector/Flat file/Ho Chi Minh City/2022/Q4\n",
      "/sites/BIHub/Shared Documents/Advisory Data/Main sector/Flat file/Ho Chi Minh City/2022/Q2\n",
      "/sites/BIHub/Shared Documents/Advisory Data/Main sector/Flat file/Ho Chi Minh City/2022/Q1\n",
      "Folder name: /sites/BIHub/Shared Documents/Advisory Data/Main sector/Flat file/Ho Chi Minh City/2016/Q4\n",
      "/sites/BIHub/Shared Documents/Advisory Data/Main sector/Flat file/Ho Chi Minh City/2016/Q1\n",
      "/sites/BIHub/Shared Documents/Advisory Data/Main sector/Flat file/Ho Chi Minh City/2016/Q2\n",
      "/sites/BIHub/Shared Documents/Advisory Data/Main sector/Flat file/Ho Chi Minh City/2016/Q3\n",
      "Folder name: /sites/BIHub/Shared Documents/Advisory Data/Main sector/Flat file/Ho Chi Minh City/2012/Q2\n",
      "/sites/BIHub/Shared Documents/Advisory Data/Main sector/Flat file/Ho Chi Minh City/2012/Q4\n",
      "/sites/BIHub/Shared Documents/Advisory Data/Main sector/Flat file/Ho Chi Minh City/2012/Q1\n",
      "/sites/BIHub/Shared Documents/Advisory Data/Main sector/Flat file/Ho Chi Minh City/2012/Q3\n",
      "Folder name: /sites/BIHub/Shared Documents/Advisory Data/Main sector/Flat file/Ho Chi Minh City/2019/Q3\n",
      "/sites/BIHub/Shared Documents/Advisory Data/Main sector/Flat file/Ho Chi Minh City/2019/Q1\n",
      "/sites/BIHub/Shared Documents/Advisory Data/Main sector/Flat file/Ho Chi Minh City/2019/Q2\n",
      "/sites/BIHub/Shared Documents/Advisory Data/Main sector/Flat file/Ho Chi Minh City/2019/Q4\n",
      "Folder name: /sites/BIHub/Shared Documents/Advisory Data/Main sector/Flat file/Ho Chi Minh City/2018/Q3\n",
      "/sites/BIHub/Shared Documents/Advisory Data/Main sector/Flat file/Ho Chi Minh City/2018/Q1\n",
      "/sites/BIHub/Shared Documents/Advisory Data/Main sector/Flat file/Ho Chi Minh City/2018/Q2\n",
      "/sites/BIHub/Shared Documents/Advisory Data/Main sector/Flat file/Ho Chi Minh City/2018/Q4\n",
      "Folder name: /sites/BIHub/Shared Documents/Advisory Data/Main sector/Flat file/Ho Chi Minh City/2015/Q2\n",
      "/sites/BIHub/Shared Documents/Advisory Data/Main sector/Flat file/Ho Chi Minh City/2015/Q1\n",
      "/sites/BIHub/Shared Documents/Advisory Data/Main sector/Flat file/Ho Chi Minh City/2015/Q4\n",
      "/sites/BIHub/Shared Documents/Advisory Data/Main sector/Flat file/Ho Chi Minh City/2015/Q3\n",
      "Folder name: /sites/BIHub/Shared Documents/Advisory Data/Main sector/Flat file/Ho Chi Minh City/2013/Q4\n",
      "/sites/BIHub/Shared Documents/Advisory Data/Main sector/Flat file/Ho Chi Minh City/2013/Q1\n",
      "/sites/BIHub/Shared Documents/Advisory Data/Main sector/Flat file/Ho Chi Minh City/2013/Q2\n",
      "/sites/BIHub/Shared Documents/Advisory Data/Main sector/Flat file/Ho Chi Minh City/2013/Q3\n",
      "Folder name: /sites/BIHub/Shared Documents/Advisory Data/Main sector/Flat file/Quang Ninh Province/2017/Q3\n",
      "/sites/BIHub/Shared Documents/Advisory Data/Main sector/Flat file/Quang Ninh Province/2017/Q4\n",
      "Folder name: /sites/BIHub/Shared Documents/Advisory Data/Main sector/Flat file/Quang Ninh Province/2021/Q3\n",
      "Folder name: /sites/BIHub/Shared Documents/Advisory Data/Main sector/Flat file/Quang Ninh Province/2022/Q2\n",
      "Folder name: /sites/BIHub/Shared Documents/Advisory Data/Main sector/Flat file/Quang Ninh Province/2020/Q2\n",
      "/sites/BIHub/Shared Documents/Advisory Data/Main sector/Flat file/Quang Ninh Province/2020/Q4\n",
      "Folder name: /sites/BIHub/Shared Documents/Advisory Data/Main sector/Flat file/Quang Ninh Province/2018/Q2\n",
      "/sites/BIHub/Shared Documents/Advisory Data/Main sector/Flat file/Quang Ninh Province/2018/Q1\n",
      "/sites/BIHub/Shared Documents/Advisory Data/Main sector/Flat file/Quang Ninh Province/2018/Q4\n",
      "Folder name: /sites/BIHub/Shared Documents/Advisory Data/Main sector/Flat file/Quang Ninh Province/2019/Q2\n",
      "/sites/BIHub/Shared Documents/Advisory Data/Main sector/Flat file/Quang Ninh Province/2019/Q4\n",
      "/sites/BIHub/Shared Documents/Advisory Data/Main sector/Flat file/Quang Ninh Province/2019/Q1\n",
      "Folder name: /sites/BIHub/Shared Documents/Advisory Data/Main sector/Flat file/Hung Yen Province/2021/Q2\n",
      "Folder name: /sites/BIHub/Shared Documents/Advisory Data/Main sector/Flat file/Hung Yen Province/2022/Q4\n",
      "/sites/BIHub/Shared Documents/Advisory Data/Main sector/Flat file/Hung Yen Province/2022/Q3\n",
      "/sites/BIHub/Shared Documents/Advisory Data/Main sector/Flat file/Hung Yen Province/2022/Q2\n",
      "Folder name: /sites/BIHub/Shared Documents/Advisory Data/Main sector/Flat file/Hung Yen Province/2018/Q1\n",
      "Folder name: /sites/BIHub/Shared Documents/Advisory Data/Main sector/Flat file/Hung Yen Province/2023/Q1\n",
      "Folder name: /sites/BIHub/Shared Documents/Advisory Data/Main sector/Flat file/Nghe An Province/2019/Q4\n",
      "Folder name: /sites/BIHub/Shared Documents/Advisory Data/Main sector/Flat file/Nghe An Province/2022/Q1\n",
      "Folder name: /sites/BIHub/Shared Documents/Advisory Data/Main sector/Flat file/Nghe An Province/2018/Q3\n",
      "Folder name: /sites/BIHub/Shared Documents/Advisory Data/Main sector/Flat file/Nghe An Province/2021/Q4\n",
      "/sites/BIHub/Shared Documents/Advisory Data/Main sector/Flat file/Nghe An Province/2021/Q1\n",
      "Folder name: /sites/BIHub/Shared Documents/Advisory Data/Main sector/Flat file/Da Nang City/2019/Q4\n",
      "Folder name: /sites/BIHub/Shared Documents/Advisory Data/Main sector/Flat file/Da Nang City/2017/Q4\n",
      "Folder name: /sites/BIHub/Shared Documents/Advisory Data/Main sector/Flat file/Da Nang City/2021/Q2\n",
      "/sites/BIHub/Shared Documents/Advisory Data/Main sector/Flat file/Da Nang City/2021/Q4\n",
      "Folder name: /sites/BIHub/Shared Documents/Advisory Data/Main sector/Flat file/Da Nang City/2020/Q4\n",
      "/sites/BIHub/Shared Documents/Advisory Data/Main sector/Flat file/Da Nang City/2020/Q2\n",
      "Folder name: /sites/BIHub/Shared Documents/Advisory Data/Main sector/Flat file/Da Nang City/2022/Q2\n",
      "/sites/BIHub/Shared Documents/Advisory Data/Main sector/Flat file/Da Nang City/2022/Q4\n",
      "/sites/BIHub/Shared Documents/Advisory Data/Main sector/Flat file/Da Nang City/2022/Q1\n",
      "Folder name: /sites/BIHub/Shared Documents/Advisory Data/Main sector/Flat file/Da Nang City/2018/Q1\n",
      "/sites/BIHub/Shared Documents/Advisory Data/Main sector/Flat file/Da Nang City/2018/Q4\n",
      "Folder name: /sites/BIHub/Shared Documents/Advisory Data/Main sector/Flat file/Binh Thuan Province/2018/Q3\n",
      "/sites/BIHub/Shared Documents/Advisory Data/Main sector/Flat file/Binh Thuan Province/2018/Q2\n",
      "Folder name: /sites/BIHub/Shared Documents/Advisory Data/Main sector/Flat file/Binh Thuan Province/2017/Q2\n",
      "/sites/BIHub/Shared Documents/Advisory Data/Main sector/Flat file/Binh Thuan Province/2017/Q4\n"
     ]
    },
    {
     "name": "stdout",
     "output_type": "stream",
     "text": [
      "Folder name: /sites/BIHub/Shared Documents/Advisory Data/Main sector/Flat file/Binh Thuan Province/2021/Q1\n",
      "Folder name: /sites/BIHub/Shared Documents/Advisory Data/Main sector/Flat file/Binh Thuan Province/2020/Q4\n",
      "Folder name: /sites/BIHub/Shared Documents/Advisory Data/Main sector/Flat file/Binh Thuan Province/2019/Q2\n",
      "/sites/BIHub/Shared Documents/Advisory Data/Main sector/Flat file/Binh Thuan Province/2019/Q4\n",
      "Folder name: /sites/BIHub/Shared Documents/Advisory Data/Main sector/Flat file/Old/Da Nang City1/2018\n",
      "/sites/BIHub/Shared Documents/Advisory Data/Main sector/Flat file/Old/Da Nang City1/2017\n",
      "/sites/BIHub/Shared Documents/Advisory Data/Main sector/Flat file/Old/Da Nang City1/2021\n",
      "/sites/BIHub/Shared Documents/Advisory Data/Main sector/Flat file/Old/Da Nang City1/2016\n",
      "/sites/BIHub/Shared Documents/Advisory Data/Main sector/Flat file/Old/Da Nang City1/2019\n",
      "/sites/BIHub/Shared Documents/Advisory Data/Main sector/Flat file/Old/Da Nang City1/2020\n",
      "Folder name: /sites/BIHub/Shared Documents/Advisory Data/Main sector/Flat file/Old/Quang Ninh Province/2019\n",
      "Folder name: /sites/BIHub/Shared Documents/Advisory Data/Main sector/Flat file/Old/Kien Giang Province/2021\n",
      "Folder name: /sites/BIHub/Shared Documents/Advisory Data/Main sector/Flat file/Old/Ha Noi City/2021\n",
      "Folder name: /sites/BIHub/Shared Documents/Advisory Data/Main sector/Flat file/Old/Hoa Binh Province/2021\n",
      "Folder name: /sites/BIHub/Shared Documents/Advisory Data/Main sector/Flat file/Old/Khanh Hoa Province/2021\n",
      "Folder name: /sites/BIHub/Shared Documents/Advisory Data/Main sector/Flat file/Old/Quang Nam Province/2020\n",
      "Folder name: /sites/BIHub/Shared Documents/Advisory Data/Main sector/Flat file/Old/Da Nang City2/2021\n",
      "/sites/BIHub/Shared Documents/Advisory Data/Main sector/Flat file/Old/Da Nang City2/2018\n",
      "/sites/BIHub/Shared Documents/Advisory Data/Main sector/Flat file/Old/Da Nang City2/2019\n",
      "/sites/BIHub/Shared Documents/Advisory Data/Main sector/Flat file/Old/Da Nang City2/2020\n",
      "/sites/BIHub/Shared Documents/Advisory Data/Main sector/Flat file/Old/Da Nang City2/2017\n",
      "/sites/BIHub/Shared Documents/Advisory Data/Main sector/Flat file/Old/Da Nang City2/2022\n",
      "Folder name: /sites/BIHub/Shared Documents/Advisory Data/Main sector/Flat file/Old/Ho Chi Minh City/2021\n",
      "Folder name: /sites/BIHub/Shared Documents/Advisory Data/Main sector/Flat file/Old/Quang Ninh Province1/2018\n",
      "/sites/BIHub/Shared Documents/Advisory Data/Main sector/Flat file/Old/Quang Ninh Province1/2019\n",
      "/sites/BIHub/Shared Documents/Advisory Data/Main sector/Flat file/Old/Quang Ninh Province1/2020\n",
      "/sites/BIHub/Shared Documents/Advisory Data/Main sector/Flat file/Old/Quang Ninh Province1/2021\n",
      "Folder name: /sites/BIHub/Shared Documents/Advisory Data/Main sector/Flat file/Old/Phu Quoc City/2017\n",
      "/sites/BIHub/Shared Documents/Advisory Data/Main sector/Flat file/Old/Phu Quoc City/2020\n",
      "/sites/BIHub/Shared Documents/Advisory Data/Main sector/Flat file/Old/Phu Quoc City/2021\n",
      "/sites/BIHub/Shared Documents/Advisory Data/Main sector/Flat file/Old/Phu Quoc City/2019\n",
      "/sites/BIHub/Shared Documents/Advisory Data/Main sector/Flat file/Old/Phu Quoc City/2018\n",
      "/sites/BIHub/Shared Documents/Advisory Data/Main sector/Flat file/Old/Phu Quoc City/2016\n",
      "Folder name: /sites/BIHub/Shared Documents/Advisory Data/Main sector/Flat file/Old/Binh Thuan Province/2021\n",
      "Folder name: /sites/BIHub/Shared Documents/Advisory Data/Main sector/Flat file/Old/Da Nang City/2020\n",
      "Folder name: /sites/BIHub/Shared Documents/Advisory Data/Main sector/Flat file/Old/Thua Thien Hue Province/2020\n",
      "/sites/BIHub/Shared Documents/Advisory Data/Main sector/Flat file/Old/Thua Thien Hue Province/2021\n",
      "/sites/BIHub/Shared Documents/Advisory Data/Main sector/Flat file/Old/Thua Thien Hue Province/Q1\n",
      "Folder name: /sites/BIHub/Shared Documents/Advisory Data/Main sector/Flat file/Khanh Hoa Province/2021/Q1\n",
      "Folder name: /sites/BIHub/Shared Documents/Advisory Data/Main sector/Flat file/Khanh Hoa Province/2020/Q4\n",
      "/sites/BIHub/Shared Documents/Advisory Data/Main sector/Flat file/Khanh Hoa Province/2020/Q2\n",
      "Folder name: /sites/BIHub/Shared Documents/Advisory Data/Main sector/Flat file/Khanh Hoa Province/2022/Q1\n",
      "Folder name: /sites/BIHub/Shared Documents/Advisory Data/Main sector/Flat file/Khanh Hoa Province/2019/Q2\n",
      "/sites/BIHub/Shared Documents/Advisory Data/Main sector/Flat file/Khanh Hoa Province/2019/Q4\n",
      "Folder name: /sites/BIHub/Shared Documents/Advisory Data/Main sector/Flat file/Bac Ninh Province/2019/Q1\n",
      "/sites/BIHub/Shared Documents/Advisory Data/Main sector/Flat file/Bac Ninh Province/2019/Q4\n",
      "Folder name: /sites/BIHub/Shared Documents/Advisory Data/Main sector/Flat file/Bac Ninh Province/2021/Q4\n",
      "Folder name: /sites/BIHub/Shared Documents/Advisory Data/Main sector/Flat file/Bac Ninh Province/2023/Q1\n",
      "Folder name: /sites/BIHub/Shared Documents/Advisory Data/Main sector/Flat file/Bac Ninh Province/2018/Q2\n",
      "Folder name: /sites/BIHub/Shared Documents/Advisory Data/Main sector/Flat file/Bac Ninh Province/2022/Q1\n",
      "/sites/BIHub/Shared Documents/Advisory Data/Main sector/Flat file/Bac Ninh Province/2022/Q3\n",
      "/sites/BIHub/Shared Documents/Advisory Data/Main sector/Flat file/Bac Ninh Province/2022/Q4\n",
      "/sites/BIHub/Shared Documents/Advisory Data/Main sector/Flat file/Bac Ninh Province/2022/Q2\n",
      "Folder name: /sites/BIHub/Shared Documents/Advisory Data/Main sector/Flat file/Bac Ninh Province/2020/Q2\n",
      "/sites/BIHub/Shared Documents/Advisory Data/Main sector/Flat file/Bac Ninh Province/2020/Q1\n",
      "Folder name: /sites/BIHub/Shared Documents/Advisory Data/Main sector/Flat file/BRVT/2020/Q2\n",
      "Folder name: /sites/BIHub/Shared Documents/Advisory Data/Main sector/Flat file/BRVT/2021/Q1\n",
      "Folder name: /sites/BIHub/Shared Documents/Advisory Data/Main sector/Flat file/BRVT/2019/Q4\n",
      "/sites/BIHub/Shared Documents/Advisory Data/Main sector/Flat file/BRVT/2019/Q3\n",
      "Folder name: /sites/BIHub/Shared Documents/Advisory Data/Main sector/Flat file/BRVT/2022/Q2\n",
      "/sites/BIHub/Shared Documents/Advisory Data/Main sector/Flat file/BRVT/2022/Q1\n",
      "Folder name: /sites/BIHub/Shared Documents/Advisory Data/Main sector/Flat file/Binh Duong Province/2022/Q2\n",
      "/sites/BIHub/Shared Documents/Advisory Data/Main sector/Flat file/Binh Duong Province/2022/Q3\n",
      "/sites/BIHub/Shared Documents/Advisory Data/Main sector/Flat file/Binh Duong Province/2022/Q4\n",
      "/sites/BIHub/Shared Documents/Advisory Data/Main sector/Flat file/Binh Duong Province/2022/Q1\n",
      "Folder name: /sites/BIHub/Shared Documents/Advisory Data/Main sector/Flat file/Binh Duong Province/2019/Q4\n",
      "/sites/BIHub/Shared Documents/Advisory Data/Main sector/Flat file/Binh Duong Province/2019/Q1\n",
      "/sites/BIHub/Shared Documents/Advisory Data/Main sector/Flat file/Binh Duong Province/2019/Q2\n",
      "/sites/BIHub/Shared Documents/Advisory Data/Main sector/Flat file/Binh Duong Province/2019/Q3\n",
      "Folder name: /sites/BIHub/Shared Documents/Advisory Data/Main sector/Flat file/Binh Duong Province/2018/Q1\n",
      "/sites/BIHub/Shared Documents/Advisory Data/Main sector/Flat file/Binh Duong Province/2018/Q4\n",
      "Folder name: /sites/BIHub/Shared Documents/Advisory Data/Main sector/Flat file/Binh Duong Province/2023/Q1\n",
      "Folder name: /sites/BIHub/Shared Documents/Advisory Data/Main sector/Flat file/Binh Duong Province/2021/Q4\n",
      "/sites/BIHub/Shared Documents/Advisory Data/Main sector/Flat file/Binh Duong Province/2021/Q1\n",
      "/sites/BIHub/Shared Documents/Advisory Data/Main sector/Flat file/Binh Duong Province/2021/Q3\n",
      "/sites/BIHub/Shared Documents/Advisory Data/Main sector/Flat file/Binh Duong Province/2021/Q2\n",
      "Folder name: /sites/BIHub/Shared Documents/Advisory Data/Main sector/Flat file/Binh Duong Province/2020/Q1\n",
      "/sites/BIHub/Shared Documents/Advisory Data/Main sector/Flat file/Binh Duong Province/2020/Q4\n",
      "Folder name: /sites/BIHub/Shared Documents/Advisory Data/Main sector/Flat file/Kien Giang Province/2018/Q4\n",
      "/sites/BIHub/Shared Documents/Advisory Data/Main sector/Flat file/Kien Giang Province/2018/Q3\n",
      "Folder name: /sites/BIHub/Shared Documents/Advisory Data/Main sector/Flat file/Kien Giang Province/2019/Q1\n",
      "/sites/BIHub/Shared Documents/Advisory Data/Main sector/Flat file/Kien Giang Province/2019/Q4\n",
      "/sites/BIHub/Shared Documents/Advisory Data/Main sector/Flat file/Kien Giang Province/2019/Q3\n",
      "Folder name: /sites/BIHub/Shared Documents/Advisory Data/Main sector/Flat file/Kien Giang Province/2022/Q3\n"
     ]
    },
    {
     "name": "stdout",
     "output_type": "stream",
     "text": [
      "Folder name: /sites/BIHub/Shared Documents/Advisory Data/Main sector/Flat file/Kien Giang Province/2016/Q1\n",
      "/sites/BIHub/Shared Documents/Advisory Data/Main sector/Flat file/Kien Giang Province/2016/Q4\n",
      "Folder name: /sites/BIHub/Shared Documents/Advisory Data/Main sector/Flat file/Kien Giang Province/2021/Q1\n",
      "Folder name: /sites/BIHub/Shared Documents/Advisory Data/Main sector/Flat file/Kien Giang Province/2017/Q3\n",
      "/sites/BIHub/Shared Documents/Advisory Data/Main sector/Flat file/Kien Giang Province/2017/Q1\n",
      "/sites/BIHub/Shared Documents/Advisory Data/Main sector/Flat file/Kien Giang Province/2017/Q2\n",
      "Folder name: /sites/BIHub/Shared Documents/Advisory Data/Main sector/Flat file/Kien Giang Province/2020/Q3\n",
      "Folder name: /sites/BIHub/Shared Documents/Advisory Data/Main sector/Flat file/Lam Dong Province/2018/Q2\n",
      "Folder name: /sites/BIHub/Shared Documents/Advisory Data/Main sector/Flat file/Lam Dong Province/2021/Q3\n",
      "Folder name: /sites/BIHub/Shared Documents/Advisory Data/Main sector/Flat file/Lam Dong Province/2017/Q1\n",
      "Folder name: /sites/BIHub/Shared Documents/Advisory Data/Main sector/Flat file/Lam Dong Province/2020/Q4\n",
      "Folder name: /sites/BIHub/Shared Documents/Advisory Data/Main sector/Flat file/Quang Nam Province/2017/Q2\n",
      "Folder name: /sites/BIHub/Shared Documents/Advisory Data/Main sector/Flat file/Quang Nam Province/2018/Q1\n",
      "Folder name: /sites/BIHub/Shared Documents/Advisory Data/Main sector/Flat file/Quang Nam Province/2020/Q3\n",
      "Folder name: /sites/BIHub/Shared Documents/Advisory Data/Main sector/Flat file/Ha Noi City/2021/Q4\n",
      "/sites/BIHub/Shared Documents/Advisory Data/Main sector/Flat file/Ha Noi City/2021/Q3\n",
      "/sites/BIHub/Shared Documents/Advisory Data/Main sector/Flat file/Ha Noi City/2021/Q1\n",
      "/sites/BIHub/Shared Documents/Advisory Data/Main sector/Flat file/Ha Noi City/2021/Q2\n",
      "Folder name: /sites/BIHub/Shared Documents/Advisory Data/Main sector/Flat file/Ha Noi City/2017/Q1\n",
      "/sites/BIHub/Shared Documents/Advisory Data/Main sector/Flat file/Ha Noi City/2017/Q3\n",
      "/sites/BIHub/Shared Documents/Advisory Data/Main sector/Flat file/Ha Noi City/2017/Q4\n",
      "/sites/BIHub/Shared Documents/Advisory Data/Main sector/Flat file/Ha Noi City/2017/Q2\n",
      "Folder name: /sites/BIHub/Shared Documents/Advisory Data/Main sector/Flat file/Ha Noi City/2020/Q4\n",
      "/sites/BIHub/Shared Documents/Advisory Data/Main sector/Flat file/Ha Noi City/2020/Q3\n",
      "/sites/BIHub/Shared Documents/Advisory Data/Main sector/Flat file/Ha Noi City/2020/Q2\n",
      "/sites/BIHub/Shared Documents/Advisory Data/Main sector/Flat file/Ha Noi City/2020/Q1\n",
      "Folder name: /sites/BIHub/Shared Documents/Advisory Data/Main sector/Flat file/Ha Noi City/2023/Q1\n",
      "Folder name: /sites/BIHub/Shared Documents/Advisory Data/Main sector/Flat file/Ha Noi City/2022/Q2\n",
      "/sites/BIHub/Shared Documents/Advisory Data/Main sector/Flat file/Ha Noi City/2022/Q3\n",
      "/sites/BIHub/Shared Documents/Advisory Data/Main sector/Flat file/Ha Noi City/2022/Q4\n",
      "/sites/BIHub/Shared Documents/Advisory Data/Main sector/Flat file/Ha Noi City/2022/Q1\n",
      "Folder name: /sites/BIHub/Shared Documents/Advisory Data/Main sector/Flat file/Ha Noi City/2018/Q3\n",
      "/sites/BIHub/Shared Documents/Advisory Data/Main sector/Flat file/Ha Noi City/2018/Q2\n",
      "/sites/BIHub/Shared Documents/Advisory Data/Main sector/Flat file/Ha Noi City/2018/Q1\n",
      "/sites/BIHub/Shared Documents/Advisory Data/Main sector/Flat file/Ha Noi City/2018/Q4\n",
      "Folder name: /sites/BIHub/Shared Documents/Advisory Data/Main sector/Flat file/Ha Noi City/2019/Q4\n",
      "/sites/BIHub/Shared Documents/Advisory Data/Main sector/Flat file/Ha Noi City/2019/Q3\n",
      "/sites/BIHub/Shared Documents/Advisory Data/Main sector/Flat file/Ha Noi City/2019/Q1\n",
      "/sites/BIHub/Shared Documents/Advisory Data/Main sector/Flat file/Ha Noi City/2019/Q2\n",
      "Folder name: /sites/BIHub/Shared Documents/Advisory Data/Main sector/Flat file/Hoa Binh Province/2022/Q2\n",
      "Folder name: /sites/BIHub/Shared Documents/Advisory Data/Main sector/Flat file/Hoa Binh Province/2021/Q2\n",
      "/sites/BIHub/Shared Documents/Advisory Data/Main sector/Flat file/Hoa Binh Province/2021/Q1\n",
      "Folder name: /sites/BIHub/Shared Documents/Advisory Data/Main sector/Flat file/Hai Phong City/2019/Q4\n",
      "Folder name: /sites/BIHub/Shared Documents/Advisory Data/Main sector/Flat file/Hai Phong City/2021/Q4\n",
      "Folder name: /sites/BIHub/Shared Documents/Advisory Data/Main sector/Flat file/Hai Phong City/2018/Q4\n",
      "/sites/BIHub/Shared Documents/Advisory Data/Main sector/Flat file/Hai Phong City/2018/Q2\n",
      "Folder name: /sites/BIHub/Shared Documents/Advisory Data/Main sector/Flat file/Hai Phong City/2017/Q3\n",
      "/sites/BIHub/Shared Documents/Advisory Data/Main sector/Flat file/Hai Phong City/2017/Q4\n",
      "/sites/BIHub/Shared Documents/Advisory Data/Main sector/Flat file/Hai Phong City/2017/Q2\n",
      "/sites/BIHub/Shared Documents/Advisory Data/Main sector/Flat file/Hai Phong City/2017/Q1\n",
      "Folder name: /sites/BIHub/Shared Documents/Advisory Data/Main sector/Flat file/Hai Phong City/2022/Q2\n",
      "/sites/BIHub/Shared Documents/Advisory Data/Main sector/Flat file/Hai Phong City/2022/Q4\n",
      "Folder name: /sites/BIHub/Shared Documents/Advisory Data/Main sector/Flat file/Hai Phong City/2020/Q4\n",
      "Folder name: /sites/BIHub/Shared Documents/Advisory Data/Main sector/Flat file/Hai Phong City/2023/Q1\n",
      "Folder name: /sites/BIHub/Shared Documents/Advisory Data/Main sector/Flat file/Long An Province/2019/Q4\n",
      "Folder name: /sites/BIHub/Shared Documents/Advisory Data/Main sector/Flat file/Long An Province/2022/Q2\n",
      "/sites/BIHub/Shared Documents/Advisory Data/Main sector/Flat file/Long An Province/2022/Q1\n",
      "/sites/BIHub/Shared Documents/Advisory Data/Main sector/Flat file/Long An Province/2022/Q3\n",
      "/sites/BIHub/Shared Documents/Advisory Data/Main sector/Flat file/Long An Province/2022/Q4\n",
      "Folder name: /sites/BIHub/Shared Documents/Advisory Data/Main sector/Flat file/Long An Province/2018/Q4\n",
      "Folder name: /sites/BIHub/Shared Documents/Advisory Data/Main sector/Flat file/Long An Province/2020/Q2\n",
      "/sites/BIHub/Shared Documents/Advisory Data/Main sector/Flat file/Long An Province/2020/Q1\n",
      "Folder name: /sites/BIHub/Shared Documents/Advisory Data/Main sector/Flat file/Long An Province/2023/Q1\n",
      "Folder name: /sites/BIHub/Shared Documents/Advisory Data/Main sector/Flat file/Long An Province/2021/Q1\n",
      "/sites/BIHub/Shared Documents/Advisory Data/Main sector/Flat file/Long An Province/2021/Q4\n",
      "Folder name: /sites/BIHub/Shared Documents/Advisory Data/Main sector/Flat file/Long An Province/2017/Q1\n",
      "Folder name: /sites/BIHub/Shared Documents/Advisory Data/Main sector/Flat file/Thua Thien Hue Province/2017/Q1\n",
      "/sites/BIHub/Shared Documents/Advisory Data/Main sector/Flat file/Thua Thien Hue Province/2017/Q2\n",
      "Folder name: /sites/BIHub/Shared Documents/Advisory Data/Main sector/Flat file/Thua Thien Hue Province/2022/Q2\n",
      "Folder name: /sites/BIHub/Shared Documents/Advisory Data/Main sector/Flat file/Thua Thien Hue Province/2021/Q3\n",
      "Folder name: /sites/BIHub/Shared Documents/Advisory Data/Main sector/Flat file/Thua Thien Hue Province/2019/Q3\n",
      "Folder name: /sites/BIHub/Shared Documents/Advisory Data/Main sector/Flat file/Dong Nai Province/2017/Q2\n",
      "/sites/BIHub/Shared Documents/Advisory Data/Main sector/Flat file/Dong Nai Province/2017/Q4\n",
      "Folder name: /sites/BIHub/Shared Documents/Advisory Data/Main sector/Flat file/Dong Nai Province/2019/Q4\n",
      "/sites/BIHub/Shared Documents/Advisory Data/Main sector/Flat file/Dong Nai Province/2019/Q2\n",
      "/sites/BIHub/Shared Documents/Advisory Data/Main sector/Flat file/Dong Nai Province/2019/Q3\n",
      "/sites/BIHub/Shared Documents/Advisory Data/Main sector/Flat file/Dong Nai Province/2019/Q1\n",
      "Folder name: /sites/BIHub/Shared Documents/Advisory Data/Main sector/Flat file/Dong Nai Province/2022/Q3\n",
      "/sites/BIHub/Shared Documents/Advisory Data/Main sector/Flat file/Dong Nai Province/2022/Q1\n",
      "/sites/BIHub/Shared Documents/Advisory Data/Main sector/Flat file/Dong Nai Province/2022/Q2\n",
      "/sites/BIHub/Shared Documents/Advisory Data/Main sector/Flat file/Dong Nai Province/2022/Q4\n",
      "Folder name: /sites/BIHub/Shared Documents/Advisory Data/Main sector/Flat file/Dong Nai Province/2018/Q2\n",
      "/sites/BIHub/Shared Documents/Advisory Data/Main sector/Flat file/Dong Nai Province/2018/Q3\n",
      "/sites/BIHub/Shared Documents/Advisory Data/Main sector/Flat file/Dong Nai Province/2018/Q1\n",
      "/sites/BIHub/Shared Documents/Advisory Data/Main sector/Flat file/Dong Nai Province/2018/Q4\n"
     ]
    },
    {
     "name": "stdout",
     "output_type": "stream",
     "text": [
      "Folder name: /sites/BIHub/Shared Documents/Advisory Data/Main sector/Flat file/Dong Nai Province/2023/Q1\n",
      "Folder name: /sites/BIHub/Shared Documents/Advisory Data/Main sector/Flat file/Dong Nai Province/2021/Q1\n",
      "/sites/BIHub/Shared Documents/Advisory Data/Main sector/Flat file/Dong Nai Province/2021/Q4\n",
      "/sites/BIHub/Shared Documents/Advisory Data/Main sector/Flat file/Dong Nai Province/2021/Q3\n",
      "/sites/BIHub/Shared Documents/Advisory Data/Main sector/Flat file/Dong Nai Province/2021/Q2\n",
      "Folder name: \n",
      "Folder name: /sites/BIHub/Shared Documents/Advisory Data/Main sector/Flat file/Dong Nai Province/2020/Q3\n",
      "/sites/BIHub/Shared Documents/Advisory Data/Main sector/Flat file/Dong Nai Province/2020/Q4\n",
      "/sites/BIHub/Shared Documents/Advisory Data/Main sector/Flat file/Dong Nai Province/2020/Q1\n",
      "/sites/BIHub/Shared Documents/Advisory Data/Main sector/Flat file/Dong Nai Province/2020/Q2\n",
      "Folder name: /sites/BIHub/Shared Documents/Advisory Data/Main sector/Flat file/Binh Dinh Province/2022/Q1\n",
      "Folder name: /sites/BIHub/Shared Documents/Advisory Data/Main sector/Flat file/Binh Dinh Province/2021/Q2\n",
      "Folder name: /sites/BIHub/Shared Documents/Advisory Data/Main sector/Flat file/Binh Dinh Province/2019/Q1\n",
      "Folder name: /sites/BIHub/Shared Documents/Advisory Data/Main sector/Flat file/Binh Dinh Province/2020/Q4\n"
     ]
    }
   ],
   "source": [
    "#lấy quý\n",
    "list_folder_sub2=[]\n",
    "for i in list_folder_sub1:\n",
    "    ls=eval(sp_object).get_content_url(i,return_list_folder=True)\n",
    "    list_folder_sub2=list_folder_sub2+ls"
   ]
  },
  {
   "cell_type": "code",
   "execution_count": 8,
   "id": "aa46fe3c",
   "metadata": {
    "scrolled": true
   },
   "outputs": [
    {
     "name": "stdout",
     "output_type": "stream",
     "text": [
      "Folder name: \n",
      "Files name: /sites/BIHub/Shared Documents/Advisory Data/Main sector/Flat file/Bac Ninh Province/2023/Q1/VLTH_BN_20230331.csv\n",
      "Files name: /sites/BIHub/Shared Documents/Advisory Data/Main sector/Flat file/Bac Ninh Province/2023/Q1/Apartment_Bac Ninh_20230331.csv\n"
     ]
    }
   ],
   "source": [
    "#Provide information\n",
    "Province_name=['Bac Ninh Province']#Chọn tỉnh cần import-- là tên folder \n",
    "Year=['2023']#Chọn năm cần import\n",
    "Quarter=['Q1']#Chọn quý cần import\n",
    "#Có thể chọn nhiều tỉnh, tên tỉnh để trong dấu nháy đơn và cách nhau bởi dấy phẩy. Áp dụng tương tự cho năm, quý\n",
    "#-------------------------------------------------------\n",
    "df_summ_file = pd.DataFrame({'Name':[],'ServerRelativeUrl':[], 'TimeLastModified':[], 'ModTime':[], 'Modified_by_ID':[]})\n",
    "for i in list_folder_sub2:\n",
    "    if i.split('/')[7] in Province_name and i.split('/')[8] in Year and i.split('/')[9] in Quarter:\n",
    "        df_summ_file = pd.concat([df_summ_file, eval(sp_object).get_content_url(i)])\n",
    "list_url = df_summ_file['ServerRelativeUrl'].to_list()\n",
    "#History file\n",
    "df_query=pd.DataFrame(df_summ_file).reset_index(drop=True)\n",
    "df_summ_file = df_summ_file.reset_index(drop=True)"
   ]
  },
  {
   "cell_type": "markdown",
   "id": "afbe169c",
   "metadata": {},
   "source": [
    "### GET IMPORT FILE"
   ]
  },
  {
   "cell_type": "code",
   "execution_count": 46,
   "id": "51e0061a",
   "metadata": {
    "scrolled": true
   },
   "outputs": [
    {
     "data": {
      "text/plain": [
       "['/sites/BIHub/Shared Documents/Advisory Data/Main sector/Flat file/Binh Duong Province/2023/Q1/VLTH_BINHDUONG_20230331.xlsx']"
      ]
     },
     "execution_count": 46,
     "metadata": {},
     "output_type": "execute_result"
    }
   ],
   "source": [
    "url = []\n",
    "for i in list_url:\n",
    "    sector = i.split('/')[-1].split('_')[0].upper()\n",
    "    \n",
    "    if sector=='APARTMENT':\n",
    "        sector='APT'\n",
    "    else:\n",
    "        pass\n",
    "    \n",
    "    if sector in ('VLTH'):#Chọn sector cần import: RETAIL, OFFICE, SA, HOTEL, APT, VLTH\n",
    "        url.append(i)\n",
    "    else:\n",
    "        pass\n",
    "url"
   ]
  },
  {
   "cell_type": "markdown",
   "id": "df571cf7",
   "metadata": {},
   "source": [
    "### IMPORT DATA"
   ]
  },
  {
   "cell_type": "code",
   "execution_count": 47,
   "id": "5fa7bc94",
   "metadata": {
    "scrolled": true
   },
   "outputs": [
    {
     "name": "stderr",
     "output_type": "stream",
     "text": [
      "  0%|          | 0/1 [00:00<?, ?it/s]"
     ]
    },
    {
     "name": "stdout",
     "output_type": "stream",
     "text": [
      "\u001b[32mValidate succesfully\u001b[0m\n",
      "CONNECTION SUCESSFUL IN INSERT TO FRESH FUNCTION!\n",
      "Insert VLTH_BINHDUONG_20230331 to Fresh\n",
      "Insert VLTH_BINHDUONG_20230331 to Fresh\n",
      "Insert VLTH_BINHDUONG_20230331 to Fresh\n"
     ]
    },
    {
     "name": "stderr",
     "output_type": "stream",
     "text": [
      "100%|██████████| 1/1 [00:23<00:00, 23.67s/it]\n"
     ]
    }
   ],
   "source": [
    "'''Prepare ingredients''' \n",
    "columns_that_need_unidecode = ['Project_Name','Sub_Project_Name','Developer','Constructor'\n",
    "                               , 'Operator','Project_District_Name','Project_City_Name', 'Construction_Status'\n",
    "                              ]\n",
    "#Create empty df for checking dictionary\n",
    "df_dict = pd.DataFrame(columns=['File_Name', 'Missing_Values', 'Flag'])\n",
    "#Create multi empty df for tracking autdit step\n",
    "name_sector = ['RETAIL', 'SA', 'APT', 'VLTH', 'OFFICE', 'HOTEL']\n",
    "name_sector = [x.lower() for x in name_sector]\n",
    "for i in name_sector:\n",
    "    globals()['df_temp_flat_{}'.format(i)] = pd.DataFrame([])\n",
    "    globals()['df_flat_{}'.format(i)] = pd.DataFrame([])\n",
    "    globals()['df_new_key_{}'.format(i)] = pd.DataFrame([])  \n",
    "#-------------------------------------------------------\n",
    "'''Get data''' \n",
    "for file_url in tqdm(url):  \n",
    "    data, file_name, sector = get_data(relative_url, file_url)\n",
    "    #-------------------------------------------------------\n",
    "    data = check_date_key(file_url, data)#Check format date_key in flat file   \n",
    "    data['Project_Name']= np.where(data['Project_Name'].isnull(), data['Sub_Project_Name'], data['Project_Name']) #Fill up project_name if its null\n",
    "    #Check duplicate sub_name\n",
    "    data, df_dup = check_duplicate(data, 'Sub_Project_Name')\n",
    "    if len(df_dup) != 0:\n",
    "        print(colored('Check dupplicate sub_name', 'yellow'))\n",
    "        df_noti_html = convert_df_to_html(type_html = 1, df = df_dup, type_sector = 1, cnxn = engine)\n",
    "        to_email = ['nthieu@savills.com.vn']\n",
    "        run_email(type_sector = 'MAIN SECTOR', email_type = 1, user_email = to_email, df_noti_html = df_noti_html)\n",
    "    else:       \n",
    "        #-------------------------------------------------------\n",
    "        '''Validation step'''\n",
    "        #Remove unfortmated values\n",
    "        #data = remove_unformated_character(type_sector = 1, sector = sector, file_name = file_name, data = data)\n",
    "        data = remove_unformated_character(data)\n",
    "        #Remove unicode characters\n",
    "        for i in columns_that_need_unidecode:\n",
    "            if i not in data.columns:\n",
    "                data[i] = np.nan\n",
    "                data[i] = data[i].replace({np.nan: None})\n",
    "                print(colored('Column {} is added in {}','yellow').format(i, f'{file_name}'))\n",
    "            else:\n",
    "                pass   \n",
    "            data[i] = remove_unicode(data[i])\n",
    "        #Check dictionary\n",
    "        lst_dict = ['City', 'District', 'Status', 'Type', 'Grade']\n",
    "        lst_cls = ['Project_City_Name', 'Project_District_Name', 'Project_Status', 'Sub_Project_Type', 'Grade']\n",
    "        for i, j in zip(lst_cls, lst_dict):\n",
    "            data, df_dict = check_dictionary(df_dict, file_name, data, i, j, sector, engine, sp_object)\n",
    "        if len(df_dict) == 0:\n",
    "            print(colored('Validate succesfully','green'))\n",
    "            #-------------------------------------------------------\n",
    "            '''Import data process'''\n",
    "            #Check project key\n",
    "            data = Generate_Additional_Columns(data,url,df_summ_file,BIHub,engine,file_url)\n",
    "            processed_data, flag_key = check_project_key(file_url, data, sector, engine)\n",
    "            #Create tracking audit\n",
    "            if sector == 'RETAIL':\n",
    "                df_temp_flat_retail = pd.concat([df_temp_flat_retail, data], axis=0)\n",
    "                df_flat_retail=tracking_flat_file(df_temp_flat_retail, file_url)\n",
    "                if len(processed_data) != 0:\n",
    "                    df_new_key_retail = check_new_key(df_new_key = df_new_key_retail, processed_data = processed_data, sector = sector)\n",
    "            elif sector == 'OFFICE':\n",
    "                df_temp_flat_office = pd.concat([df_temp_flat_office, data], axis=0)\n",
    "                df_flat_office = tracking_flat_file(df_temp_flat_office, file_url)\n",
    "                if len(processed_data) != 0:\n",
    "                    df_new_key_office = check_new_key(df_new_key = df_new_key_office, processed_data = processed_data, sector = sector)\n",
    "            elif sector == 'HOTEL':\n",
    "                df_temp_flat_hotel = pd.concat([df_temp_flat_hotel, data], axis=0)\n",
    "                df_flat_hotel = tracking_flat_file(df_temp_flat_hotel, file_url)\n",
    "                if len(processed_data) != 0:\n",
    "                    df_new_key_hotel = check_new_key(df_new_key = df_new_key_hotel, processed_data = processed_data, sector = sector)\n",
    "            elif sector == 'SA' or sector=='SERVICED_APARTMENT':\n",
    "                df_temp_flat_sa = pd.concat([df_temp_flat_sa, data], axis=0)\n",
    "                df_flat_sa = tracking_flat_file(df_temp_flat_sa, file_url)\n",
    "                if len(processed_data) != 0:\n",
    "                    df_new_key_sa = check_new_key(df_new_key = df_new_key_sa, processed_data = processed_data, sector = sector)\n",
    "            elif sector == 'APT' or sector=='APARTMENT':\n",
    "                df_temp_flat_apt = pd.concat([df_temp_flat_apt, data], axis=0)\n",
    "                df_flat_apt = tracking_flat_file(df_temp_flat_apt, file_url)\n",
    "                if len(processed_data) != 0:\n",
    "                    df_new_key_apt = check_new_key(df_new_key = df_new_key_apt, processed_data = processed_data, sector = sector)\n",
    "            \n",
    "            elif sector == 'VLTH':\n",
    "                df_temp_flat_vlth = pd.concat([df_temp_flat_vlth, data], axis=0)\n",
    "                df_flat_vlth = tracking_flat_file(df_temp_flat_vlth, file_url)\n",
    "                if len(processed_data) != 0:\n",
    "                    df_new_key_vlth = check_new_key(df_new_key = df_new_key_vlth, processed_data = processed_data, sector = sector) \n",
    "            else:\n",
    "                pass\n",
    "            #Get key and generate new key (if needed)\n",
    "            data = get_project_key(flag_key, processed_data, data, sector, engine)\n",
    "            insert_to_fresh(file_url, data, cnt_str)\n",
    "        else:\n",
    "            pass"
   ]
  },
  {
   "cell_type": "markdown",
   "id": "ca7a5663",
   "metadata": {},
   "source": [
    "### SEND EMAIL"
   ]
  },
  {
   "cell_type": "code",
   "execution_count": 48,
   "id": "29b12652",
   "metadata": {
    "scrolled": true
   },
   "outputs": [
    {
     "name": "stdout",
     "output_type": "stream",
     "text": [
      "Sent email successfully\n"
     ]
    }
   ],
   "source": [
    "list_df_flat = [df_flat_office, df_flat_retail, df_flat_hotel, df_flat_sa, df_flat_apt, df_flat_vlth]\n",
    "list_df_new_key = [df_new_key_office, df_new_key_retail, df_new_key_hotel, df_new_key_sa, df_new_key_apt, df_new_key_vlth]\n",
    "#Email notify missing in dictionary\n",
    "if len(df_dict) != 0:\n",
    "    print(colored('Missing values in dictionary','yellow'))\n",
    "    df_noti_html = convert_df_to_html(type_html = 2, df = df_dict, cnxn = engine)\n",
    "    to_email = ['nthieu@savills.com.vn'\n",
    "                # ,'pthihuongnguyen@savills.com.vn'\n",
    "                ]\n",
    "    run_email(email_type = 2, user_email = to_email, df_noti_html = df_noti_html)\n",
    "else:\n",
    "    pass\n",
    "#Email notify imported data\n",
    "df_flat_html, df_query_html = convert_df_to_html(type_html = 3, list_df = list_df_flat, type_sector = 1, cnxn = engine)\n",
    "to_email = ['nthieu@savills.com.vn']#, 'VNResearchBI@Savills.com.vn']\n",
    "run_email(type_sector = 'MAIN SECTOR', email_type = 3, user_email = to_email, df_flat_html = df_flat_html, df_query_html = df_query_html)\n",
    "\n",
    "#Email notify create new key\n",
    "df_new_key_html = convert_df_to_html(type_html = 4, list_df = list_df_new_key, cnxn = engine)\n",
    "if len(df_new_key_html) != 0:\n",
    "    print(colored('Some new keys were created','yellow'))\n",
    "    to_email = ['nthieu@savills.com.vn']\n",
    "    run_email(type_sector = 'MAIN SECTOR', email_type = 4, user_email = to_email, df_noti_html = df_new_key_html)"
   ]
  },
  {
   "cell_type": "markdown",
   "id": "2e64df76",
   "metadata": {},
   "source": [
    "### TRACKING AUDIT"
   ]
  },
  {
   "cell_type": "code",
   "execution_count": 49,
   "id": "6edb6c07",
   "metadata": {},
   "outputs": [
    {
     "name": "stdout",
     "output_type": "stream",
     "text": [
      "\u001b[32mInserted audit tracking sucessfully\u001b[0m\n"
     ]
    }
   ],
   "source": [
    "insert_to_tracking(list_df_flat, 'Tracking_Main_Sector', engine)"
   ]
  },
  {
   "cell_type": "code",
   "execution_count": null,
   "id": "f7ac0422",
   "metadata": {},
   "outputs": [],
   "source": []
  }
 ],
 "metadata": {
  "kernelspec": {
   "display_name": "Python 3 (ipykernel)",
   "language": "python",
   "name": "python3"
  },
  "language_info": {
   "codemirror_mode": {
    "name": "ipython",
    "version": 3
   },
   "file_extension": ".py",
   "mimetype": "text/x-python",
   "name": "python",
   "nbconvert_exporter": "python",
   "pygments_lexer": "ipython3",
   "version": "3.10.11"
  }
 },
 "nbformat": 4,
 "nbformat_minor": 5
}
