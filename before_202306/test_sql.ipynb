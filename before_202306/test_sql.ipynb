{
 "cells": [
  {
   "cell_type": "code",
   "execution_count": 14,
   "metadata": {},
   "outputs": [
    {
     "name": "stdout",
     "output_type": "stream",
     "text": [
      "['anagrams', 'anscombe', 'attention', 'brain_networks', 'car_crashes', 'diamonds', 'dots', 'dowjones', 'exercise', 'flights', 'fmri', 'geyser', 'glue', 'healthexp', 'iris', 'mpg', 'penguins', 'planets', 'seaice', 'taxis', 'tips', 'titanic']\n"
     ]
    }
   ],
   "source": [
    "#import modules\n",
    "import pandas as pd\n",
    "import numpy as np\n",
    "import matplotlib.pyplot as plt\n",
    "import seaborn as sns\n",
    "import json\n",
    "from urllib.parse import quote_plus\n",
    "from sqlalchemy import create_engine, event,text\n",
    "%matplotlib inline\n",
    "print(sns.get_dataset_names())\n",
    "sns.set_theme() #Apply the default theme"
   ]
  },
  {
   "cell_type": "code",
   "execution_count": 15,
   "metadata": {},
   "outputs": [
    {
     "name": "stdout",
     "output_type": "stream",
     "text": [
      "CONNECTION SUCESSFUL!\n"
     ]
    }
   ],
   "source": [
    "f = open ('database_information.json', \"r\")\n",
    "qq = json.loads(f.read())\n",
    "f.close()\n",
    "ini_cnt_str ='Driver={driver_str};Server=tcp:hkazdevsqld3vnreserch.database.windows.net,1433;database={database};Uid={username};Pwd={password};Encrypt=yes;Authentication=ActiveDirectoryPassword;Connection Timeout=30;'.format(**qq)\n",
    "quoted = quote_plus(ini_cnt_str)\n",
    "cnt_str = 'mssql+pyodbc:///?odbc_connect={}'.format(quoted)\n",
    "engine = create_engine(cnt_str)\n",
    "\n",
    "#Test Connection\n",
    "try:\n",
    "    conn = engine.connect()\n",
    "    result = conn.execute(text(\"SELECT 1\"))\n",
    "    print(\"CONNECTION SUCESSFUL!\")\n",
    "except Exception as e:\n",
    "    print(\"CONNECTION FAILED:\",str(e))"
   ]
  },
  {
   "cell_type": "code",
   "execution_count": 16,
   "metadata": {},
   "outputs": [],
   "source": [
    "dim_table_name = \"Main_Sector_Project\"\n",
    "fact_table_name = \"Office\"\n",
    "fact = pd.read_sql(f\"select * from dw.{fact_table_name}\",engine)\n",
    "dim = pd.read_sql(f\"select * from dw.{dim_table_name}\",engine)\n"
   ]
  },
  {
   "cell_type": "code",
   "execution_count": 17,
   "metadata": {},
   "outputs": [
    {
     "name": "stdout",
     "output_type": "stream",
     "text": [
      "<class 'pandas.core.frame.DataFrame'>\n",
      "RangeIndex: 21263 entries, 0 to 21262\n",
      "Data columns (total 17 columns):\n",
      " #   Column                Non-Null Count  Dtype  \n",
      "---  ------                --------------  -----  \n",
      " 0   Surrogate_ID          21263 non-null  int64  \n",
      " 1   Date_Key              21263 non-null  int64  \n",
      " 2   Project_key           21263 non-null  int64  \n",
      " 3   Form                  21263 non-null  object \n",
      " 4   Project_Status        21263 non-null  object \n",
      " 5   Payment_Term          216 non-null    object \n",
      " 6   Construction_Status   636 non-null    object \n",
      " 7   Agent_Name            399 non-null    object \n",
      " 8   Gross_Office_Area     11954 non-null  object \n",
      " 9   Efficiency            7434 non-null   object \n",
      " 10  NLA                   16797 non-null  float64\n",
      " 11  Leased_Area_End_Of_Q  16061 non-null  float64\n",
      " 12  Vacant_Area           4226 non-null   float64\n",
      " 13  Avg_Net_Rent          148 non-null    float64\n",
      " 14  Avg_Gross_Rent        16193 non-null  float64\n",
      " 15  Service_Charge        3224 non-null   object \n",
      " 16  New_Supply            709 non-null    float64\n",
      "dtypes: float64(6), int64(3), object(8)\n",
      "memory usage: 2.8+ MB\n"
     ]
    }
   ],
   "source": [
    "fact.info()"
   ]
  },
  {
   "cell_type": "code",
   "execution_count": 24,
   "metadata": {},
   "outputs": [
    {
     "name": "stdout",
     "output_type": "stream",
     "text": [
      "<class 'pandas.core.frame.DataFrame'>\n",
      "RangeIndex: 10691 entries, 0 to 10690\n",
      "Data columns (total 30 columns):\n",
      " #   Column                 Non-Null Count  Dtype  \n",
      "---  ------                 --------------  -----  \n",
      " 0   Project_Key            10691 non-null  int64  \n",
      " 1   Sector                 10691 non-null  object \n",
      " 2   Project_Name           10689 non-null  object \n",
      " 3   Sub_Project_Name       10690 non-null  object \n",
      " 4   Latitude               9653 non-null   float64\n",
      " 5   Longtitude             9653 non-null   float64\n",
      " 6   Project_Grade          5737 non-null   object \n",
      " 7   Project_Type           8688 non-null   object \n",
      " 8   Current_Status         10691 non-null  object \n",
      " 9   Project_Phase          145 non-null    float64\n",
      " 10  Project_City_Name      10691 non-null  object \n",
      " 11  Project_District_Name  10691 non-null  object \n",
      " 12  District_Type          5696 non-null   object \n",
      " 13  Developer              9481 non-null   object \n",
      " 14  Developer_Complex      0 non-null      object \n",
      " 15  Developer_Nationality  897 non-null    object \n",
      " 16  Operator               1576 non-null   object \n",
      " 17  Constructor            185 non-null    object \n",
      " 18  Constructor_Status     1627 non-null   object \n",
      " 19  Launch_Quarter         4869 non-null   float64\n",
      " 20  Launch_Year            8402 non-null   object \n",
      " 21  Complete_Quarter       1676 non-null   float64\n",
      " 22  Complete_Year          2880 non-null   object \n",
      " 23  Sold_Out_Quarter       1086 non-null   float64\n",
      " 24  Sold_Out_Year          1303 non-null   object \n",
      " 25  Number_Of_Floors       42 non-null     float64\n",
      " 26  Date_Key               10691 non-null  object \n",
      " 27  File_Date              10691 non-null  object \n",
      " 28  Import_Date            10691 non-null  object \n",
      " 29  Brand                  22 non-null     object \n",
      "dtypes: float64(7), int64(1), object(22)\n",
      "memory usage: 2.4+ MB\n"
     ]
    }
   ],
   "source": [
    "dim.info()"
   ]
  },
  {
   "cell_type": "code",
   "execution_count": 25,
   "metadata": {},
   "outputs": [
    {
     "name": "stdout",
     "output_type": "stream",
     "text": [
      "<class 'pandas.core.frame.DataFrame'>\n",
      "Index: 0 entries\n",
      "Data columns (total 47 columns):\n",
      " #   Column                 Non-Null Count  Dtype  \n",
      "---  ------                 --------------  -----  \n",
      " 0   Surrogate_ID           0 non-null      int64  \n",
      " 1   Date_Key_x             0 non-null      int64  \n",
      " 2   Project_key            0 non-null      int64  \n",
      " 3   Form                   0 non-null      object \n",
      " 4   Project_Status         0 non-null      object \n",
      " 5   Payment_Term           0 non-null      object \n",
      " 6   Construction_Status    0 non-null      object \n",
      " 7   Agent_Name             0 non-null      object \n",
      " 8   Gross_Office_Area      0 non-null      object \n",
      " 9   Efficiency             0 non-null      object \n",
      " 10  NLA                    0 non-null      float64\n",
      " 11  Leased_Area_End_Of_Q   0 non-null      float64\n",
      " 12  Vacant_Area            0 non-null      float64\n",
      " 13  Avg_Net_Rent           0 non-null      float64\n",
      " 14  Avg_Gross_Rent         0 non-null      float64\n",
      " 15  Service_Charge         0 non-null      object \n",
      " 16  New_Supply             0 non-null      float64\n",
      " 17  Project_Key            0 non-null      int64  \n",
      " 18  Sector                 0 non-null      object \n",
      " 19  Project_Name           0 non-null      object \n",
      " 20  Sub_Project_Name       0 non-null      object \n",
      " 21  Latitude               0 non-null      float64\n",
      " 22  Longtitude             0 non-null      float64\n",
      " 23  Project_Grade          0 non-null      object \n",
      " 24  Project_Type           0 non-null      object \n",
      " 25  Current_Status         0 non-null      object \n",
      " 26  Project_Phase          0 non-null      float64\n",
      " 27  Project_City_Name      0 non-null      object \n",
      " 28  Project_District_Name  0 non-null      object \n",
      " 29  District_Type          0 non-null      object \n",
      " 30  Developer              0 non-null      object \n",
      " 31  Developer_Complex      0 non-null      object \n",
      " 32  Developer_Nationality  0 non-null      object \n",
      " 33  Operator               0 non-null      object \n",
      " 34  Constructor            0 non-null      object \n",
      " 35  Constructor_Status     0 non-null      object \n",
      " 36  Launch_Quarter         0 non-null      float64\n",
      " 37  Launch_Year            0 non-null      object \n",
      " 38  Complete_Quarter       0 non-null      float64\n",
      " 39  Complete_Year          0 non-null      object \n",
      " 40  Sold_Out_Quarter       0 non-null      float64\n",
      " 41  Sold_Out_Year          0 non-null      object \n",
      " 42  Number_Of_Floors       0 non-null      float64\n",
      " 43  Date_Key_y             0 non-null      object \n",
      " 44  File_Date              0 non-null      object \n",
      " 45  Import_Date            0 non-null      object \n",
      " 46  Brand                  0 non-null      object \n",
      "dtypes: float64(13), int64(4), object(30)\n",
      "memory usage: 0.0+ bytes\n"
     ]
    }
   ],
   "source": [
    "# Thực hiện truy vấn SQL bằng Pandas\n",
    "df = pd.merge(fact[fact['Date_Key']=='20191231'], dim[dim['Sector'] == 'Office'], left_on='Project_key', right_on='Project_Key', how='left')\n",
    "df.info()"
   ]
  },
  {
   "cell_type": "markdown",
   "metadata": {},
   "source": []
  },
  {
   "cell_type": "code",
   "execution_count": 27,
   "metadata": {},
   "outputs": [
    {
     "data": {
      "text/html": [
       "<div>\n",
       "<style scoped>\n",
       "    .dataframe tbody tr th:only-of-type {\n",
       "        vertical-align: middle;\n",
       "    }\n",
       "\n",
       "    .dataframe tbody tr th {\n",
       "        vertical-align: top;\n",
       "    }\n",
       "\n",
       "    .dataframe thead th {\n",
       "        text-align: right;\n",
       "    }\n",
       "</style>\n",
       "<table border=\"1\" class=\"dataframe\">\n",
       "  <thead>\n",
       "    <tr style=\"text-align: right;\">\n",
       "      <th></th>\n",
       "      <th>Surrogate_ID</th>\n",
       "      <th>Date_Key_x</th>\n",
       "      <th>Project_key</th>\n",
       "      <th>Form</th>\n",
       "      <th>Project_Status</th>\n",
       "      <th>Payment_Term</th>\n",
       "      <th>Construction_Status</th>\n",
       "      <th>Agent_Name</th>\n",
       "      <th>Gross_Office_Area</th>\n",
       "      <th>Efficiency</th>\n",
       "      <th>...</th>\n",
       "      <th>Launch_Year</th>\n",
       "      <th>Complete_Quarter</th>\n",
       "      <th>Complete_Year</th>\n",
       "      <th>Sold_Out_Quarter</th>\n",
       "      <th>Sold_Out_Year</th>\n",
       "      <th>Number_Of_Floors</th>\n",
       "      <th>Date_Key_y</th>\n",
       "      <th>File_Date</th>\n",
       "      <th>Import_Date</th>\n",
       "      <th>Brand</th>\n",
       "    </tr>\n",
       "  </thead>\n",
       "  <tbody>\n",
       "  </tbody>\n",
       "</table>\n",
       "<p>0 rows × 47 columns</p>\n",
       "</div>"
      ],
      "text/plain": [
       "Empty DataFrame\n",
       "Columns: [Surrogate_ID, Date_Key_x, Project_key, Form, Project_Status, Payment_Term, Construction_Status, Agent_Name, Gross_Office_Area, Efficiency, NLA, Leased_Area_End_Of_Q, Vacant_Area, Avg_Net_Rent, Avg_Gross_Rent, Service_Charge, New_Supply, Project_Key, Sector, Project_Name, Sub_Project_Name, Latitude, Longtitude, Project_Grade, Project_Type, Current_Status, Project_Phase, Project_City_Name, Project_District_Name, District_Type, Developer, Developer_Complex, Developer_Nationality, Operator, Constructor, Constructor_Status, Launch_Quarter, Launch_Year, Complete_Quarter, Complete_Year, Sold_Out_Quarter, Sold_Out_Year, Number_Of_Floors, Date_Key_y, File_Date, Import_Date, Brand]\n",
       "Index: []\n",
       "\n",
       "[0 rows x 47 columns]"
      ]
     },
     "execution_count": 27,
     "metadata": {},
     "output_type": "execute_result"
    }
   ],
   "source": [
    "df"
   ]
  },
  {
   "cell_type": "code",
   "execution_count": null,
   "metadata": {},
   "outputs": [],
   "source": []
  }
 ],
 "metadata": {
  "kernelspec": {
   "display_name": "Python 3 (ipykernel)",
   "language": "python",
   "name": "python3"
  },
  "language_info": {
   "codemirror_mode": {
    "name": "ipython",
    "version": 3
   },
   "file_extension": ".py",
   "mimetype": "text/x-python",
   "name": "python",
   "nbconvert_exporter": "python",
   "pygments_lexer": "ipython3",
   "version": "3.10.9"
  }
 },
 "nbformat": 4,
 "nbformat_minor": 2
}
