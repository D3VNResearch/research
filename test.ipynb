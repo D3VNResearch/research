{
 "cells": [
  {
   "cell_type": "code",
   "execution_count": 2,
   "metadata": {},
   "outputs": [],
   "source": [
    "from Connection import *\n"
   ]
  },
  {
   "cell_type": "code",
   "execution_count": 4,
   "metadata": {},
   "outputs": [
    {
     "name": "stdout",
     "output_type": "stream",
     "text": [
      "CONNECTION SUCESSFUL!\n"
     ]
    },
    {
     "ename": "TypeError",
     "evalue": "ConnectAzureSQLServer() takes 0 positional arguments but 1 was given",
     "output_type": "error",
     "traceback": [
      "\u001b[1;31m---------------------------------------------------------------------------\u001b[0m",
      "\u001b[1;31mTypeError\u001b[0m                                 Traceback (most recent call last)",
      "Cell \u001b[1;32mIn[4], line 3\u001b[0m\n\u001b[0;32m      1\u001b[0m ConnectAzureSQLServer()\n\u001b[0;32m      2\u001b[0m url\u001b[39m=\u001b[39m\u001b[39m'\u001b[39m\u001b[39m/sites/BIHub/Shared Documents/Advisory Data/IP/Flat file\u001b[39m\u001b[39m'\u001b[39m\n\u001b[1;32m----> 3\u001b[0m ConnectAzureSQLServer(url)\n",
      "\u001b[1;31mTypeError\u001b[0m: ConnectAzureSQLServer() takes 0 positional arguments but 1 was given"
     ]
    }
   ],
   "source": [
    "ConnectAzureSQLServer()\n",
    "relative_url = \"/sites/BIHub/Shared Documents/Advisory Data/IP/Flat file\"\n",
    "sp_object = relative_url.split('/')[2].replace('-','')\n",
    "list_folder = eval(sp_object).get_content_url(relative_url,return_list_folder=True)\n",
    "\n",
    "    "
   ]
  },
  {
   "attachments": {},
   "cell_type": "markdown",
   "metadata": {},
   "source": [
    "\n"
   ]
  }
 ],
 "metadata": {
  "kernelspec": {
   "display_name": "Python 3",
   "language": "python",
   "name": "python3"
  },
  "language_info": {
   "codemirror_mode": {
    "name": "ipython",
    "version": 3
   },
   "file_extension": ".py",
   "mimetype": "text/x-python",
   "name": "python",
   "nbconvert_exporter": "python",
   "pygments_lexer": "ipython3",
   "version": "3.11.4"
  },
  "orig_nbformat": 4
 },
 "nbformat": 4,
 "nbformat_minor": 2
}
