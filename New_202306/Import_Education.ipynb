{
 "cells": [
  {
   "cell_type": "markdown",
   "id": "2f9c70bc",
   "metadata": {},
   "source": [
    "### IMPORT LIBRARY"
   ]
  },
  {
   "cell_type": "code",
   "execution_count": 115,
   "id": "ccfa4d14",
   "metadata": {},
   "outputs": [],
   "source": [
    "from office365.runtime.auth.authentication_context import AuthenticationContext\n",
    "from office365.sharepoint.client_context import ClientContext\n",
    "from office365.sharepoint.files.file import File\n",
    "from office365.runtime.auth.client_credential import ClientCredential\n",
    "from office365.runtime.client_request_exception import ClientRequestException\n",
    "import datetime\n",
    "import pytz\n",
    "import pandas as pd\n",
    "import numpy as np\n",
    "import csv\n",
    "import glob\n",
    "import pyodbc\n",
    "import os \n",
    "import json\n",
    "from io import BytesIO\n",
    "import io\n",
    "import platform\n",
    "from function.PyToSp import *\n",
    "from tqdm import tqdm\n",
    "from urllib.parse import quote_plus\n",
    "import numpy as np\n",
    "import pandas as pd\n",
    "from sqlalchemy import create_engine, event\n",
    "import pyodbc\n",
    "import requests\n",
    "import inspect\n",
    "from validateSamSung import *\n",
    "pd.set_option('display.max_columns', None)\n",
    "pd.set_option('display.max_rows', None)\n",
    "from urllib.parse import quote_plus\n",
    "import msal\n",
    "from itertools import chain\n",
    "from send_email import *"
   ]
  },
  {
   "cell_type": "markdown",
   "id": "d8bee114",
   "metadata": {},
   "source": [
    "### CONNECT TO AZURE SQL"
   ]
  },
  {
   "cell_type": "code",
   "execution_count": 116,
   "id": "a39960d9",
   "metadata": {},
   "outputs": [],
   "source": [
    "import json\n",
    "f = open ('database_information.json', \"r\")\n",
    "qq = json.loads(f.read())\n",
    "f.close()\n",
    "ini_cnt_str ='Driver={driver_str};Server=tcp:hkazdevsqld3vnreserch.database.windows.net,1433;database={database};Uid={username};Pwd={password};Encrypt=yes;Authentication=ActiveDirectoryPassword;Connection Timeout=30;'.format(**qq)\n",
    "quoted = quote_plus(ini_cnt_str)\n",
    "cnt_str = 'mssql+pyodbc:///?odbc_connect={}'.format(quoted)\n",
    "engine = create_engine(cnt_str)"
   ]
  },
  {
   "cell_type": "markdown",
   "id": "81420039",
   "metadata": {},
   "source": [
    "### CONNECT TO SHAREPOINT"
   ]
  },
  {
   "cell_type": "code",
   "execution_count": 117,
   "id": "4b0587ba",
   "metadata": {
    "scrolled": false
   },
   "outputs": [
    {
     "name": "stdout",
     "output_type": "stream",
     "text": [
      "Web site title: S22M Research & BI Hub _ Successful Connection!\n"
     ]
    }
   ],
   "source": [
    "header_BIHub = 'share_point_BIHub'\n",
    "config_BIHub = read_config_json(config_path, header_BIHub)\n",
    "BIHub = SharePoint(config_BIHub)\n",
    "BIHub.check_connect()"
   ]
  },
  {
   "cell_type": "code",
   "execution_count": 118,
   "id": "b3cf9cd9",
   "metadata": {},
   "outputs": [
    {
     "name": "stdout",
     "output_type": "stream",
     "text": [
      "Folder name: /sites/BIHub/Shared Documents/Advisory Data/Project/Crawling Data\n",
      "/sites/BIHub/Shared Documents/Advisory Data/Project/Education\n",
      "/sites/BIHub/Shared Documents/Advisory Data/Project/SAMSUNG\n",
      "/sites/BIHub/Shared Documents/Advisory Data/Project/GapMap Data\n"
     ]
    }
   ],
   "source": [
    "#Tất cả các tỉnh\n",
    "relative_url = \"/sites/BIHub/Shared Documents/Advisory Data/Project\"\n",
    "sp_object = relative_url.split('/')[2].replace('-','')\n",
    "list_folder = eval(sp_object).get_content_url(relative_url,return_list_folder=True)"
   ]
  },
  {
   "cell_type": "code",
   "execution_count": 119,
   "id": "e4319872",
   "metadata": {},
   "outputs": [
    {
     "name": "stdout",
     "output_type": "stream",
     "text": [
      "Folder name: /sites/BIHub/Shared Documents/Advisory Data/Project/Crawling Data/News\n",
      "/sites/BIHub/Shared Documents/Advisory Data/Project/Crawling Data/MST\n",
      "Folder name: \n",
      "Files name: /sites/BIHub/Shared Documents/Advisory Data/Project/Education/Education.xlsx\n",
      "Folder name: /sites/BIHub/Shared Documents/Advisory Data/Project/SAMSUNG/Flat file\n",
      "/sites/BIHub/Shared Documents/Advisory Data/Project/SAMSUNG/Raw file\n",
      "Folder name: \n",
      "Files name: /sites/BIHub/Shared Documents/Advisory Data/Project/GapMap Data/Commune.xlsx\n",
      "Files name: /sites/BIHub/Shared Documents/Advisory Data/Project/GapMap Data/District.xlsx\n"
     ]
    }
   ],
   "source": [
    "#-------------------------------------------------------\n",
    "df_summ_file = pd.DataFrame({'Name':[],'ServerRelativeUrl':[], 'TimeLastModified':[], 'ModTime':[], 'Modified_by_ID':[]})\n",
    "for i in list_folder:\n",
    "    df_summ_file = pd.concat([df_summ_file, eval(sp_object).get_content_url(i)])\n",
    "list_file = df_summ_file['ServerRelativeUrl'].to_list()\n",
    "#History file\n",
    "df_query=pd.DataFrame(df_summ_file).reset_index(drop=True)\n",
    "df_summ_file = df_summ_file.reset_index(drop=True)"
   ]
  },
  {
   "cell_type": "code",
   "execution_count": 120,
   "id": "e5bc3144",
   "metadata": {
    "scrolled": true
   },
   "outputs": [
    {
     "data": {
      "text/plain": [
       "['/sites/BIHub/Shared Documents/Advisory Data/Project/Education/Education.xlsx']"
      ]
     },
     "execution_count": 120,
     "metadata": {},
     "output_type": "execute_result"
    }
   ],
   "source": [
    "url = []\n",
    "for i in list_file:\n",
    "    Folder = i.split('/')[7]\n",
    "    if Folder == 'Education.xlsx':\n",
    "        url.append(i)\n",
    "url        "
   ]
  },
  {
   "cell_type": "code",
   "execution_count": 121,
   "id": "f9a49849",
   "metadata": {},
   "outputs": [],
   "source": [
    "def get_data(relative_url, file_url):\n",
    "    header_BIHub = 'share_point_BIHub'\n",
    "    config_BIHub = read_config_json(config_path, header_BIHub)\n",
    "    BIHub = SharePoint(config_BIHub)\n",
    "\n",
    "    sp_object = relative_url.split('/')[2].replace('-', '')\n",
    "    data = eval(sp_object).get_file(file_url)\n",
    "    # Convert data to DataFrame if it's not already\n",
    "    if not isinstance(data, pd.DataFrame):\n",
    "        data = pd.DataFrame(data)\n",
    "\n",
    "    # Remove irrelevant data\n",
    "    data.dropna(axis=0, how='all', inplace=True)  # remove blank rows\n",
    "    data.drop(data.columns[data.columns.str.contains('Unnamed')], axis=1, inplace=True)  # remove blank columns\n",
    "    data.columns = data.columns.str.strip().str.replace(r'\\s+', '', regex=True)  # strip column\n",
    "    return data"
   ]
  },
  {
   "cell_type": "markdown",
   "id": "a08aeac6",
   "metadata": {},
   "source": [
    "## Import"
   ]
  },
  {
   "cell_type": "code",
   "execution_count": 122,
   "id": "f0829aad",
   "metadata": {},
   "outputs": [
    {
     "name": "stderr",
     "output_type": "stream",
     "text": [
      "  0%|          | 0/1 [00:00<?, ?it/s]"
     ]
    },
    {
     "name": "stdout",
     "output_type": "stream",
     "text": [
      "     City                                     School_Name  \\\n",
      "0    Hcmc  International School Ho Chi Minh City - Ishcmc   \n",
      "1  Ha Noi                                   Vinuniversity   \n",
      "2  Ha Noi                                   Vinuniversity   \n",
      "3  Ha Noi              British International School Hanoi   \n",
      "4  Ha Noi    United Nations International School Of Hanoi   \n",
      "\n",
      "                                       Location           Type       Sub_Type  \\\n",
      "0          28 Vo Truong Toan Street, District 2  International  International   \n",
      "1  Vinhomes Ocean Park, Gia Lam District, Hanoi  International  International   \n",
      "2  Vinhomes Ocean Park, Gia Lam District, Hanoi  International  International   \n",
      "3         Vinhomes Riverside, Long Bien, Ha Noi  International  International   \n",
      "4                    G9 Ciputra, Tay Ho, Ha Noi  International  International   \n",
      "\n",
      "                              Investor   Status  Operating_Year  \\\n",
      "0  International Education Corporation  Private            1993   \n",
      "1                         Vingroup Jsc  Private            2021   \n",
      "2                         Vingroup Jsc  Private            2021   \n",
      "3                Nord Anglia Education  Private            2012   \n",
      "4                       United Nations   Public            1988   \n",
      "\n",
      "  Operating_Date      Teaching_Level Class_Number Students_Number  \\\n",
      "0     1993-01-01  Senior High School         None            None   \n",
      "1     2021-01-01          University            6             500   \n",
      "2     2021-01-01          University         None            None   \n",
      "3     2012-01-01  Senior High School         None            None   \n",
      "4     1988-01-01  Senior High School         None            None   \n",
      "\n",
      "  Ratio_of_Local_Students Annual_Tuition_Fee_Min Annual_Tuition_Fee_Max  \\\n",
      "0                    None              763700000              871300000   \n",
      "1                     250              815850000                   None   \n",
      "2                    None              815850000                   None   \n",
      "3                    None              743400000              807400000   \n",
      "4                    None              747746000              794655400   \n",
      "\n",
      "  Average_Annual_Tuition_Fee Estimated_Increase_Rate Increase_Rate_Period  \\\n",
      "0                  817500000                    None                 None   \n",
      "1                  815850000                    None                    3   \n",
      "2                  815850000                    None                 None   \n",
      "3                  775400000                    None                 None   \n",
      "4                  771200700                    None                 None   \n",
      "\n",
      "  Estimated_Annual_Increased_Rate   Flag Flag_1               Contact  \\\n",
      "0                            None   None   None   (+84) 028 3898 9100   \n",
      "1                            None  Total  Total  02471089779/18008189   \n",
      "2                            None   None   None  02471089779/18008189   \n",
      "3                            None   None   None         024 3946 0435   \n",
      "4                            None   None   None         024 7300 4500   \n",
      "\n",
      "                                             Website  \\\n",
      "0                              Http://Www.Ishcmc.Com   \n",
      "1  Https://Vinuni.Edu.Vn/Undergraduate/Tuition-Fe...   \n",
      "2  Https://Vinuni.Edu.Vn/Undergraduate/Tuition-Fe...   \n",
      "3  Https://Www.Nordangliaeducation.Com/En/Our-Sch...   \n",
      "4  Https://Www.Unishanoi.Org/Admissions/Tuition-Fees   \n",
      "\n",
      "                                           Reference              Import_Date  \n",
      "0  Https://Nld.Com.Vn/Giao-Duc-Khoa-Hoc/Truong-Qu...  2023-10-26 15:53:38.890  \n",
      "1                                               None  2023-10-26 15:53:38.890  \n",
      "2                                               None  2023-10-26 15:53:38.890  \n",
      "3  Https://Www.Teacherhorizons.Com/Schools/Asia-V...  2023-10-26 15:53:38.890  \n",
      "4  Https://Www.Teacherhorizons.Com/Schools/Asia-V...  2023-10-26 15:53:38.890  \n"
     ]
    },
    {
     "name": "stderr",
     "output_type": "stream",
     "text": [
      "100%|██████████| 1/1 [00:03<00:00,  3.08s/it]\n"
     ]
    }
   ],
   "source": [
    "#Create empty df for checking dictionary\n",
    "df_dict = pd.DataFrame(columns=['File_Name', 'Missing_Values', 'Flag'])\n",
    "df_temp_flat = pd.DataFrame()\n",
    "df_flat = pd.DataFrame()\n",
    "#-------------------------------------------------------\n",
    "'''Get data''' \n",
    "table_name = 'Education'\n",
    "columns_that_need_unidecode = ['School_Name', 'Location']\n",
    "for file_url in tqdm(url):\n",
    "    data = get_data(relative_url, file_url)\n",
    "    data = remove_unformated_character(data)\n",
    "    for i in columns_that_need_unidecode:\n",
    "        data[i] = remove_unicode(data[i])\n",
    "    today = pd.to_datetime('today').strftime(\"%Y-%m-%d %H:%M:%S.%f\")[:-3]\n",
    "    data['Import_Date']=today\n",
    "    data.to_sql(table_name, engine, index=False, if_exists='append', schema='DW')"
   ]
  }
 ],
 "metadata": {
  "kernelspec": {
   "display_name": "Python 3 (ipykernel)",
   "language": "python",
   "name": "python3"
  },
  "language_info": {
   "codemirror_mode": {
    "name": "ipython",
    "version": 3
   },
   "file_extension": ".py",
   "mimetype": "text/x-python",
   "name": "python",
   "nbconvert_exporter": "python",
   "pygments_lexer": "ipython3",
   "version": "3.11.4"
  }
 },
 "nbformat": 4,
 "nbformat_minor": 5
}
