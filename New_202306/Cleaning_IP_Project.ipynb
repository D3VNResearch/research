{
 "cells": [
  {
   "cell_type": "code",
   "execution_count": null,
   "id": "7ca0ab20",
   "metadata": {},
   "outputs": [],
   "source": [
    "import datetime\n",
    "import pandas as pd\n",
    "import numpy as np\n",
    "import pyodbc\n",
    "import json\n",
    "from urllib.parse import quote_plus\n",
    "from sqlalchemy import create_engine, event,text"
   ]
  },
  {
   "cell_type": "code",
   "execution_count": null,
   "id": "0b11edb0",
   "metadata": {},
   "outputs": [],
   "source": [
    "import json\n",
    "f = open ('database_information.json', \"r\")\n",
    "qq = json.loads(f.read())\n",
    "f.close()\n",
    "ini_cnt_str ='Driver={driver_str};Server=tcp:hkazdevsqld3vnreserch.database.windows.net,1433;database={database};Uid={username};Pwd={password};Encrypt=yes;Authentication=ActiveDirectoryPassword;Connection Timeout=30;'.format(**qq)\n",
    "quoted = quote_plus(ini_cnt_str)\n",
    "cnt_str = 'mssql+pyodbc:///?odbc_connect={}'.format(quoted)\n",
    "engine = create_engine(cnt_str)\n",
    "\n",
    "#Test Connection\n",
    "try:\n",
    "    conn = engine.connect()\n",
    "    result = conn.execute(text(\"SELECT 1\"))\n",
    "    print(\"CONNECTION SUCESSFUL!\")\n",
    "except Exception as e:\n",
    "    print(\"CONNECTION FAILED:\",str(e))"
   ]
  },
  {
   "cell_type": "code",
   "execution_count": null,
   "id": "55e8bfca",
   "metadata": {
    "scrolled": true
   },
   "outputs": [],
   "source": [
    "data = pd.read_excel(r'doc\\IP_Changelog_CleanIP.xlsx', sheet_name=\"Need_Update\")\n",
    "data"
   ]
  },
  {
   "cell_type": "code",
   "execution_count": null,
   "id": "d8b87b8d",
   "metadata": {},
   "outputs": [],
   "source": [
    "today=pd.to_datetime('today')\n",
    "data['Import_Date']=today"
   ]
  },
  {
   "cell_type": "code",
   "execution_count": null,
   "id": "de0beb5b",
   "metadata": {},
   "outputs": [],
   "source": [
    "try:\n",
    "    data.to_sql('IP_Project_Manual_Update_P2', engine, index=False, if_exists='append', schema='DW')\n",
    "except Exception as e:\n",
    "    print(\"ERROR:\",str(e))"
   ]
  }
 ],
 "metadata": {
  "kernelspec": {
   "display_name": "base",
   "language": "python",
   "name": "python3"
  },
  "language_info": {
   "codemirror_mode": {
    "name": "ipython",
    "version": 3
   },
   "file_extension": ".py",
   "mimetype": "text/x-python",
   "name": "python",
   "nbconvert_exporter": "python",
   "pygments_lexer": "ipython3",
   "version": "3.10.9"
  }
 },
 "nbformat": 4,
 "nbformat_minor": 5
}
