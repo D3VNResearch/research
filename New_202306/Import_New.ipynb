{
 "cells": [
  {
   "cell_type": "markdown",
   "id": "2f9c70bc",
   "metadata": {},
   "source": [
    "### IMPORT LIBRARY"
   ]
  },
  {
   "cell_type": "code",
   "execution_count": 1,
   "id": "ccfa4d14",
   "metadata": {},
   "outputs": [],
   "source": [
    "from office365.runtime.auth.authentication_context import AuthenticationContext\n",
    "from office365.sharepoint.client_context import ClientContext\n",
    "from office365.sharepoint.files.file import File\n",
    "from office365.runtime.auth.client_credential import ClientCredential\n",
    "from office365.runtime.client_request_exception import ClientRequestException\n",
    "import datetime\n",
    "import pytz\n",
    "import pandas as pd\n",
    "import numpy as np\n",
    "import csv\n",
    "import glob\n",
    "import pyodbc\n",
    "import os \n",
    "import json\n",
    "from io import BytesIO\n",
    "import io\n",
    "import platform\n",
    "from function.PyToSp import *\n",
    "from tqdm import tqdm\n",
    "from urllib.parse import quote_plus\n",
    "import numpy as np\n",
    "import pandas as pd\n",
    "from sqlalchemy import create_engine, event\n",
    "import pyodbc\n",
    "import requests\n",
    "import inspect\n",
    "from validateSamSung import *\n",
    "pd.set_option('display.max_columns', None)\n",
    "pd.set_option('display.max_rows', None)\n",
    "from urllib.parse import quote_plus\n",
    "import msal\n",
    "from itertools import chain\n",
    "from send_email import *"
   ]
  },
  {
   "cell_type": "markdown",
   "id": "d8bee114",
   "metadata": {},
   "source": [
    "### CONNECT TO AZURE SQL"
   ]
  },
  {
   "cell_type": "code",
   "execution_count": 2,
   "id": "a39960d9",
   "metadata": {},
   "outputs": [],
   "source": [
    "import json\n",
    "f = open ('database_information.json', \"r\")\n",
    "qq = json.loads(f.read())\n",
    "f.close()\n",
    "ini_cnt_str ='Driver={driver_str};Server=tcp:hkazdevsqld3vnreserch.database.windows.net,1433;database={database};Uid={username};Pwd={password};Encrypt=yes;Authentication=ActiveDirectoryPassword;Connection Timeout=30;'.format(**qq)\n",
    "quoted = quote_plus(ini_cnt_str)\n",
    "cnt_str = 'mssql+pyodbc:///?odbc_connect={}'.format(quoted)\n",
    "engine = create_engine(cnt_str)"
   ]
  },
  {
   "cell_type": "markdown",
   "id": "81420039",
   "metadata": {},
   "source": [
    "### CONNECT TO SHAREPOINT"
   ]
  },
  {
   "cell_type": "code",
   "execution_count": 3,
   "id": "4b0587ba",
   "metadata": {
    "scrolled": false
   },
   "outputs": [
    {
     "ename": "ValueError",
     "evalue": "{\"error\":\"invalid_client\",\"error_description\":\"AADSTS7000222: The provided client secret keys for app '9e134518-8744-49cf-860e-212e3dfb685f' are expired. Visit the Azure portal to create new keys for your app: https://aka.ms/NewClientSecret, or consider using certificate credentials for added security: https://aka.ms/certCreds.\\r\\nTrace ID: 7c6d12c8-14c2-4987-a23d-c6616e200c00\\r\\nCorrelation ID: 937b79b0-f2e5-467a-b619-f0f51cf17e4e\\r\\nTimestamp: 2023-10-20 02:11:22Z\",\"error_codes\":[7000222],\"timestamp\":\"2023-10-20 02:11:22Z\",\"trace_id\":\"7c6d12c8-14c2-4987-a23d-c6616e200c00\",\"correlation_id\":\"937b79b0-f2e5-467a-b619-f0f51cf17e4e\",\"error_uri\":\"https://accounts.accesscontrol.windows.net/error?code=7000222\"}",
     "output_type": "error",
     "traceback": [
      "\u001b[1;31m---------------------------------------------------------------------------\u001b[0m",
      "\u001b[1;31mHTTPError\u001b[0m                                 Traceback (most recent call last)",
      "File \u001b[1;32m~\\AppData\\Roaming\\Python\\Python311\\site-packages\\office365\\runtime\\auth\\providers\\acs_token_provider.py:46\u001b[0m, in \u001b[0;36mACSTokenProvider.get_app_only_access_token\u001b[1;34m(self)\u001b[0m\n\u001b[0;32m     45\u001b[0m     url_info \u001b[39m=\u001b[39m urlparse(\u001b[39mself\u001b[39m\u001b[39m.\u001b[39murl)\n\u001b[1;32m---> 46\u001b[0m     \u001b[39mreturn\u001b[39;00m \u001b[39mself\u001b[39m\u001b[39m.\u001b[39m_get_app_only_access_token(url_info\u001b[39m.\u001b[39mhostname, realm)\n\u001b[0;32m     47\u001b[0m \u001b[39mexcept\u001b[39;00m requests\u001b[39m.\u001b[39mexceptions\u001b[39m.\u001b[39mRequestException \u001b[39mas\u001b[39;00m e:\n",
      "File \u001b[1;32m~\\AppData\\Roaming\\Python\\Python311\\site-packages\\office365\\runtime\\auth\\providers\\acs_token_provider.py:71\u001b[0m, in \u001b[0;36mACSTokenProvider._get_app_only_access_token\u001b[1;34m(self, target_host, target_realm)\u001b[0m\n\u001b[0;32m     69\u001b[0m response \u001b[39m=\u001b[39m requests\u001b[39m.\u001b[39mpost(url\u001b[39m=\u001b[39msts_url, headers\u001b[39m=\u001b[39m{\u001b[39m'\u001b[39m\u001b[39mContent-Type\u001b[39m\u001b[39m'\u001b[39m: \u001b[39m'\u001b[39m\u001b[39mapplication/x-www-form-urlencoded\u001b[39m\u001b[39m'\u001b[39m},\n\u001b[0;32m     70\u001b[0m                          data\u001b[39m=\u001b[39moauth2_request)\n\u001b[1;32m---> 71\u001b[0m response\u001b[39m.\u001b[39mraise_for_status()\n\u001b[0;32m     72\u001b[0m \u001b[39mreturn\u001b[39;00m TokenResponse\u001b[39m.\u001b[39mfrom_json(response\u001b[39m.\u001b[39mjson())\n",
      "File \u001b[1;32mc:\\ProgramData\\anaconda3\\Lib\\site-packages\\requests\\models.py:1021\u001b[0m, in \u001b[0;36mResponse.raise_for_status\u001b[1;34m(self)\u001b[0m\n\u001b[0;32m   1020\u001b[0m \u001b[39mif\u001b[39;00m http_error_msg:\n\u001b[1;32m-> 1021\u001b[0m     \u001b[39mraise\u001b[39;00m HTTPError(http_error_msg, response\u001b[39m=\u001b[39m\u001b[39mself\u001b[39m)\n",
      "\u001b[1;31mHTTPError\u001b[0m: 401 Client Error: Unauthorized for url: https://accounts.accesscontrol.windows.net/d929b288-ebb1-49e2-8435-99994c5663d6/tokens/OAuth/2",
      "\nDuring handling of the above exception, another exception occurred:\n",
      "\u001b[1;31mValueError\u001b[0m                                Traceback (most recent call last)",
      "\u001b[1;32mc:\\MainSystemProject\\research\\New_202306\\Import_New.ipynb Cell 6\u001b[0m line \u001b[0;36m4\n\u001b[0;32m      <a href='vscode-notebook-cell:/c%3A/MainSystemProject/research/New_202306/Import_New.ipynb#W5sZmlsZQ%3D%3D?line=1'>2</a>\u001b[0m config_BIHub \u001b[39m=\u001b[39m read_config_json(config_path, header_BIHub)\n\u001b[0;32m      <a href='vscode-notebook-cell:/c%3A/MainSystemProject/research/New_202306/Import_New.ipynb#W5sZmlsZQ%3D%3D?line=2'>3</a>\u001b[0m BIHub \u001b[39m=\u001b[39m SharePoint(config_BIHub)\n\u001b[1;32m----> <a href='vscode-notebook-cell:/c%3A/MainSystemProject/research/New_202306/Import_New.ipynb#W5sZmlsZQ%3D%3D?line=3'>4</a>\u001b[0m BIHub\u001b[39m.\u001b[39mcheck_connect()\n",
      "File \u001b[1;32mc:\\MainSystemProject\\research\\New_202306\\function\\PyToSp.py:38\u001b[0m, in \u001b[0;36mSharePoint.check_connect\u001b[1;34m(self)\u001b[0m\n\u001b[0;32m     36\u001b[0m \u001b[39mself\u001b[39m\u001b[39m.\u001b[39mweb \u001b[39m=\u001b[39m \u001b[39mself\u001b[39m\u001b[39m.\u001b[39mctx\u001b[39m.\u001b[39mweb\n\u001b[0;32m     37\u001b[0m \u001b[39mself\u001b[39m\u001b[39m.\u001b[39mctx\u001b[39m.\u001b[39mload(\u001b[39mself\u001b[39m\u001b[39m.\u001b[39mweb)\n\u001b[1;32m---> 38\u001b[0m \u001b[39mself\u001b[39m\u001b[39m.\u001b[39mctx\u001b[39m.\u001b[39mexecute_query()\n\u001b[0;32m     39\u001b[0m \u001b[39mprint\u001b[39m(\u001b[39m\"\u001b[39m\u001b[39mWeb site title: \u001b[39m\u001b[39m{0}\u001b[39;00m\u001b[39m _ Successful Connection!\u001b[39m\u001b[39m\"\u001b[39m\u001b[39m.\u001b[39mformat(\u001b[39mself\u001b[39m\u001b[39m.\u001b[39mweb\u001b[39m.\u001b[39mproperties[\u001b[39m'\u001b[39m\u001b[39mTitle\u001b[39m\u001b[39m'\u001b[39m]))\n",
      "File \u001b[1;32m~\\AppData\\Roaming\\Python\\Python311\\site-packages\\office365\\runtime\\client_runtime_context.py:187\u001b[0m, in \u001b[0;36mClientRuntimeContext.execute_query\u001b[1;34m(self)\u001b[0m\n\u001b[0;32m    185\u001b[0m \u001b[39mwhile\u001b[39;00m \u001b[39mself\u001b[39m\u001b[39m.\u001b[39mhas_pending_request:\n\u001b[0;32m    186\u001b[0m     qry \u001b[39m=\u001b[39m \u001b[39mself\u001b[39m\u001b[39m.\u001b[39m_get_next_query()\n\u001b[1;32m--> 187\u001b[0m     \u001b[39mself\u001b[39m\u001b[39m.\u001b[39mpending_request()\u001b[39m.\u001b[39mexecute_query(qry)\n",
      "File \u001b[1;32m~\\AppData\\Roaming\\Python\\Python311\\site-packages\\office365\\runtime\\client_request.py:57\u001b[0m, in \u001b[0;36mClientRequest.execute_query\u001b[1;34m(self, query)\u001b[0m\n\u001b[0;32m     55\u001b[0m \u001b[39mtry\u001b[39;00m:\n\u001b[0;32m     56\u001b[0m     request \u001b[39m=\u001b[39m \u001b[39mself\u001b[39m\u001b[39m.\u001b[39mbuild_request(query)\n\u001b[1;32m---> 57\u001b[0m     response \u001b[39m=\u001b[39m \u001b[39mself\u001b[39m\u001b[39m.\u001b[39mexecute_request_direct(request)\n\u001b[0;32m     58\u001b[0m     response\u001b[39m.\u001b[39mraise_for_status()\n\u001b[0;32m     59\u001b[0m     \u001b[39mself\u001b[39m\u001b[39m.\u001b[39mprocess_response(response, query)\n",
      "File \u001b[1;32m~\\AppData\\Roaming\\Python\\Python311\\site-packages\\office365\\runtime\\client_request.py:69\u001b[0m, in \u001b[0;36mClientRequest.execute_request_direct\u001b[1;34m(self, request)\u001b[0m\n\u001b[0;32m     64\u001b[0m \u001b[39mdef\u001b[39;00m \u001b[39mexecute_request_direct\u001b[39m(\u001b[39mself\u001b[39m, request):\n\u001b[0;32m     65\u001b[0m \u001b[39m    \u001b[39m\u001b[39m\"\"\"Execute the client request\u001b[39;00m\n\u001b[0;32m     66\u001b[0m \n\u001b[0;32m     67\u001b[0m \u001b[39m    :type request: office365.runtime.http.request_options.RequestOptions\u001b[39;00m\n\u001b[0;32m     68\u001b[0m \u001b[39m    \"\"\"\u001b[39;00m\n\u001b[1;32m---> 69\u001b[0m     \u001b[39mself\u001b[39m\u001b[39m.\u001b[39mbeforeExecute\u001b[39m.\u001b[39mnotify(request)\n\u001b[0;32m     70\u001b[0m     \u001b[39mif\u001b[39;00m request\u001b[39m.\u001b[39mmethod \u001b[39m==\u001b[39m HttpMethod\u001b[39m.\u001b[39mPost:\n\u001b[0;32m     71\u001b[0m         \u001b[39mif\u001b[39;00m request\u001b[39m.\u001b[39mis_bytes \u001b[39mor\u001b[39;00m request\u001b[39m.\u001b[39mis_file:\n",
      "File \u001b[1;32m~\\AppData\\Roaming\\Python\\Python311\\site-packages\\office365\\runtime\\types\\event_handler.py:27\u001b[0m, in \u001b[0;36mEventHandler.notify\u001b[1;34m(self, *args, **kwargs)\u001b[0m\n\u001b[0;32m     25\u001b[0m \u001b[39mif\u001b[39;00m \u001b[39mself\u001b[39m\u001b[39m.\u001b[39m_once:\n\u001b[0;32m     26\u001b[0m     \u001b[39mself\u001b[39m\u001b[39m.\u001b[39m_listeners\u001b[39m.\u001b[39mremove(listener)\n\u001b[1;32m---> 27\u001b[0m listener(\u001b[39m*\u001b[39margs, \u001b[39m*\u001b[39m\u001b[39m*\u001b[39mkwargs)\n",
      "File \u001b[1;32m~\\AppData\\Roaming\\Python\\Python311\\site-packages\\office365\\sharepoint\\client_context.py:241\u001b[0m, in \u001b[0;36mClientContext._authenticate_request\u001b[1;34m(self, request)\u001b[0m\n\u001b[0;32m    236\u001b[0m \u001b[39mdef\u001b[39;00m \u001b[39m_authenticate_request\u001b[39m(\u001b[39mself\u001b[39m, request):\n\u001b[0;32m    237\u001b[0m \u001b[39m    \u001b[39m\u001b[39m\"\"\"\u001b[39;00m\n\u001b[0;32m    238\u001b[0m \u001b[39m    Authenticate request\u001b[39;00m\n\u001b[0;32m    239\u001b[0m \u001b[39m    :type request: office365.runtime.http.request_options.RequestOptions\u001b[39;00m\n\u001b[0;32m    240\u001b[0m \u001b[39m    \"\"\"\u001b[39;00m\n\u001b[1;32m--> 241\u001b[0m     \u001b[39mself\u001b[39m\u001b[39m.\u001b[39mauthentication_context\u001b[39m.\u001b[39mauthenticate_request(request)\n",
      "File \u001b[1;32m~\\AppData\\Roaming\\Python\\Python311\\site-packages\\office365\\runtime\\auth\\authentication_context.py:195\u001b[0m, in \u001b[0;36mAuthenticationContext.authenticate_request\u001b[1;34m(self, request)\u001b[0m\n\u001b[0;32m    193\u001b[0m \u001b[39mif\u001b[39;00m \u001b[39mself\u001b[39m\u001b[39m.\u001b[39m_authenticate \u001b[39mis\u001b[39;00m \u001b[39mNone\u001b[39;00m:\n\u001b[0;32m    194\u001b[0m     \u001b[39mraise\u001b[39;00m \u001b[39mValueError\u001b[39;00m(\u001b[39m\"\u001b[39m\u001b[39mAuthentication credentials are missing or invalid\u001b[39m\u001b[39m\"\u001b[39m)\n\u001b[1;32m--> 195\u001b[0m \u001b[39mself\u001b[39m\u001b[39m.\u001b[39m_authenticate(request)\n",
      "File \u001b[1;32m~\\AppData\\Roaming\\Python\\Python311\\site-packages\\office365\\runtime\\auth\\authentication_context.py:184\u001b[0m, in \u001b[0;36mAuthenticationContext.acquire_token_for_app.<locals>._authenticate\u001b[1;34m(request)\u001b[0m\n\u001b[0;32m    183\u001b[0m \u001b[39mdef\u001b[39;00m \u001b[39m_authenticate\u001b[39m(request):\n\u001b[1;32m--> 184\u001b[0m     provider\u001b[39m.\u001b[39mauthenticate_request(request)\n",
      "File \u001b[1;32m~\\AppData\\Roaming\\Python\\Python311\\site-packages\\office365\\runtime\\auth\\providers\\acs_token_provider.py:31\u001b[0m, in \u001b[0;36mACSTokenProvider.authenticate_request\u001b[1;34m(self, request)\u001b[0m\n\u001b[0;32m     27\u001b[0m \u001b[39mdef\u001b[39;00m \u001b[39mauthenticate_request\u001b[39m(\u001b[39mself\u001b[39m, request):\n\u001b[0;32m     28\u001b[0m \u001b[39m    \u001b[39m\u001b[39m\"\"\"\u001b[39;00m\n\u001b[0;32m     29\u001b[0m \u001b[39m    :type request: office365.runtime.http.request_options.RequestOptions\u001b[39;00m\n\u001b[0;32m     30\u001b[0m \u001b[39m    \"\"\"\u001b[39;00m\n\u001b[1;32m---> 31\u001b[0m     \u001b[39mself\u001b[39m\u001b[39m.\u001b[39mensure_app_only_access_token()\n\u001b[0;32m     32\u001b[0m     request\u001b[39m.\u001b[39mset_header(\u001b[39m'\u001b[39m\u001b[39mAuthorization\u001b[39m\u001b[39m'\u001b[39m, \u001b[39mself\u001b[39m\u001b[39m.\u001b[39m_get_authorization_header())\n",
      "File \u001b[1;32m~\\AppData\\Roaming\\Python\\Python311\\site-packages\\office365\\runtime\\auth\\providers\\acs_token_provider.py:36\u001b[0m, in \u001b[0;36mACSTokenProvider.ensure_app_only_access_token\u001b[1;34m(self)\u001b[0m\n\u001b[0;32m     34\u001b[0m \u001b[39mdef\u001b[39;00m \u001b[39mensure_app_only_access_token\u001b[39m(\u001b[39mself\u001b[39m):\n\u001b[0;32m     35\u001b[0m     \u001b[39mif\u001b[39;00m \u001b[39mself\u001b[39m\u001b[39m.\u001b[39m_cached_token \u001b[39mis\u001b[39;00m \u001b[39mNone\u001b[39;00m:\n\u001b[1;32m---> 36\u001b[0m         \u001b[39mself\u001b[39m\u001b[39m.\u001b[39m_cached_token \u001b[39m=\u001b[39m \u001b[39mself\u001b[39m\u001b[39m.\u001b[39mget_app_only_access_token()\n\u001b[0;32m     37\u001b[0m     \u001b[39mreturn\u001b[39;00m \u001b[39mself\u001b[39m\u001b[39m.\u001b[39m_cached_token \u001b[39mand\u001b[39;00m \u001b[39mself\u001b[39m\u001b[39m.\u001b[39m_cached_token\u001b[39m.\u001b[39mis_valid\n",
      "File \u001b[1;32m~\\AppData\\Roaming\\Python\\Python311\\site-packages\\office365\\runtime\\auth\\providers\\acs_token_provider.py:49\u001b[0m, in \u001b[0;36mACSTokenProvider.get_app_only_access_token\u001b[1;34m(self)\u001b[0m\n\u001b[0;32m     47\u001b[0m \u001b[39mexcept\u001b[39;00m requests\u001b[39m.\u001b[39mexceptions\u001b[39m.\u001b[39mRequestException \u001b[39mas\u001b[39;00m e:\n\u001b[0;32m     48\u001b[0m     \u001b[39mself\u001b[39m\u001b[39m.\u001b[39merror \u001b[39m=\u001b[39m e\u001b[39m.\u001b[39mresponse\u001b[39m.\u001b[39mtext \u001b[39mif\u001b[39;00m e\u001b[39m.\u001b[39mresponse \u001b[39mis\u001b[39;00m \u001b[39mnot\u001b[39;00m \u001b[39mNone\u001b[39;00m \u001b[39melse\u001b[39;00m \u001b[39m\"\u001b[39m\u001b[39mAcquire app-only access token failed.\u001b[39m\u001b[39m\"\u001b[39m\n\u001b[1;32m---> 49\u001b[0m     \u001b[39mraise\u001b[39;00m \u001b[39mValueError\u001b[39;00m(\u001b[39mself\u001b[39m\u001b[39m.\u001b[39merror)\n",
      "\u001b[1;31mValueError\u001b[0m: {\"error\":\"invalid_client\",\"error_description\":\"AADSTS7000222: The provided client secret keys for app '9e134518-8744-49cf-860e-212e3dfb685f' are expired. Visit the Azure portal to create new keys for your app: https://aka.ms/NewClientSecret, or consider using certificate credentials for added security: https://aka.ms/certCreds.\\r\\nTrace ID: 7c6d12c8-14c2-4987-a23d-c6616e200c00\\r\\nCorrelation ID: 937b79b0-f2e5-467a-b619-f0f51cf17e4e\\r\\nTimestamp: 2023-10-20 02:11:22Z\",\"error_codes\":[7000222],\"timestamp\":\"2023-10-20 02:11:22Z\",\"trace_id\":\"7c6d12c8-14c2-4987-a23d-c6616e200c00\",\"correlation_id\":\"937b79b0-f2e5-467a-b619-f0f51cf17e4e\",\"error_uri\":\"https://accounts.accesscontrol.windows.net/error?code=7000222\"}"
     ]
    }
   ],
   "source": [
    "header_BIHub = 'share_point_BIHub'\n",
    "config_BIHub = read_config_json(config_path, header_BIHub)\n",
    "BIHub = SharePoint(config_BIHub)\n",
    "BIHub.check_connect()"
   ]
  },
  {
   "cell_type": "code",
   "execution_count": null,
   "id": "b3cf9cd9",
   "metadata": {},
   "outputs": [
    {
     "name": "stdout",
     "output_type": "stream",
     "text": [
      "Folder name: /sites/BIHub/Shared Documents/Advisory Data/Project/Crawling Data/News\n",
      "/sites/BIHub/Shared Documents/Advisory Data/Project/Crawling Data/MST\n"
     ]
    }
   ],
   "source": [
    "#Tất cả các tỉnh\n",
    "relative_url = \"/sites/BIHub/Shared Documents/Advisory Data/Project/Crawling Data\"\n",
    "sp_object = relative_url.split('/')[2].replace('-','')\n",
    "list_folder = eval(sp_object).get_content_url(relative_url,return_list_folder=True)"
   ]
  },
  {
   "cell_type": "code",
   "execution_count": null,
   "id": "e4319872",
   "metadata": {},
   "outputs": [
    {
     "name": "stdout",
     "output_type": "stream",
     "text": [
      "Folder name: \n",
      "Files name: /sites/BIHub/Shared Documents/Advisory Data/Project/Crawling Data/News/Data_News.xlsx\n",
      "Folder name: \n",
      "Files name: /sites/BIHub/Shared Documents/Advisory Data/Project/Crawling Data/MST/Data_List_Company.xlsx\n",
      "Files name: /sites/BIHub/Shared Documents/Advisory Data/Project/Crawling Data/MST/Data_Detail.xlsx\n",
      "Files name: /sites/BIHub/Shared Documents/Advisory Data/Project/Crawling Data/MST/FDI_Industry_Code.xlsx\n"
     ]
    }
   ],
   "source": [
    "#-------------------------------------------------------\n",
    "df_summ_file = pd.DataFrame({'Name':[],'ServerRelativeUrl':[], 'TimeLastModified':[], 'ModTime':[], 'Modified_by_ID':[]})\n",
    "for i in list_folder:\n",
    "    df_summ_file = pd.concat([df_summ_file, eval(sp_object).get_content_url(i)])\n",
    "list_file = df_summ_file['ServerRelativeUrl'].to_list()\n",
    "#History file\n",
    "df_query=pd.DataFrame(df_summ_file).reset_index(drop=True)\n",
    "df_summ_file = df_summ_file.reset_index(drop=True)"
   ]
  },
  {
   "cell_type": "code",
   "execution_count": null,
   "id": "e5bc3144",
   "metadata": {
    "scrolled": true
   },
   "outputs": [
    {
     "data": {
      "text/plain": [
       "['/sites/BIHub/Shared Documents/Advisory Data/Project/Crawling Data/News/Data_News.xlsx']"
      ]
     },
     "execution_count": 6,
     "metadata": {},
     "output_type": "execute_result"
    }
   ],
   "source": [
    "url = []\n",
    "for i in list_file:\n",
    "    Folder = i.split('/')[7]\n",
    "    if Folder == 'News':\n",
    "        url.append(i)\n",
    "url        "
   ]
  },
  {
   "cell_type": "code",
   "execution_count": null,
   "id": "f9a49849",
   "metadata": {},
   "outputs": [],
   "source": [
    "def get_data(relative_url, file_url):\n",
    "    header_BIHub = 'share_point_BIHub'\n",
    "    config_BIHub = read_config_json(config_path, header_BIHub)\n",
    "    BIHub = SharePoint(config_BIHub)\n",
    "\n",
    "    sp_object = relative_url.split('/')[2].replace('-', '')\n",
    "    data = eval(sp_object).get_file(file_url)\n",
    "    # Convert data to DataFrame if it's not already\n",
    "    if not isinstance(data, pd.DataFrame):\n",
    "        data = pd.DataFrame(data)\n",
    "\n",
    "    # Remove irrelevant data\n",
    "    data.dropna(axis=0, how='all', inplace=True)  # remove blank rows\n",
    "    data.drop(data.columns[data.columns.str.contains('Unnamed')], axis=1, inplace=True)  # remove blank columns\n",
    "    data.columns = data.columns.str.strip().str.replace(r'\\s+', '', regex=True)  # strip column\n",
    "    return data"
   ]
  },
  {
   "cell_type": "markdown",
   "id": "a08aeac6",
   "metadata": {},
   "source": [
    "## Import"
   ]
  },
  {
   "cell_type": "code",
   "execution_count": null,
   "id": "f0829aad",
   "metadata": {},
   "outputs": [
    {
     "name": "stderr",
     "output_type": "stream",
     "text": [
      "  0%|          | 0/1 [00:00<?, ?it/s]"
     ]
    },
    {
     "name": "stdout",
     "output_type": "stream",
     "text": [
      "363\n"
     ]
    },
    {
     "name": "stderr",
     "output_type": "stream",
     "text": [
      "100%|██████████| 1/1 [01:58<00:00, 118.33s/it]\n"
     ]
    }
   ],
   "source": [
    "#Create empty df for checking dictionary\n",
    "df_dict = pd.DataFrame(columns=['File_Name', 'Missing_Values', 'Flag'])\n",
    "df_temp_flat = pd.DataFrame()\n",
    "df_flat = pd.DataFrame()\n",
    "#-------------------------------------------------------\n",
    "'''Get data''' \n",
    "table_name = 'News'\n",
    "columns_that_need_unidecode = ['Topic','News_Time', 'Title', 'Short_Description', 'Position']\n",
    "\n",
    "for file_url in tqdm(url):\n",
    "    data = get_data(relative_url, file_url)\n",
    "    data = remove_unformated_character(data)\n",
    "    for i in columns_that_need_unidecode:\n",
    "        data[i] = remove_unicode(data[i])\n",
    "    today = pd.to_datetime('today').strftime(\"%Y-%m-%d %H:%M:%S.%f\")[:-3]\n",
    "    data['Import_Date']=today\n",
    "    filtered_data = data[~data['Link'].isin(pd.read_sql_query(\"SELECT Link FROM DW.News\", engine)['Link'])]\n",
    "    get_db= pd.read_sql_query(\"SELECT * FROM DW.News\", engine)\n",
    "    df_get_db = pd.DataFrame(get_db)\n",
    "    filtered_data = data[~data['Link'].isin(df_get_db['Link'])]\n",
    "    filtered_data = filtered_data[~filtered_data['Title'].isin(df_get_db['Title'])]\n",
    "    print(len(filtered_data))\n",
    "    filtered_data.to_sql(table_name, engine, index=False, if_exists='append', schema='DW')"
   ]
  }
 ],
 "metadata": {
  "kernelspec": {
   "display_name": "Python 3 (ipykernel)",
   "language": "python",
   "name": "python3"
  },
  "language_info": {
   "codemirror_mode": {
    "name": "ipython",
    "version": 3
   },
   "file_extension": ".py",
   "mimetype": "text/x-python",
   "name": "python",
   "nbconvert_exporter": "python",
   "pygments_lexer": "ipython3",
   "version": "3.11.4"
  }
 },
 "nbformat": 4,
 "nbformat_minor": 5
}
