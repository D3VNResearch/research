{
 "cells": [
  {
   "cell_type": "markdown",
   "id": "2f9c70bc",
   "metadata": {},
   "source": [
    "### IMPORT LIBRARY"
   ]
  },
  {
   "cell_type": "code",
   "execution_count": 1,
   "id": "ccfa4d14",
   "metadata": {},
   "outputs": [],
   "source": [
    "from office365.runtime.auth.authentication_context import AuthenticationContext\n",
    "from office365.sharepoint.client_context import ClientContext\n",
    "from office365.sharepoint.files.file import File\n",
    "from office365.runtime.auth.client_credential import ClientCredential\n",
    "from office365.runtime.client_request_exception import ClientRequestException\n",
    "import datetime\n",
    "import pytz\n",
    "import pandas as pd\n",
    "import numpy as np\n",
    "import csv\n",
    "import glob\n",
    "import pyodbc\n",
    "import os \n",
    "import json\n",
    "from io import BytesIO\n",
    "import io\n",
    "import platform\n",
    "from function.PyToSp import *\n",
    "from tqdm import tqdm\n",
    "from urllib.parse import quote_plus\n",
    "import numpy as np\n",
    "import pandas as pd\n",
    "from sqlalchemy import create_engine, event\n",
    "import pyodbc\n",
    "import requests\n",
    "import inspect\n",
    "from validate import *\n",
    "pd.set_option('display.max_columns', None)\n",
    "pd.set_option('display.max_rows', None)\n",
    "from urllib.parse import quote_plus\n",
    "import msal\n",
    "from itertools import chain\n",
    "from send_email import *"
   ]
  },
  {
   "cell_type": "markdown",
   "id": "d8bee114",
   "metadata": {},
   "source": [
    "### CONNECT TO AZURE SQL"
   ]
  },
  {
   "cell_type": "code",
   "execution_count": 2,
   "id": "a39960d9",
   "metadata": {},
   "outputs": [],
   "source": [
    "import json\n",
    "f = open ('database_information.json', \"r\")\n",
    "qq = json.loads(f.read())\n",
    "f.close()\n",
    "ini_cnt_str ='Driver={driver_str};Server=tcp:hkazdevsqld3vnreserch.database.windows.net,1433;database={database};Uid={username};Pwd={password};Encrypt=yes;Authentication=ActiveDirectoryPassword;Connection Timeout=30;'.format(**qq)\n",
    "quoted = quote_plus(ini_cnt_str)\n",
    "cnt_str = 'mssql+pyodbc:///?odbc_connect={}'.format(quoted)\n",
    "engine = create_engine(cnt_str)"
   ]
  },
  {
   "cell_type": "markdown",
   "id": "81420039",
   "metadata": {},
   "source": [
    "### CONNECT TO SHAREPOINT"
   ]
  },
  {
   "cell_type": "code",
   "execution_count": 3,
   "id": "4b0587ba",
   "metadata": {
    "scrolled": false
   },
   "outputs": [
    {
     "name": "stdout",
     "output_type": "stream",
     "text": [
      "Web site title: S22M Research & BI Hub _ Successful Connection!\n"
     ]
    }
   ],
   "source": [
    "header_BIHub = 'share_point_BIHub'\n",
    "config_BIHub = read_config_json(config_path, header_BIHub)\n",
    "BIHub = SharePoint(config_BIHub)\n",
    "BIHub.check_connect()"
   ]
  },
  {
   "cell_type": "code",
   "execution_count": 4,
   "id": "b3cf9cd9",
   "metadata": {},
   "outputs": [
    {
     "name": "stdout",
     "output_type": "stream",
     "text": [
      "Folder name: /sites/BIHub/Shared Documents/Advisory Data/Project/Crawling Data/News\n",
      "/sites/BIHub/Shared Documents/Advisory Data/Project/Crawling Data/MST\n"
     ]
    }
   ],
   "source": [
    "#Tất cả các tỉnh\n",
    "relative_url = \"/sites/BIHub/Shared Documents/Advisory Data/Project/Crawling Data\"\n",
    "sp_object = relative_url.split('/')[2].replace('-','')\n",
    "list_folder = eval(sp_object).get_content_url(relative_url,return_list_folder=True)"
   ]
  },
  {
   "cell_type": "code",
   "execution_count": 5,
   "id": "e4319872",
   "metadata": {},
   "outputs": [
    {
     "name": "stdout",
     "output_type": "stream",
     "text": [
      "Folder name: \n",
      "Files name: /sites/BIHub/Shared Documents/Advisory Data/Project/Crawling Data/News/Data_News.xlsx\n",
      "Folder name: \n",
      "Files name: /sites/BIHub/Shared Documents/Advisory Data/Project/Crawling Data/MST/Data_List_Company.xlsx\n",
      "Files name: /sites/BIHub/Shared Documents/Advisory Data/Project/Crawling Data/MST/Data_Detail.xlsx\n",
      "Files name: /sites/BIHub/Shared Documents/Advisory Data/Project/Crawling Data/MST/FDI_Industry_Code.xlsx\n"
     ]
    }
   ],
   "source": [
    "#-------------------------------------------------------\n",
    "df_summ_file = pd.DataFrame({'Name':[],'ServerRelativeUrl':[], 'TimeLastModified':[], 'ModTime':[], 'Modified_by_ID':[]})\n",
    "for i in list_folder:\n",
    "    df_summ_file = pd.concat([df_summ_file, eval(sp_object).get_content_url(i)])\n",
    "list_file = df_summ_file['ServerRelativeUrl'].to_list()\n",
    "#History file\n",
    "df_query=pd.DataFrame(df_summ_file).reset_index(drop=True)\n",
    "df_summ_file = df_summ_file.reset_index(drop=True)"
   ]
  },
  {
   "cell_type": "code",
   "execution_count": 6,
   "id": "e5bc3144",
   "metadata": {
    "scrolled": true
   },
   "outputs": [
    {
     "data": {
      "text/plain": [
       "['/sites/BIHub/Shared Documents/Advisory Data/Project/Crawling Data/News/Data_News.xlsx']"
      ]
     },
     "execution_count": 6,
     "metadata": {},
     "output_type": "execute_result"
    }
   ],
   "source": [
    "url = []\n",
    "for i in list_file:\n",
    "    Folder = i.split('/')[7]\n",
    "    if Folder == 'News':\n",
    "        url.append(i)\n",
    "url        "
   ]
  },
  {
   "cell_type": "code",
   "execution_count": 7,
   "id": "f9a49849",
   "metadata": {},
   "outputs": [],
   "source": [
    "def get_data(relative_url, file_url):\n",
    "    header_BIHub = 'share_point_BIHub'\n",
    "    config_BIHub = read_config_json(config_path, header_BIHub)\n",
    "    BIHub = SharePoint(config_BIHub)\n",
    "\n",
    "    sp_object = relative_url.split('/')[2].replace('-', '')\n",
    "    data = BIHub.get_file(file_url)\n",
    "    # Convert data to DataFrame if it's not already\n",
    "    if not isinstance(data, pd.DataFrame):\n",
    "        data = pd.DataFrame(data)\n",
    "\n",
    "    # Remove irrelevant data\n",
    "    data.dropna(axis=0, how='all', inplace=True)  # remove blank rows\n",
    "    data.drop(data.columns[data.columns.str.contains('Unnamed')], axis=1, inplace=True)  # remove blank columns\n",
    "    data.columns = data.columns.str.strip().str.replace(r'\\s+', '', regex=True)  # strip column\n",
    "    return data"
   ]
  },
  {
   "cell_type": "markdown",
   "id": "a08aeac6",
   "metadata": {},
   "source": [
    "## Import"
   ]
  },
  {
   "cell_type": "code",
   "execution_count": 8,
   "id": "f0829aad",
   "metadata": {},
   "outputs": [
    {
     "name": "stderr",
     "output_type": "stream",
     "text": [
      "  0%|          | 0/1 [00:00<?, ?it/s]"
     ]
    },
    {
     "name": "stdout",
     "output_type": "stream",
     "text": [
      "305\n"
     ]
    },
    {
     "name": "stderr",
     "output_type": "stream",
     "text": [
      "100%|██████████| 1/1 [00:44<00:00, 44.77s/it]\n"
     ]
    }
   ],
   "source": [
    "#Create empty df for checking dictionary\n",
    "df_dict = pd.DataFrame(columns=['File_Name', 'Missing_Values', 'Flag'])\n",
    "df_temp_flat = pd.DataFrame()\n",
    "df_flat = pd.DataFrame()\n",
    "#-------------------------------------------------------\n",
    "'''Get data''' \n",
    "table_name = 'News'\n",
    "columns_that_need_unidecode = ['Topic','News_Time', 'Title', 'Short_Description', 'Position']\n",
    "\n",
    "for file_url in tqdm(url):\n",
    "    data = get_data(relative_url, file_url)\n",
    "    data = remove_unformated_character(data)\n",
    "    for i in columns_that_need_unidecode:\n",
    "        data[i] = remove_unicode(data[i])\n",
    "    today = pd.to_datetime('today').strftime(\"%Y-%m-%d %H:%M:%S.%f\")[:-3]\n",
    "    data['Import_Date']=today\n",
    "    filtered_data = data[~data['Link'].isin(pd.read_sql_query(\"SELECT Link FROM DW.News\", engine)['Link'])]\n",
    "    get_db= pd.read_sql_query(\"SELECT * FROM DW.News\", engine)\n",
    "    df_get_db = pd.DataFrame(get_db)\n",
    "    filtered_data = data[~data['Link'].isin(df_get_db['Link'])]\n",
    "    filtered_data = filtered_data[~filtered_data['Title'].isin(df_get_db['Title'])]\n",
    "    print(len(filtered_data))\n",
    "    filtered_data.to_sql(table_name, engine, index=False, if_exists='append', schema='DW')"
   ]
  }
 ],
 "metadata": {
  "kernelspec": {
   "display_name": "Python 3 (ipykernel)",
   "language": "python",
   "name": "python3"
  },
  "language_info": {
   "codemirror_mode": {
    "name": "ipython",
    "version": 3
   },
   "file_extension": ".py",
   "mimetype": "text/x-python",
   "name": "python",
   "nbconvert_exporter": "python",
   "pygments_lexer": "ipython3",
   "version": "3.11.4"
  }
 },
 "nbformat": 4,
 "nbformat_minor": 5
}
