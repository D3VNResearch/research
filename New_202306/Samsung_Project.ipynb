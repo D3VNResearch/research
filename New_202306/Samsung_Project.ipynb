{
 "cells": [
  {
   "cell_type": "markdown",
   "id": "2f9c70bc",
   "metadata": {},
   "source": [
    "### IMPORT LIBRARY"
   ]
  },
  {
   "cell_type": "code",
   "execution_count": 34,
   "id": "ccfa4d14",
   "metadata": {},
   "outputs": [],
   "source": [
    "from office365.runtime.auth.authentication_context import AuthenticationContext\n",
    "from office365.sharepoint.client_context import ClientContext\n",
    "from office365.sharepoint.files.file import File\n",
    "from office365.runtime.auth.client_credential import ClientCredential\n",
    "from office365.runtime.client_request_exception import ClientRequestException\n",
    "import datetime\n",
    "import pytz\n",
    "import pandas as pd\n",
    "import numpy as np\n",
    "import csv\n",
    "import glob\n",
    "import pyodbc\n",
    "import os \n",
    "import json\n",
    "from io import BytesIO\n",
    "import io\n",
    "import platform\n",
    "from function.PyToSp import *\n",
    "from tqdm import tqdm\n",
    "from urllib.parse import quote_plus\n",
    "import numpy as np\n",
    "import pandas as pd\n",
    "from sqlalchemy import create_engine, event\n",
    "import pyodbc\n",
    "import requests\n",
    "import inspect\n",
    "from validateSamSung import *\n",
    "pd.set_option('display.max_columns', None)\n",
    "pd.set_option('display.max_rows', None)\n",
    "from urllib.parse import quote_plus\n",
    "import msal\n",
    "from itertools import chain\n",
    "from send_email import *"
   ]
  },
  {
   "cell_type": "markdown",
   "id": "d8bee114",
   "metadata": {},
   "source": [
    "### CONNECT TO AZURE SQL"
   ]
  },
  {
   "cell_type": "code",
   "execution_count": 35,
   "id": "a39960d9",
   "metadata": {},
   "outputs": [],
   "source": [
    "import json\n",
    "f = open ('database_information.json', \"r\")\n",
    "qq = json.loads(f.read())\n",
    "f.close()\n",
    "ini_cnt_str ='Driver={driver_str};Server=tcp:hkazdevsqld3vnreserch.database.windows.net,1433;database={database};Uid={username};Pwd={password};Encrypt=yes;Authentication=ActiveDirectoryPassword;Connection Timeout=30;'.format(**qq)\n",
    "quoted = quote_plus(ini_cnt_str)\n",
    "cnt_str = 'mssql+pyodbc:///?odbc_connect={}'.format(quoted)\n",
    "engine = create_engine(cnt_str)"
   ]
  },
  {
   "cell_type": "markdown",
   "id": "81420039",
   "metadata": {},
   "source": [
    "### CONNECT TO SHAREPOINT"
   ]
  },
  {
   "cell_type": "code",
   "execution_count": 36,
   "id": "4b0587ba",
   "metadata": {
    "scrolled": false
   },
   "outputs": [
    {
     "name": "stdout",
     "output_type": "stream",
     "text": [
      "Web site title: S22M Research & BI Hub _ Successful Connection!\n"
     ]
    }
   ],
   "source": [
    "header_BIHub = 'share_point_BIHub'\n",
    "config_BIHub = read_config_json(config_path, header_BIHub)\n",
    "BIHub = SharePoint(config_BIHub)\n",
    "BIHub.check_connect()"
   ]
  },
  {
   "cell_type": "code",
   "execution_count": 37,
   "id": "b3cf9cd9",
   "metadata": {},
   "outputs": [
    {
     "name": "stdout",
     "output_type": "stream",
     "text": [
      "Folder name: /sites/BIHub/Shared Documents/Advisory Data/Project/SAMSUNG/Flat file/2023\n"
     ]
    }
   ],
   "source": [
    "#Tất cả các tỉnh\n",
    "relative_url = \"/sites/BIHub/Shared Documents/Advisory Data/Project/SAMSUNG/Flat file\"\n",
    "sp_object = relative_url.split('/')[2].replace('-','')\n",
    "list_folder = eval(sp_object).get_content_url(relative_url,return_list_folder=True)"
   ]
  },
  {
   "cell_type": "code",
   "execution_count": 38,
   "id": "4a7ab161",
   "metadata": {},
   "outputs": [
    {
     "name": "stdout",
     "output_type": "stream",
     "text": [
      "Folder name: /sites/BIHub/Shared Documents/Advisory Data/Project/SAMSUNG/Flat file/2023/Q2\n"
     ]
    }
   ],
   "source": [
    "#lấy năm\n",
    "list_folder_sub1=[]\n",
    "for i in list_folder:\n",
    "    ls=eval(sp_object).get_content_url(i,return_list_folder=True)\n",
    "    list_folder_sub1=list_folder_sub1+ls"
   ]
  },
  {
   "cell_type": "code",
   "execution_count": 39,
   "id": "e4319872",
   "metadata": {},
   "outputs": [
    {
     "name": "stdout",
     "output_type": "stream",
     "text": [
      "Folder name: \n",
      "Files name: /sites/BIHub/Shared Documents/Advisory Data/Project/SAMSUNG/Flat file/2023/Q2/SAMSUNG_HCM_20230630_RetailerInput.xlsx\n",
      "Files name: /sites/BIHub/Shared Documents/Advisory Data/Project/SAMSUNG/Flat file/2023/Q2/SAMSUNG_Ha Noi_20230630_StreetRetail.xlsx\n",
      "Files name: /sites/BIHub/Shared Documents/Advisory Data/Project/SAMSUNG/Flat file/2023/Q2/SAMSUNG_Ha Noi_20230630_RetailerInput.xlsx\n",
      "Files name: /sites/BIHub/Shared Documents/Advisory Data/Project/SAMSUNG/Flat file/2023/Q2/SAMSUNG_HCM_20230630_StreetRetail.xlsx\n"
     ]
    }
   ],
   "source": [
    "quarter = ['Q2']#Chọn năm cần import\n",
    "year = ['2023']#Chọn quý cần import\n",
    "#-------------------------------------------------------\n",
    "df_summ_file = pd.DataFrame({'Name':[],'ServerRelativeUrl':[], 'TimeLastModified':[], 'ModTime':[], 'Modified_by_ID':[]})\n",
    "for i in list_folder_sub1:\n",
    "    if i.split('/')[-2] in year and i.split('/')[-1] in quarter:\n",
    "        df_summ_file = pd.concat([df_summ_file, eval(sp_object).get_content_url(i)])\n",
    "list_file = df_summ_file['ServerRelativeUrl'].to_list()\n",
    "#History file\n",
    "df_query=pd.DataFrame(df_summ_file).reset_index(drop=True)\n",
    "df_summ_file = df_summ_file.reset_index(drop=True)"
   ]
  },
  {
   "cell_type": "code",
   "execution_count": 40,
   "id": "e5bc3144",
   "metadata": {
    "scrolled": true
   },
   "outputs": [
    {
     "data": {
      "text/plain": [
       "['/sites/BIHub/Shared Documents/Advisory Data/Project/SAMSUNG/Flat file/2023/Q2/SAMSUNG_HCM_20230630_RetailerInput.xlsx',\n",
       " '/sites/BIHub/Shared Documents/Advisory Data/Project/SAMSUNG/Flat file/2023/Q2/SAMSUNG_Ha Noi_20230630_StreetRetail.xlsx',\n",
       " '/sites/BIHub/Shared Documents/Advisory Data/Project/SAMSUNG/Flat file/2023/Q2/SAMSUNG_Ha Noi_20230630_RetailerInput.xlsx',\n",
       " '/sites/BIHub/Shared Documents/Advisory Data/Project/SAMSUNG/Flat file/2023/Q2/SAMSUNG_HCM_20230630_StreetRetail.xlsx']"
      ]
     },
     "execution_count": 40,
     "metadata": {},
     "output_type": "execute_result"
    }
   ],
   "source": [
    "url = []\n",
    "for i in list_file:\n",
    "    data_key = i.split('/')[-1].split('.')[0].split('_')[-1]\n",
    "    if str(data_key) not in ('x'):\n",
    "        url.append(i)\n",
    "url        "
   ]
  },
  {
   "cell_type": "markdown",
   "id": "a08aeac6",
   "metadata": {},
   "source": [
    "## Import"
   ]
  },
  {
   "cell_type": "code",
   "execution_count": 41,
   "id": "f0829aad",
   "metadata": {},
   "outputs": [
    {
     "name": "stderr",
     "output_type": "stream",
     "text": [
      "  0%|          | 0/4 [00:00<?, ?it/s]"
     ]
    },
    {
     "name": "stderr",
     "output_type": "stream",
     "text": [
      " 50%|█████     | 2/4 [01:34<01:21, 40.75s/it]"
     ]
    },
    {
     "name": "stdout",
     "output_type": "stream",
     "text": [
      "\u001b[33mColumn Contact_Number is added in SAMSUNG_Ha Noi_20230630_RetailerInput\u001b[0m\n",
      "\u001b[33mColumn Note is added in SAMSUNG_Ha Noi_20230630_RetailerInput\u001b[0m\n"
     ]
    },
    {
     "name": "stderr",
     "output_type": "stream",
     "text": [
      " 50%|█████     | 2/4 [01:36<01:36, 48.30s/it]\n"
     ]
    },
    {
     "ename": "ProgrammingError",
     "evalue": "(pyodbc.ProgrammingError) ('42S22', \"[42S22] [Microsoft][ODBC Driver 17 for SQL Server][SQL Server]Invalid column name 'Contact_Number'. (207) (SQLExecDirectW); [42S22] [Microsoft][ODBC Driver 17 for SQL Server][SQL Server]Invalid column name 'Note'. (207); [42S22] [Microsoft][ODBC Driver 17 for SQL Server][SQL Server]Statement(s) could not be prepared. (8180)\")\n[SQL: INSERT INTO [Fresh].[SAMSUNG_Retailer_Input] ([Date_Key], [Province], [Retailer_Group], [Retailer_Name], [Latitude], [Longtitude], [Address_No], [Address_Street], [Address_District], [Address_Ward], [Mobile], [Electronics], [Mix_Type], [Land_Area], [Gross_Floor_Area], [No_Of_Level], [Online_Share_On_Revenue], [Offline_Share_On_Revenue], [Contact_Number], [Note], [File_Date], [Import_Date], [File_Name]) VALUES (?, ?, ?, ?, ?, ?, ?, ?, ?, ?, ?, ?, ?, ?, ?, ?, ?, ?, ?, ?, ?, ?, ?)]\n[parameters: ((20230630, 'Ha Noi', 'Cellphones', 'Cellphones 1', '21.0632338', '105.8961015', '252', 'Ngo Gia Tu', 'Duc Giang', 'Long Bien', 'X', None, None, 150, 150, 1, None, None, None, None, datetime.datetime(2023, 8, 3, 7, 5, 28), '2023-08-03 14:13:30.241', 'SAMSUNG_Ha Noi_20230630_RetailerInput'), (20230630, 'Ha Noi', 'Cellphones', 'Cellphones 2', '20.9786876', '105.771796', '140-142', 'Van Phuc', 'Van Phuc', 'Ha Dong', 'X', None, None, 70, 70, 1, None, None, None, None, datetime.datetime(2023, 8, 3, 7, 5, 28), '2023-08-03 14:13:30.241', 'SAMSUNG_Ha Noi_20230630_RetailerInput'), (20230630, 'Ha Noi', 'Cellphones', 'Cellphones 3', '21.0083312', '105.8467584', '51', 'Dai Co Viet', 'Le Dai Hanh', 'Hai Ba Trung', 'X', None, None, 80, 80, 1, None, None, None, None, datetime.datetime(2023, 8, 3, 7, 5, 28), '2023-08-03 14:13:30.241', 'SAMSUNG_Ha Noi_20230630_RetailerInput'), (20230630, 'Ha Noi', 'Cellphones', 'Cellphones 4', '21.0370018', '105.77731', '126', 'Ho Tung Mau', 'Mai Dich', 'Cau Giay', 'X', None, None, 150, 150, 1, None, None, None, None, datetime.datetime(2023, 8, 3, 7, 5, 28), '2023-08-03 14:13:30.241', 'SAMSUNG_Ha Noi_20230630_RetailerInput'), (20230630, 'Ha Noi', 'Cellphones', 'Cellphones 5', '20.9674462', '105.7718854', '267', 'Quang Trung', 'Quang Trung', 'Ha Dong', 'X', None, None, 90, 90, 1, None, None, None, None, datetime.datetime(2023, 8, 3, 7, 5, 28), '2023-08-03 14:13:30.241', 'SAMSUNG_Ha Noi_20230630_RetailerInput'), (20230630, 'Ha Noi', 'Cellphones', 'Cellphones 6', '20.9839504', '105.8459645', '546', 'Truong Dinh', 'Tan Mai', 'Hoang Mai', 'X', None, None, 80, 80, 1, None, None, None, None, datetime.datetime(2023, 8, 3, 7, 5, 28), '2023-08-03 14:13:30.241', 'SAMSUNG_Ha Noi_20230630_RetailerInput'), (20230630, 'Ha Noi', 'Cellphones', 'Cellphones 7', '20.9970698', '105.8108393', '300', 'Nguyen Trai', 'Thanh Xuan Trung', 'Thanh Xuan', 'X', None, None, 50, 50, 1, None, None, None, None, datetime.datetime(2023, 8, 3, 7, 5, 28), '2023-08-03 14:13:30.241', 'SAMSUNG_Ha Noi_20230630_RetailerInput'), (20230630, 'Ha Noi', 'Cellphones', 'Cellphones 8', '21.0416087', '105.7615292', '283', 'Ho Tung Mau', 'Cau Dien', 'Nam Tu Liem', 'X', None, None, 70, 70, 1, None, None, None, None, datetime.datetime(2023, 8, 3, 7, 5, 28), '2023-08-03 14:13:30.241', 'SAMSUNG_Ha Noi_20230630_RetailerInput')  ... displaying 10 of 604 total bound parameter sets ...  (20230630, 'Ha Noi', 'F.Studio', 'F.Studio 3', '21.027339212428', '105.844863332668', '92', 'Hai Ba Trung', 'Cua Nam', 'Hoan Kiem', None, 'X', None, 90, 90, 1, None, None, None, None, datetime.datetime(2023, 8, 3, 7, 5, 28), '2023-08-03 14:13:30.241', 'SAMSUNG_Ha Noi_20230630_RetailerInput'), (20230630, 'Ha Noi', 'F.Studio', 'F.Studio 4', '20.9850448729624', '105.848119059488', '495', 'Truong Dinh', 'Tan Mai', 'Hoang Mai', None, 'X', None, 80, 150, 1, None, None, None, None, datetime.datetime(2023, 8, 3, 7, 5, 28), '2023-08-03 14:13:30.241', 'SAMSUNG_Ha Noi_20230630_RetailerInput'))]\n(Background on this error at: https://sqlalche.me/e/14/f405)",
     "output_type": "error",
     "traceback": [
      "\u001b[1;31m---------------------------------------------------------------------------\u001b[0m",
      "\u001b[1;31mProgrammingError\u001b[0m                          Traceback (most recent call last)",
      "File \u001b[1;32mc:\\Users\\hcmcbi-intern04\\AppData\\Local\\anaconda3\\lib\\site-packages\\sqlalchemy\\engine\\base.py:1885\u001b[0m, in \u001b[0;36mConnection._execute_context\u001b[1;34m(self, dialect, constructor, statement, parameters, execution_options, *args, **kw)\u001b[0m\n\u001b[0;32m   1884\u001b[0m     \u001b[39mif\u001b[39;00m \u001b[39mnot\u001b[39;00m evt_handled:\n\u001b[1;32m-> 1885\u001b[0m         \u001b[39mself\u001b[39;49m\u001b[39m.\u001b[39;49mdialect\u001b[39m.\u001b[39;49mdo_executemany(\n\u001b[0;32m   1886\u001b[0m             cursor, statement, parameters, context\n\u001b[0;32m   1887\u001b[0m         )\n\u001b[0;32m   1888\u001b[0m \u001b[39melif\u001b[39;00m \u001b[39mnot\u001b[39;00m parameters \u001b[39mand\u001b[39;00m context\u001b[39m.\u001b[39mno_parameters:\n",
      "File \u001b[1;32mc:\\Users\\hcmcbi-intern04\\AppData\\Local\\anaconda3\\lib\\site-packages\\sqlalchemy\\dialects\\mssql\\pyodbc.py:649\u001b[0m, in \u001b[0;36mMSDialect_pyodbc.do_executemany\u001b[1;34m(self, cursor, statement, parameters, context)\u001b[0m\n\u001b[0;32m    648\u001b[0m     cursor\u001b[39m.\u001b[39mfast_executemany \u001b[39m=\u001b[39m \u001b[39mTrue\u001b[39;00m\n\u001b[1;32m--> 649\u001b[0m \u001b[39msuper\u001b[39;49m(MSDialect_pyodbc, \u001b[39mself\u001b[39;49m)\u001b[39m.\u001b[39;49mdo_executemany(\n\u001b[0;32m    650\u001b[0m     cursor, statement, parameters, context\u001b[39m=\u001b[39;49mcontext\n\u001b[0;32m    651\u001b[0m )\n",
      "File \u001b[1;32mc:\\Users\\hcmcbi-intern04\\AppData\\Local\\anaconda3\\lib\\site-packages\\sqlalchemy\\engine\\default.py:733\u001b[0m, in \u001b[0;36mDefaultDialect.do_executemany\u001b[1;34m(self, cursor, statement, parameters, context)\u001b[0m\n\u001b[0;32m    732\u001b[0m \u001b[39mdef\u001b[39;00m \u001b[39mdo_executemany\u001b[39m(\u001b[39mself\u001b[39m, cursor, statement, parameters, context\u001b[39m=\u001b[39m\u001b[39mNone\u001b[39;00m):\n\u001b[1;32m--> 733\u001b[0m     cursor\u001b[39m.\u001b[39;49mexecutemany(statement, parameters)\n",
      "\u001b[1;31mProgrammingError\u001b[0m: ('42S22', \"[42S22] [Microsoft][ODBC Driver 17 for SQL Server][SQL Server]Invalid column name 'Contact_Number'. (207) (SQLExecDirectW); [42S22] [Microsoft][ODBC Driver 17 for SQL Server][SQL Server]Invalid column name 'Note'. (207); [42S22] [Microsoft][ODBC Driver 17 for SQL Server][SQL Server]Statement(s) could not be prepared. (8180)\")",
      "\nThe above exception was the direct cause of the following exception:\n",
      "\u001b[1;31mProgrammingError\u001b[0m                          Traceback (most recent call last)",
      "Cell \u001b[1;32mIn[41], line 32\u001b[0m\n\u001b[0;32m     28\u001b[0m     data[i] \u001b[39m=\u001b[39m remove_unicode(data[i])\n\u001b[0;32m     31\u001b[0m data \u001b[39m=\u001b[39m Generate_Additional_Columns(data,df_summ_file,BIHub,engine,file_url)\n\u001b[1;32m---> 32\u001b[0m data\u001b[39m.\u001b[39;49mto_sql(table_name, engine, index\u001b[39m=\u001b[39;49m\u001b[39mFalse\u001b[39;49;00m, if_exists\u001b[39m=\u001b[39;49m\u001b[39m'\u001b[39;49m\u001b[39mappend\u001b[39;49m\u001b[39m'\u001b[39;49m, schema\u001b[39m=\u001b[39;49m\u001b[39m'\u001b[39;49m\u001b[39mFresh\u001b[39;49m\u001b[39m'\u001b[39;49m)\n",
      "File \u001b[1;32mc:\\Users\\hcmcbi-intern04\\AppData\\Local\\anaconda3\\lib\\site-packages\\pandas\\core\\generic.py:2987\u001b[0m, in \u001b[0;36mNDFrame.to_sql\u001b[1;34m(self, name, con, schema, if_exists, index, index_label, chunksize, dtype, method)\u001b[0m\n\u001b[0;32m   2830\u001b[0m \u001b[39m\u001b[39m\u001b[39m\"\"\"\u001b[39;00m\n\u001b[0;32m   2831\u001b[0m \u001b[39mWrite records stored in a DataFrame to a SQL database.\u001b[39;00m\n\u001b[0;32m   2832\u001b[0m \n\u001b[1;32m   (...)\u001b[0m\n\u001b[0;32m   2983\u001b[0m \u001b[39m[(1,), (None,), (2,)]\u001b[39;00m\n\u001b[0;32m   2984\u001b[0m \u001b[39m\"\"\"\u001b[39;00m  \u001b[39m# noqa:E501\u001b[39;00m\n\u001b[0;32m   2985\u001b[0m \u001b[39mfrom\u001b[39;00m \u001b[39mpandas\u001b[39;00m\u001b[39m.\u001b[39;00m\u001b[39mio\u001b[39;00m \u001b[39mimport\u001b[39;00m sql\n\u001b[1;32m-> 2987\u001b[0m \u001b[39mreturn\u001b[39;00m sql\u001b[39m.\u001b[39;49mto_sql(\n\u001b[0;32m   2988\u001b[0m     \u001b[39mself\u001b[39;49m,\n\u001b[0;32m   2989\u001b[0m     name,\n\u001b[0;32m   2990\u001b[0m     con,\n\u001b[0;32m   2991\u001b[0m     schema\u001b[39m=\u001b[39;49mschema,\n\u001b[0;32m   2992\u001b[0m     if_exists\u001b[39m=\u001b[39;49mif_exists,\n\u001b[0;32m   2993\u001b[0m     index\u001b[39m=\u001b[39;49mindex,\n\u001b[0;32m   2994\u001b[0m     index_label\u001b[39m=\u001b[39;49mindex_label,\n\u001b[0;32m   2995\u001b[0m     chunksize\u001b[39m=\u001b[39;49mchunksize,\n\u001b[0;32m   2996\u001b[0m     dtype\u001b[39m=\u001b[39;49mdtype,\n\u001b[0;32m   2997\u001b[0m     method\u001b[39m=\u001b[39;49mmethod,\n\u001b[0;32m   2998\u001b[0m )\n",
      "File \u001b[1;32mc:\\Users\\hcmcbi-intern04\\AppData\\Local\\anaconda3\\lib\\site-packages\\pandas\\io\\sql.py:695\u001b[0m, in \u001b[0;36mto_sql\u001b[1;34m(frame, name, con, schema, if_exists, index, index_label, chunksize, dtype, method, engine, **engine_kwargs)\u001b[0m\n\u001b[0;32m    690\u001b[0m \u001b[39melif\u001b[39;00m \u001b[39mnot\u001b[39;00m \u001b[39misinstance\u001b[39m(frame, DataFrame):\n\u001b[0;32m    691\u001b[0m     \u001b[39mraise\u001b[39;00m \u001b[39mNotImplementedError\u001b[39;00m(\n\u001b[0;32m    692\u001b[0m         \u001b[39m\"\u001b[39m\u001b[39m'\u001b[39m\u001b[39mframe\u001b[39m\u001b[39m'\u001b[39m\u001b[39m argument should be either a Series or a DataFrame\u001b[39m\u001b[39m\"\u001b[39m\n\u001b[0;32m    693\u001b[0m     )\n\u001b[1;32m--> 695\u001b[0m \u001b[39mreturn\u001b[39;00m pandas_sql\u001b[39m.\u001b[39mto_sql(\n\u001b[0;32m    696\u001b[0m     frame,\n\u001b[0;32m    697\u001b[0m     name,\n\u001b[0;32m    698\u001b[0m     if_exists\u001b[39m=\u001b[39mif_exists,\n\u001b[0;32m    699\u001b[0m     index\u001b[39m=\u001b[39mindex,\n\u001b[0;32m    700\u001b[0m     index_label\u001b[39m=\u001b[39mindex_label,\n\u001b[0;32m    701\u001b[0m     schema\u001b[39m=\u001b[39mschema,\n\u001b[0;32m    702\u001b[0m     chunksize\u001b[39m=\u001b[39mchunksize,\n\u001b[0;32m    703\u001b[0m     dtype\u001b[39m=\u001b[39mdtype,\n\u001b[0;32m    704\u001b[0m     method\u001b[39m=\u001b[39mmethod,\n\u001b[0;32m    705\u001b[0m     engine\u001b[39m=\u001b[39mengine,\n\u001b[0;32m    706\u001b[0m     \u001b[39m*\u001b[39m\u001b[39m*\u001b[39mengine_kwargs,\n\u001b[0;32m    707\u001b[0m )\n",
      "File \u001b[1;32mc:\\Users\\hcmcbi-intern04\\AppData\\Local\\anaconda3\\lib\\site-packages\\pandas\\io\\sql.py:1738\u001b[0m, in \u001b[0;36mSQLDatabase.to_sql\u001b[1;34m(self, frame, name, if_exists, index, index_label, schema, chunksize, dtype, method, engine, **engine_kwargs)\u001b[0m\n\u001b[0;32m   1726\u001b[0m sql_engine \u001b[39m=\u001b[39m get_engine(engine)\n\u001b[0;32m   1728\u001b[0m table \u001b[39m=\u001b[39m \u001b[39mself\u001b[39m\u001b[39m.\u001b[39mprep_table(\n\u001b[0;32m   1729\u001b[0m     frame\u001b[39m=\u001b[39mframe,\n\u001b[0;32m   1730\u001b[0m     name\u001b[39m=\u001b[39mname,\n\u001b[1;32m   (...)\u001b[0m\n\u001b[0;32m   1735\u001b[0m     dtype\u001b[39m=\u001b[39mdtype,\n\u001b[0;32m   1736\u001b[0m )\n\u001b[1;32m-> 1738\u001b[0m total_inserted \u001b[39m=\u001b[39m sql_engine\u001b[39m.\u001b[39minsert_records(\n\u001b[0;32m   1739\u001b[0m     table\u001b[39m=\u001b[39mtable,\n\u001b[0;32m   1740\u001b[0m     con\u001b[39m=\u001b[39m\u001b[39mself\u001b[39m\u001b[39m.\u001b[39mconnectable,\n\u001b[0;32m   1741\u001b[0m     frame\u001b[39m=\u001b[39mframe,\n\u001b[0;32m   1742\u001b[0m     name\u001b[39m=\u001b[39mname,\n\u001b[0;32m   1743\u001b[0m     index\u001b[39m=\u001b[39mindex,\n\u001b[0;32m   1744\u001b[0m     schema\u001b[39m=\u001b[39mschema,\n\u001b[0;32m   1745\u001b[0m     chunksize\u001b[39m=\u001b[39mchunksize,\n\u001b[0;32m   1746\u001b[0m     method\u001b[39m=\u001b[39mmethod,\n\u001b[0;32m   1747\u001b[0m     \u001b[39m*\u001b[39m\u001b[39m*\u001b[39mengine_kwargs,\n\u001b[0;32m   1748\u001b[0m )\n\u001b[0;32m   1750\u001b[0m \u001b[39mself\u001b[39m\u001b[39m.\u001b[39mcheck_case_sensitive(name\u001b[39m=\u001b[39mname, schema\u001b[39m=\u001b[39mschema)\n\u001b[0;32m   1751\u001b[0m \u001b[39mreturn\u001b[39;00m total_inserted\n",
      "File \u001b[1;32mc:\\Users\\hcmcbi-intern04\\AppData\\Local\\anaconda3\\lib\\site-packages\\pandas\\io\\sql.py:1335\u001b[0m, in \u001b[0;36mSQLAlchemyEngine.insert_records\u001b[1;34m(self, table, con, frame, name, index, schema, chunksize, method, **engine_kwargs)\u001b[0m\n\u001b[0;32m   1333\u001b[0m     \u001b[39mraise\u001b[39;00m \u001b[39mValueError\u001b[39;00m(\u001b[39m\"\u001b[39m\u001b[39minf cannot be used with MySQL\u001b[39m\u001b[39m\"\u001b[39m) \u001b[39mfrom\u001b[39;00m \u001b[39merr\u001b[39;00m\n\u001b[0;32m   1334\u001b[0m \u001b[39melse\u001b[39;00m:\n\u001b[1;32m-> 1335\u001b[0m     \u001b[39mraise\u001b[39;00m err\n",
      "File \u001b[1;32mc:\\Users\\hcmcbi-intern04\\AppData\\Local\\anaconda3\\lib\\site-packages\\pandas\\io\\sql.py:1325\u001b[0m, in \u001b[0;36mSQLAlchemyEngine.insert_records\u001b[1;34m(self, table, con, frame, name, index, schema, chunksize, method, **engine_kwargs)\u001b[0m\n\u001b[0;32m   1322\u001b[0m \u001b[39mfrom\u001b[39;00m \u001b[39msqlalchemy\u001b[39;00m \u001b[39mimport\u001b[39;00m exc\n\u001b[0;32m   1324\u001b[0m \u001b[39mtry\u001b[39;00m:\n\u001b[1;32m-> 1325\u001b[0m     \u001b[39mreturn\u001b[39;00m table\u001b[39m.\u001b[39;49minsert(chunksize\u001b[39m=\u001b[39;49mchunksize, method\u001b[39m=\u001b[39;49mmethod)\n\u001b[0;32m   1326\u001b[0m \u001b[39mexcept\u001b[39;00m exc\u001b[39m.\u001b[39mSQLAlchemyError \u001b[39mas\u001b[39;00m err:\n\u001b[0;32m   1327\u001b[0m     \u001b[39m# GH34431\u001b[39;00m\n\u001b[0;32m   1328\u001b[0m     \u001b[39m# https://stackoverflow.com/a/67358288/6067848\u001b[39;00m\n\u001b[0;32m   1329\u001b[0m     msg \u001b[39m=\u001b[39m \u001b[39mr\u001b[39m\u001b[39m\"\"\"\u001b[39m\u001b[39m(\u001b[39m\u001b[39m\\\u001b[39m\u001b[39m(1054, \u001b[39m\u001b[39m\"\u001b[39m\u001b[39mUnknown column \u001b[39m\u001b[39m'\u001b[39m\u001b[39minf(e0)?\u001b[39m\u001b[39m'\u001b[39m\u001b[39m in \u001b[39m\u001b[39m'\u001b[39m\u001b[39mfield list\u001b[39m\u001b[39m'\u001b[39m\u001b[39m\"\u001b[39m\u001b[39m\\\u001b[39m\u001b[39m))(?#\u001b[39m\n\u001b[0;32m   1330\u001b[0m \u001b[39m    )|inf can not be used with MySQL\u001b[39m\u001b[39m\"\"\"\u001b[39m\n",
      "File \u001b[1;32mc:\\Users\\hcmcbi-intern04\\AppData\\Local\\anaconda3\\lib\\site-packages\\pandas\\io\\sql.py:946\u001b[0m, in \u001b[0;36mSQLTable.insert\u001b[1;34m(self, chunksize, method)\u001b[0m\n\u001b[0;32m    943\u001b[0m     \u001b[39mbreak\u001b[39;00m\n\u001b[0;32m    945\u001b[0m chunk_iter \u001b[39m=\u001b[39m \u001b[39mzip\u001b[39m(\u001b[39m*\u001b[39m(arr[start_i:end_i] \u001b[39mfor\u001b[39;00m arr \u001b[39min\u001b[39;00m data_list))\n\u001b[1;32m--> 946\u001b[0m num_inserted \u001b[39m=\u001b[39m exec_insert(conn, keys, chunk_iter)\n\u001b[0;32m    947\u001b[0m \u001b[39m# GH 46891\u001b[39;00m\n\u001b[0;32m    948\u001b[0m \u001b[39mif\u001b[39;00m is_integer(num_inserted):\n",
      "File \u001b[1;32mc:\\Users\\hcmcbi-intern04\\AppData\\Local\\anaconda3\\lib\\site-packages\\pandas\\io\\sql.py:853\u001b[0m, in \u001b[0;36mSQLTable._execute_insert\u001b[1;34m(self, conn, keys, data_iter)\u001b[0m\n\u001b[0;32m    841\u001b[0m \u001b[39m\u001b[39m\u001b[39m\"\"\"\u001b[39;00m\n\u001b[0;32m    842\u001b[0m \u001b[39mExecute SQL statement inserting data\u001b[39;00m\n\u001b[0;32m    843\u001b[0m \n\u001b[1;32m   (...)\u001b[0m\n\u001b[0;32m    850\u001b[0m \u001b[39m   Each item contains a list of values to be inserted\u001b[39;00m\n\u001b[0;32m    851\u001b[0m \u001b[39m\"\"\"\u001b[39;00m\n\u001b[0;32m    852\u001b[0m data \u001b[39m=\u001b[39m [\u001b[39mdict\u001b[39m(\u001b[39mzip\u001b[39m(keys, row)) \u001b[39mfor\u001b[39;00m row \u001b[39min\u001b[39;00m data_iter]\n\u001b[1;32m--> 853\u001b[0m result \u001b[39m=\u001b[39m conn\u001b[39m.\u001b[39;49mexecute(\u001b[39mself\u001b[39;49m\u001b[39m.\u001b[39;49mtable\u001b[39m.\u001b[39;49minsert(), data)\n\u001b[0;32m    854\u001b[0m \u001b[39mreturn\u001b[39;00m result\u001b[39m.\u001b[39mrowcount\n",
      "File \u001b[1;32mc:\\Users\\hcmcbi-intern04\\AppData\\Local\\anaconda3\\lib\\site-packages\\sqlalchemy\\engine\\base.py:1385\u001b[0m, in \u001b[0;36mConnection.execute\u001b[1;34m(self, statement, *multiparams, **params)\u001b[0m\n\u001b[0;32m   1381\u001b[0m     util\u001b[39m.\u001b[39mraise_(\n\u001b[0;32m   1382\u001b[0m         exc\u001b[39m.\u001b[39mObjectNotExecutableError(statement), replace_context\u001b[39m=\u001b[39merr\n\u001b[0;32m   1383\u001b[0m     )\n\u001b[0;32m   1384\u001b[0m \u001b[39melse\u001b[39;00m:\n\u001b[1;32m-> 1385\u001b[0m     \u001b[39mreturn\u001b[39;00m meth(\u001b[39mself\u001b[39;49m, multiparams, params, _EMPTY_EXECUTION_OPTS)\n",
      "File \u001b[1;32mc:\\Users\\hcmcbi-intern04\\AppData\\Local\\anaconda3\\lib\\site-packages\\sqlalchemy\\sql\\elements.py:334\u001b[0m, in \u001b[0;36mClauseElement._execute_on_connection\u001b[1;34m(self, connection, multiparams, params, execution_options, _force)\u001b[0m\n\u001b[0;32m    330\u001b[0m \u001b[39mdef\u001b[39;00m \u001b[39m_execute_on_connection\u001b[39m(\n\u001b[0;32m    331\u001b[0m     \u001b[39mself\u001b[39m, connection, multiparams, params, execution_options, _force\u001b[39m=\u001b[39m\u001b[39mFalse\u001b[39;00m\n\u001b[0;32m    332\u001b[0m ):\n\u001b[0;32m    333\u001b[0m     \u001b[39mif\u001b[39;00m _force \u001b[39mor\u001b[39;00m \u001b[39mself\u001b[39m\u001b[39m.\u001b[39msupports_execution:\n\u001b[1;32m--> 334\u001b[0m         \u001b[39mreturn\u001b[39;00m connection\u001b[39m.\u001b[39;49m_execute_clauseelement(\n\u001b[0;32m    335\u001b[0m             \u001b[39mself\u001b[39;49m, multiparams, params, execution_options\n\u001b[0;32m    336\u001b[0m         )\n\u001b[0;32m    337\u001b[0m     \u001b[39melse\u001b[39;00m:\n\u001b[0;32m    338\u001b[0m         \u001b[39mraise\u001b[39;00m exc\u001b[39m.\u001b[39mObjectNotExecutableError(\u001b[39mself\u001b[39m)\n",
      "File \u001b[1;32mc:\\Users\\hcmcbi-intern04\\AppData\\Local\\anaconda3\\lib\\site-packages\\sqlalchemy\\engine\\base.py:1577\u001b[0m, in \u001b[0;36mConnection._execute_clauseelement\u001b[1;34m(self, elem, multiparams, params, execution_options)\u001b[0m\n\u001b[0;32m   1565\u001b[0m compiled_cache \u001b[39m=\u001b[39m execution_options\u001b[39m.\u001b[39mget(\n\u001b[0;32m   1566\u001b[0m     \u001b[39m\"\u001b[39m\u001b[39mcompiled_cache\u001b[39m\u001b[39m\"\u001b[39m, \u001b[39mself\u001b[39m\u001b[39m.\u001b[39mengine\u001b[39m.\u001b[39m_compiled_cache\n\u001b[0;32m   1567\u001b[0m )\n\u001b[0;32m   1569\u001b[0m compiled_sql, extracted_params, cache_hit \u001b[39m=\u001b[39m elem\u001b[39m.\u001b[39m_compile_w_cache(\n\u001b[0;32m   1570\u001b[0m     dialect\u001b[39m=\u001b[39mdialect,\n\u001b[0;32m   1571\u001b[0m     compiled_cache\u001b[39m=\u001b[39mcompiled_cache,\n\u001b[1;32m   (...)\u001b[0m\n\u001b[0;32m   1575\u001b[0m     linting\u001b[39m=\u001b[39m\u001b[39mself\u001b[39m\u001b[39m.\u001b[39mdialect\u001b[39m.\u001b[39mcompiler_linting \u001b[39m|\u001b[39m compiler\u001b[39m.\u001b[39mWARN_LINTING,\n\u001b[0;32m   1576\u001b[0m )\n\u001b[1;32m-> 1577\u001b[0m ret \u001b[39m=\u001b[39m \u001b[39mself\u001b[39;49m\u001b[39m.\u001b[39;49m_execute_context(\n\u001b[0;32m   1578\u001b[0m     dialect,\n\u001b[0;32m   1579\u001b[0m     dialect\u001b[39m.\u001b[39;49mexecution_ctx_cls\u001b[39m.\u001b[39;49m_init_compiled,\n\u001b[0;32m   1580\u001b[0m     compiled_sql,\n\u001b[0;32m   1581\u001b[0m     distilled_params,\n\u001b[0;32m   1582\u001b[0m     execution_options,\n\u001b[0;32m   1583\u001b[0m     compiled_sql,\n\u001b[0;32m   1584\u001b[0m     distilled_params,\n\u001b[0;32m   1585\u001b[0m     elem,\n\u001b[0;32m   1586\u001b[0m     extracted_params,\n\u001b[0;32m   1587\u001b[0m     cache_hit\u001b[39m=\u001b[39;49mcache_hit,\n\u001b[0;32m   1588\u001b[0m )\n\u001b[0;32m   1589\u001b[0m \u001b[39mif\u001b[39;00m has_events:\n\u001b[0;32m   1590\u001b[0m     \u001b[39mself\u001b[39m\u001b[39m.\u001b[39mdispatch\u001b[39m.\u001b[39mafter_execute(\n\u001b[0;32m   1591\u001b[0m         \u001b[39mself\u001b[39m,\n\u001b[0;32m   1592\u001b[0m         elem,\n\u001b[1;32m   (...)\u001b[0m\n\u001b[0;32m   1596\u001b[0m         ret,\n\u001b[0;32m   1597\u001b[0m     )\n",
      "File \u001b[1;32mc:\\Users\\hcmcbi-intern04\\AppData\\Local\\anaconda3\\lib\\site-packages\\sqlalchemy\\engine\\base.py:1948\u001b[0m, in \u001b[0;36mConnection._execute_context\u001b[1;34m(self, dialect, constructor, statement, parameters, execution_options, *args, **kw)\u001b[0m\n\u001b[0;32m   1945\u001b[0m             branched\u001b[39m.\u001b[39mclose()\n\u001b[0;32m   1947\u001b[0m \u001b[39mexcept\u001b[39;00m \u001b[39mBaseException\u001b[39;00m \u001b[39mas\u001b[39;00m e:\n\u001b[1;32m-> 1948\u001b[0m     \u001b[39mself\u001b[39;49m\u001b[39m.\u001b[39;49m_handle_dbapi_exception(\n\u001b[0;32m   1949\u001b[0m         e, statement, parameters, cursor, context\n\u001b[0;32m   1950\u001b[0m     )\n\u001b[0;32m   1952\u001b[0m \u001b[39mreturn\u001b[39;00m result\n",
      "File \u001b[1;32mc:\\Users\\hcmcbi-intern04\\AppData\\Local\\anaconda3\\lib\\site-packages\\sqlalchemy\\engine\\base.py:2129\u001b[0m, in \u001b[0;36mConnection._handle_dbapi_exception\u001b[1;34m(self, e, statement, parameters, cursor, context)\u001b[0m\n\u001b[0;32m   2127\u001b[0m     util\u001b[39m.\u001b[39mraise_(newraise, with_traceback\u001b[39m=\u001b[39mexc_info[\u001b[39m2\u001b[39m], from_\u001b[39m=\u001b[39me)\n\u001b[0;32m   2128\u001b[0m \u001b[39melif\u001b[39;00m should_wrap:\n\u001b[1;32m-> 2129\u001b[0m     util\u001b[39m.\u001b[39;49mraise_(\n\u001b[0;32m   2130\u001b[0m         sqlalchemy_exception, with_traceback\u001b[39m=\u001b[39;49mexc_info[\u001b[39m2\u001b[39;49m], from_\u001b[39m=\u001b[39;49me\n\u001b[0;32m   2131\u001b[0m     )\n\u001b[0;32m   2132\u001b[0m \u001b[39melse\u001b[39;00m:\n\u001b[0;32m   2133\u001b[0m     util\u001b[39m.\u001b[39mraise_(exc_info[\u001b[39m1\u001b[39m], with_traceback\u001b[39m=\u001b[39mexc_info[\u001b[39m2\u001b[39m])\n",
      "File \u001b[1;32mc:\\Users\\hcmcbi-intern04\\AppData\\Local\\anaconda3\\lib\\site-packages\\sqlalchemy\\util\\compat.py:211\u001b[0m, in \u001b[0;36mraise_\u001b[1;34m(***failed resolving arguments***)\u001b[0m\n\u001b[0;32m    208\u001b[0m     exception\u001b[39m.\u001b[39m__cause__ \u001b[39m=\u001b[39m replace_context\n\u001b[0;32m    210\u001b[0m \u001b[39mtry\u001b[39;00m:\n\u001b[1;32m--> 211\u001b[0m     \u001b[39mraise\u001b[39;00m exception\n\u001b[0;32m    212\u001b[0m \u001b[39mfinally\u001b[39;00m:\n\u001b[0;32m    213\u001b[0m     \u001b[39m# credit to\u001b[39;00m\n\u001b[0;32m    214\u001b[0m     \u001b[39m# https://cosmicpercolator.com/2016/01/13/exception-leaks-in-python-2-and-3/\u001b[39;00m\n\u001b[0;32m    215\u001b[0m     \u001b[39m# as the __traceback__ object creates a cycle\u001b[39;00m\n\u001b[0;32m    216\u001b[0m     \u001b[39mdel\u001b[39;00m exception, replace_context, from_, with_traceback\n",
      "File \u001b[1;32mc:\\Users\\hcmcbi-intern04\\AppData\\Local\\anaconda3\\lib\\site-packages\\sqlalchemy\\engine\\base.py:1885\u001b[0m, in \u001b[0;36mConnection._execute_context\u001b[1;34m(self, dialect, constructor, statement, parameters, execution_options, *args, **kw)\u001b[0m\n\u001b[0;32m   1883\u001b[0m                 \u001b[39mbreak\u001b[39;00m\n\u001b[0;32m   1884\u001b[0m     \u001b[39mif\u001b[39;00m \u001b[39mnot\u001b[39;00m evt_handled:\n\u001b[1;32m-> 1885\u001b[0m         \u001b[39mself\u001b[39;49m\u001b[39m.\u001b[39;49mdialect\u001b[39m.\u001b[39;49mdo_executemany(\n\u001b[0;32m   1886\u001b[0m             cursor, statement, parameters, context\n\u001b[0;32m   1887\u001b[0m         )\n\u001b[0;32m   1888\u001b[0m \u001b[39melif\u001b[39;00m \u001b[39mnot\u001b[39;00m parameters \u001b[39mand\u001b[39;00m context\u001b[39m.\u001b[39mno_parameters:\n\u001b[0;32m   1889\u001b[0m     \u001b[39mif\u001b[39;00m \u001b[39mself\u001b[39m\u001b[39m.\u001b[39mdialect\u001b[39m.\u001b[39m_has_events:\n",
      "File \u001b[1;32mc:\\Users\\hcmcbi-intern04\\AppData\\Local\\anaconda3\\lib\\site-packages\\sqlalchemy\\dialects\\mssql\\pyodbc.py:649\u001b[0m, in \u001b[0;36mMSDialect_pyodbc.do_executemany\u001b[1;34m(self, cursor, statement, parameters, context)\u001b[0m\n\u001b[0;32m    647\u001b[0m \u001b[39mif\u001b[39;00m \u001b[39mself\u001b[39m\u001b[39m.\u001b[39mfast_executemany:\n\u001b[0;32m    648\u001b[0m     cursor\u001b[39m.\u001b[39mfast_executemany \u001b[39m=\u001b[39m \u001b[39mTrue\u001b[39;00m\n\u001b[1;32m--> 649\u001b[0m \u001b[39msuper\u001b[39;49m(MSDialect_pyodbc, \u001b[39mself\u001b[39;49m)\u001b[39m.\u001b[39;49mdo_executemany(\n\u001b[0;32m    650\u001b[0m     cursor, statement, parameters, context\u001b[39m=\u001b[39;49mcontext\n\u001b[0;32m    651\u001b[0m )\n",
      "File \u001b[1;32mc:\\Users\\hcmcbi-intern04\\AppData\\Local\\anaconda3\\lib\\site-packages\\sqlalchemy\\engine\\default.py:733\u001b[0m, in \u001b[0;36mDefaultDialect.do_executemany\u001b[1;34m(self, cursor, statement, parameters, context)\u001b[0m\n\u001b[0;32m    732\u001b[0m \u001b[39mdef\u001b[39;00m \u001b[39mdo_executemany\u001b[39m(\u001b[39mself\u001b[39m, cursor, statement, parameters, context\u001b[39m=\u001b[39m\u001b[39mNone\u001b[39;00m):\n\u001b[1;32m--> 733\u001b[0m     cursor\u001b[39m.\u001b[39;49mexecutemany(statement, parameters)\n",
      "\u001b[1;31mProgrammingError\u001b[0m: (pyodbc.ProgrammingError) ('42S22', \"[42S22] [Microsoft][ODBC Driver 17 for SQL Server][SQL Server]Invalid column name 'Contact_Number'. (207) (SQLExecDirectW); [42S22] [Microsoft][ODBC Driver 17 for SQL Server][SQL Server]Invalid column name 'Note'. (207); [42S22] [Microsoft][ODBC Driver 17 for SQL Server][SQL Server]Statement(s) could not be prepared. (8180)\")\n[SQL: INSERT INTO [Fresh].[SAMSUNG_Retailer_Input] ([Date_Key], [Province], [Retailer_Group], [Retailer_Name], [Latitude], [Longtitude], [Address_No], [Address_Street], [Address_District], [Address_Ward], [Mobile], [Electronics], [Mix_Type], [Land_Area], [Gross_Floor_Area], [No_Of_Level], [Online_Share_On_Revenue], [Offline_Share_On_Revenue], [Contact_Number], [Note], [File_Date], [Import_Date], [File_Name]) VALUES (?, ?, ?, ?, ?, ?, ?, ?, ?, ?, ?, ?, ?, ?, ?, ?, ?, ?, ?, ?, ?, ?, ?)]\n[parameters: ((20230630, 'Ha Noi', 'Cellphones', 'Cellphones 1', '21.0632338', '105.8961015', '252', 'Ngo Gia Tu', 'Duc Giang', 'Long Bien', 'X', None, None, 150, 150, 1, None, None, None, None, datetime.datetime(2023, 8, 3, 7, 5, 28), '2023-08-03 14:13:30.241', 'SAMSUNG_Ha Noi_20230630_RetailerInput'), (20230630, 'Ha Noi', 'Cellphones', 'Cellphones 2', '20.9786876', '105.771796', '140-142', 'Van Phuc', 'Van Phuc', 'Ha Dong', 'X', None, None, 70, 70, 1, None, None, None, None, datetime.datetime(2023, 8, 3, 7, 5, 28), '2023-08-03 14:13:30.241', 'SAMSUNG_Ha Noi_20230630_RetailerInput'), (20230630, 'Ha Noi', 'Cellphones', 'Cellphones 3', '21.0083312', '105.8467584', '51', 'Dai Co Viet', 'Le Dai Hanh', 'Hai Ba Trung', 'X', None, None, 80, 80, 1, None, None, None, None, datetime.datetime(2023, 8, 3, 7, 5, 28), '2023-08-03 14:13:30.241', 'SAMSUNG_Ha Noi_20230630_RetailerInput'), (20230630, 'Ha Noi', 'Cellphones', 'Cellphones 4', '21.0370018', '105.77731', '126', 'Ho Tung Mau', 'Mai Dich', 'Cau Giay', 'X', None, None, 150, 150, 1, None, None, None, None, datetime.datetime(2023, 8, 3, 7, 5, 28), '2023-08-03 14:13:30.241', 'SAMSUNG_Ha Noi_20230630_RetailerInput'), (20230630, 'Ha Noi', 'Cellphones', 'Cellphones 5', '20.9674462', '105.7718854', '267', 'Quang Trung', 'Quang Trung', 'Ha Dong', 'X', None, None, 90, 90, 1, None, None, None, None, datetime.datetime(2023, 8, 3, 7, 5, 28), '2023-08-03 14:13:30.241', 'SAMSUNG_Ha Noi_20230630_RetailerInput'), (20230630, 'Ha Noi', 'Cellphones', 'Cellphones 6', '20.9839504', '105.8459645', '546', 'Truong Dinh', 'Tan Mai', 'Hoang Mai', 'X', None, None, 80, 80, 1, None, None, None, None, datetime.datetime(2023, 8, 3, 7, 5, 28), '2023-08-03 14:13:30.241', 'SAMSUNG_Ha Noi_20230630_RetailerInput'), (20230630, 'Ha Noi', 'Cellphones', 'Cellphones 7', '20.9970698', '105.8108393', '300', 'Nguyen Trai', 'Thanh Xuan Trung', 'Thanh Xuan', 'X', None, None, 50, 50, 1, None, None, None, None, datetime.datetime(2023, 8, 3, 7, 5, 28), '2023-08-03 14:13:30.241', 'SAMSUNG_Ha Noi_20230630_RetailerInput'), (20230630, 'Ha Noi', 'Cellphones', 'Cellphones 8', '21.0416087', '105.7615292', '283', 'Ho Tung Mau', 'Cau Dien', 'Nam Tu Liem', 'X', None, None, 70, 70, 1, None, None, None, None, datetime.datetime(2023, 8, 3, 7, 5, 28), '2023-08-03 14:13:30.241', 'SAMSUNG_Ha Noi_20230630_RetailerInput')  ... displaying 10 of 604 total bound parameter sets ...  (20230630, 'Ha Noi', 'F.Studio', 'F.Studio 3', '21.027339212428', '105.844863332668', '92', 'Hai Ba Trung', 'Cua Nam', 'Hoan Kiem', None, 'X', None, 90, 90, 1, None, None, None, None, datetime.datetime(2023, 8, 3, 7, 5, 28), '2023-08-03 14:13:30.241', 'SAMSUNG_Ha Noi_20230630_RetailerInput'), (20230630, 'Ha Noi', 'F.Studio', 'F.Studio 4', '20.9850448729624', '105.848119059488', '495', 'Truong Dinh', 'Tan Mai', 'Hoang Mai', None, 'X', None, 80, 150, 1, None, None, None, None, datetime.datetime(2023, 8, 3, 7, 5, 28), '2023-08-03 14:13:30.241', 'SAMSUNG_Ha Noi_20230630_RetailerInput'))]\n(Background on this error at: https://sqlalche.me/e/14/f405)"
     ]
    }
   ],
   "source": [
    "#Create empty df for checking dictionary\n",
    "df_dict = pd.DataFrame(columns=['File_Name', 'Missing_Values', 'Flag'])\n",
    "df_temp_flat = pd.DataFrame()\n",
    "df_flat = pd.DataFrame()\n",
    "#-------------------------------------------------------\n",
    "'''Get data''' \n",
    "\n",
    "columns_that_need_unidecode = []\n",
    "\n",
    "for file_url in tqdm(url):\n",
    "    data, file_name, sector = get_data(relative_url, file_url)\n",
    "    \n",
    "    SheetName = file_url.split('/')[-1].split('_')[3].split('.')[0]\n",
    "    if SheetName == 'RetailerInput':\n",
    "        table_name = 'SAMSUNG_Retailer_Input'\n",
    "        columns_that_need_unidecode=[]\n",
    "    else:\n",
    "        table_name = 'SAMSUNG_Street_Retail'\n",
    "        columns_that_need_unidecode = ['Contact_Number','Note']\n",
    "    data = remove_unformated_character(data)\n",
    "    for i in columns_that_need_unidecode:\n",
    "        if i not in data.columns:\n",
    "            data[i] = np.nan\n",
    "            data[i] = data[i].replace({np.nan: None})\n",
    "            print(colored('Column {} is added in {}','yellow').format(i, f'{file_name}'))\n",
    "        else:\n",
    "            pass   \n",
    "        data[i] = remove_unicode(data[i])\n",
    "\n",
    "    \n",
    "    data = Generate_Additional_Columns(data,df_summ_file,BIHub,engine,file_url)\n",
    "    data.to_sql(table_name, engine, index=False, if_exists='append', schema='Fresh')"
   ]
  }
 ],
 "metadata": {
  "kernelspec": {
   "display_name": "Python 3 (ipykernel)",
   "language": "python",
   "name": "python3"
  },
  "language_info": {
   "codemirror_mode": {
    "name": "ipython",
    "version": 3
   },
   "file_extension": ".py",
   "mimetype": "text/x-python",
   "name": "python",
   "nbconvert_exporter": "python",
   "pygments_lexer": "ipython3",
   "version": "3.10.11"
  }
 },
 "nbformat": 4,
 "nbformat_minor": 5
}
