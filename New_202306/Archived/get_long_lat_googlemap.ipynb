{
 "cells": [
  {
   "cell_type": "code",
   "execution_count": 47,
   "metadata": {},
   "outputs": [
    {
     "name": "stdout",
     "output_type": "stream",
     "text": [
      "-Finish importing package\n"
     ]
    }
   ],
   "source": [
    "from selenium import webdriver\n",
    "from selenium.webdriver.support.ui import WebDriverWait\n",
    "from selenium.webdriver.support import expected_conditions as EC\n",
    "from selenium.webdriver.common.by import By\n",
    "\n",
    "#pip install python-time\n",
    "import time\n",
    "\n",
    "#pip3 install beautifulsoup4\n",
    "from bs4 import BeautifulSoup\n",
    "\n",
    "print('-Finish importing package')\n"
   ]
  },
  {
   "cell_type": "code",
   "execution_count": 52,
   "metadata": {},
   "outputs": [],
   "source": [
    "driver = webdriver.Chrome()\n",
    "url = 'https://www.dienmayxanh.com/dien-may-thon-yen-thanh-xa-tan-linh-ba-vi-ha-noi-gan-cua-hang-honda-dung-vuong-tan-linh-id-5114'\n",
    "driver.get(url)"
   ]
  },
  {
   "cell_type": "code",
   "execution_count": 53,
   "metadata": {},
   "outputs": [
    {
     "data": {
      "text/plain": [
       "'https://maps.google.com/maps?cid=10345204893051601485'"
      ]
     },
     "execution_count": 53,
     "metadata": {},
     "output_type": "execute_result"
    }
   ],
   "source": [
    "# Step 2: Search for the profile we want to crawl\n",
    "map_button = driver.find_element(By.XPATH,'//*[@id=\"detailDMX\"]/div[2]/aside[1]/div[1]/a')\n",
    "# Extract the href attribute value\n",
    "google_maps_cid_link  = map_button.get_attribute(\"href\")\n",
    "google_maps_cid_link"
   ]
  },
  {
   "cell_type": "code",
   "execution_count": 58,
   "metadata": {},
   "outputs": [
    {
     "name": "stdout",
     "output_type": "stream",
     "text": [
      "Current URL: Siêu Thị Điện máy XANH Tản Lĩnh, Ba Vì - Google Maps\n"
     ]
    }
   ],
   "source": [
    "driver.get(google_maps_cid_link)\n",
    "\n",
    "# # Switch to the new tab\n",
    "# driver.switch_to.window(driver.window_handles[1])\n",
    "\n",
    "# # Get the current URL of the new tab\n",
    "current_url = driver.title\n",
    "\n",
    "# # Print the current URL\n",
    "print(\"Current URL:\", current_url)"
   ]
  }
 ],
 "metadata": {
  "kernelspec": {
   "display_name": "base",
   "language": "python",
   "name": "python3"
  },
  "language_info": {
   "codemirror_mode": {
    "name": "ipython",
    "version": 3
   },
   "file_extension": ".py",
   "mimetype": "text/x-python",
   "name": "python",
   "nbconvert_exporter": "python",
   "pygments_lexer": "ipython3",
   "version": "3.10.9"
  },
  "orig_nbformat": 4
 },
 "nbformat": 4,
 "nbformat_minor": 2
}
