{
 "cells": [
  {
   "cell_type": "markdown",
   "id": "2f9c70bc",
   "metadata": {},
   "source": [
    "### IMPORT LIBRARY"
   ]
  },
  {
   "cell_type": "code",
   "execution_count": 78,
   "id": "ccfa4d14",
   "metadata": {},
   "outputs": [],
   "source": [
    "from office365.runtime.auth.authentication_context import AuthenticationContext\n",
    "from office365.sharepoint.client_context import ClientContext\n",
    "from office365.sharepoint.files.file import File\n",
    "from office365.runtime.auth.client_credential import ClientCredential\n",
    "from office365.runtime.client_request_exception import ClientRequestException\n",
    "import datetime\n",
    "import pytz\n",
    "import pandas as pd\n",
    "import numpy as np\n",
    "import csv\n",
    "import glob\n",
    "import pyodbc\n",
    "import os \n",
    "import json\n",
    "from io import BytesIO\n",
    "import io\n",
    "import platform\n",
    "from function.PyToSp import *\n",
    "from tqdm import tqdm\n",
    "from urllib.parse import quote_plus\n",
    "import numpy as np\n",
    "import pandas as pd\n",
    "from sqlalchemy import create_engine, event\n",
    "import pyodbc\n",
    "import requests\n",
    "import inspect\n",
    "from validate import *\n",
    "pd.set_option('display.max_columns', None)\n",
    "pd.set_option('display.max_rows', None)\n",
    "from urllib.parse import quote_plus\n",
    "import msal\n",
    "from itertools import chain\n",
    "from send_email import *"
   ]
  },
  {
   "cell_type": "markdown",
   "id": "d8bee114",
   "metadata": {},
   "source": [
    "### CONNECT TO AZURE SQL"
   ]
  },
  {
   "cell_type": "code",
   "execution_count": 79,
   "id": "a39960d9",
   "metadata": {},
   "outputs": [],
   "source": [
    "import json\n",
    "f = open ('database_information.json', \"r\")\n",
    "qq = json.loads(f.read())\n",
    "f.close()\n",
    "ini_cnt_str ='Driver={driver_str};Server=tcp:hkazdevsqld3vnreserch.database.windows.net,1433;database={database};Uid={username};Pwd={password};Encrypt=yes;Authentication=ActiveDirectoryPassword;Connection Timeout=30;'.format(**qq)\n",
    "quoted = quote_plus(ini_cnt_str)\n",
    "cnt_str = 'mssql+pyodbc:///?odbc_connect={}'.format(quoted)\n",
    "engine = create_engine(cnt_str)"
   ]
  },
  {
   "cell_type": "markdown",
   "id": "81420039",
   "metadata": {},
   "source": [
    "### CONNECT TO SHAREPOINT"
   ]
  },
  {
   "cell_type": "code",
   "execution_count": 80,
   "id": "4b0587ba",
   "metadata": {
    "scrolled": false
   },
   "outputs": [
    {
     "name": "stdout",
     "output_type": "stream",
     "text": [
      "Web site title: S22M Research & BI Hub _ Successful Connection!\n"
     ]
    }
   ],
   "source": [
    "header_BIHub = 'share_point_BIHub'\n",
    "config_BIHub = read_config_json(config_path, header_BIHub)\n",
    "BIHub = SharePoint(config_BIHub)\n",
    "BIHub.check_connect()"
   ]
  },
  {
   "cell_type": "code",
   "execution_count": 81,
   "id": "b3cf9cd9",
   "metadata": {},
   "outputs": [
    {
     "name": "stdout",
     "output_type": "stream",
     "text": [
      "Folder name: /sites/BIHub/Shared Documents/Advisory Data/Dim_Dictionary/Developer\n"
     ]
    }
   ],
   "source": [
    "#Tất cả các tỉnh\n",
    "relative_url = \"/sites/BIHub/Shared Documents/Advisory Data/Dim_Dictionary\"\n",
    "sp_object = relative_url.split('/')[2].replace('-','')\n",
    "list_folder = eval(sp_object).get_content_url(relative_url,return_list_folder=True)"
   ]
  },
  {
   "cell_type": "code",
   "execution_count": 82,
   "id": "e4319872",
   "metadata": {},
   "outputs": [
    {
     "name": "stdout",
     "output_type": "stream",
     "text": [
      "Folder name: \n",
      "Files name: /sites/BIHub/Shared Documents/Advisory Data/Dim_Dictionary/Developer/Developer_Dictionary.xlsx\n"
     ]
    }
   ],
   "source": [
    "#-------------------------------------------------------\n",
    "df_summ_file = pd.DataFrame({'Name':[],'ServerRelativeUrl':[], 'TimeLastModified':[], 'ModTime':[], 'Modified_by_ID':[]})\n",
    "for i in list_folder:\n",
    "    df_summ_file = pd.concat([df_summ_file, eval(sp_object).get_content_url(i)])\n",
    "list_file = df_summ_file['ServerRelativeUrl'].to_list()\n",
    "#History file\n",
    "df_query=pd.DataFrame(df_summ_file).reset_index(drop=True)\n",
    "df_summ_file = df_summ_file.reset_index(drop=True)"
   ]
  },
  {
   "cell_type": "code",
   "execution_count": 83,
   "id": "e5bc3144",
   "metadata": {
    "scrolled": true
   },
   "outputs": [
    {
     "data": {
      "text/plain": [
       "['/sites/BIHub/Shared Documents/Advisory Data/Dim_Dictionary/Developer/Developer_Dictionary.xlsx']"
      ]
     },
     "execution_count": 83,
     "metadata": {},
     "output_type": "execute_result"
    }
   ],
   "source": [
    "url = []\n",
    "for i in list_file:\n",
    "    Folder = i.split('/')[7]\n",
    "    if Folder == 'Developer_Dictionary.xlsx':\n",
    "        url.append(i)\n",
    "url        "
   ]
  },
  {
   "cell_type": "code",
   "execution_count": 84,
   "id": "f9a49849",
   "metadata": {},
   "outputs": [],
   "source": [
    "def get_data(relative_url, file_url):\n",
    "    header_BIHub = 'share_point_BIHub'\n",
    "    config_BIHub = read_config_json(config_path, header_BIHub)\n",
    "    BIHub = SharePoint(config_BIHub)\n",
    "\n",
    "    sp_object = relative_url.split('/')[2].replace('-', '')\n",
    "    data = BIHub.get_file_with_sheet_name(file_url, sheet_name='Sheet1')\n",
    "    # data_IP = BIHub.get_file_with_sheet_name(file_url, sheet_name='IP_Developer')\n",
    "    # data = pd.concat([data_MS, data_IP], ignore_index=True)\n",
    "    # Convert data to DataFrame if it's not already\n",
    "    if not isinstance(data, pd.DataFrame):\n",
    "        data = pd.DataFrame(data)\n",
    "\n",
    "    # Remove irrelevant data\n",
    "    data.dropna(axis=0, how='all', inplace=True)  # remove blank rows\n",
    "    data.drop(data.columns[data.columns.str.contains('Unnamed')], axis=1, inplace=True)  # remove blank columns\n",
    "    data.columns = data.columns.str.strip().str.replace(r'\\s+', '', regex=True)  # strip column\n",
    "    return data\n"
   ]
  },
  {
   "cell_type": "markdown",
   "id": "a08aeac6",
   "metadata": {},
   "source": [
    "## Import"
   ]
  },
  {
   "cell_type": "code",
   "execution_count": 85,
   "id": "f0829aad",
   "metadata": {},
   "outputs": [
    {
     "name": "stderr",
     "output_type": "stream",
     "text": [
      "  0%|          | 0/1 [00:00<?, ?it/s]"
     ]
    },
    {
     "name": "stdout",
     "output_type": "stream",
     "text": [
      "Index(['Sector', 'Raw_Developer', 'Cleaned_Developer', 'Last_Update'], dtype='object')\n",
      "Index(['Sector', 'Raw_Developer', 'Cleaned_Developer', 'Last_Update',\n",
      "       'Update_Developer'],\n",
      "      dtype='object')\n"
     ]
    },
    {
     "name": "stderr",
     "output_type": "stream",
     "text": [
      "100%|██████████| 1/1 [00:02<00:00,  2.11s/it]\n"
     ]
    }
   ],
   "source": [
    "#Create empty df for checking dictionary\n",
    "df_dict = pd.DataFrame(columns=['File_Name', 'Missing_Values', 'Flag'])\n",
    "df_temp_flat = pd.DataFrame()\n",
    "df_flat = pd.DataFrame()\n",
    "#-------------------------------------------------------\n",
    "'''Get data''' \n",
    "table_name = 'Developer_Dictionary'\n",
    "columns_that_need_unidecode = ['Cleaned_Developer']\n",
    "\n",
    "for file_url in tqdm(url):\n",
    "    data = get_data(relative_url, file_url)\n",
    "    data = remove_unformated_character(data)\n",
    "    data = pd.DataFrame(data)\n",
    "    for i in columns_that_need_unidecode:\n",
    "        data[i] = remove_unicode(data[i])\n",
    "    today = pd.to_datetime('today').strftime(\"%Y-%m-%d %H:%M:%S.%f\")[:-3]\n",
    "   \n",
    "    hold_data = data[data['Update_Developer'].isnull()]\n",
    "    new_row = data[data['Update_Developer'].notnull()]\n",
    "    new_row['Cleaned_Developer'] = new_row['Update_Developer']\n",
    "    new_row['Last_Update'] = today\n",
    "    data = pd.concat([hold_data, new_row], ignore_index=True)\n",
    "    # filtered_data = data[~data['Raw_Developer'].isin(pd.read_sql_query(\"SELECT Raw_Developer FROM GENERAL.Developer_Dictionary\", engine)['Raw_Developer'])]\n",
    "    # get_db= pd.read_sql_query(\"SELECT * FROM GENERAL.Developer_Dictionary\", engine)\n",
    "    # df_get_db = pd.DataFrame(get_db)\n",
    "    # filtered_data = data[~data['Raw_Developer'].isin(df_get_db['Raw_Developer'])]\n",
    "    data = data.dropna(subset=['Raw_Developer'])\n",
    "    data = data.drop('Update_Developer', axis=1)\n",
    "    try: \n",
    "        #data.to_sql(table_name, engine, index=False, if_exists='replace', schema='GENERAL')\n",
    "        data['Update_Developer'] = None \n",
    "        data = data.drop('Last_Update', axis=1)\n",
    "        data.to_excel('Developer_Dictionary.xlsx', index=False, engine='openpyxl')\n",
    "    except Exception as e:\n",
    "        print(colored(\"Error:\",str(e),'red'))"
   ]
  },
  {
   "cell_type": "markdown",
   "metadata": {},
   "source": [
    "### Update"
   ]
  },
  {
   "cell_type": "code",
   "execution_count": 86,
   "metadata": {},
   "outputs": [
    {
     "name": "stderr",
     "output_type": "stream",
     "text": [
      "  0%|          | 0/1 [00:00<?, ?it/s]"
     ]
    },
    {
     "name": "stdout",
     "output_type": "stream",
     "text": [
      "Developer_Dictionary.xlsx\n",
      "Developer_Dictionary.xlsx\n"
     ]
    },
    {
     "name": "stderr",
     "output_type": "stream",
     "text": [
      "  0%|          | 0/1 [00:01<?, ?it/s]\n"
     ]
    },
    {
     "ename": "ClientRequestException",
     "evalue": "('-2147024893, System.IO.DirectoryNotFoundException', 'File Not Found.', \"404 Client Error: Not Found for url: https://savills.sharepoint.com/sites/BIHub/_api/Web/getFolderByServerRelativeUrl('%2Fsites%2FBIHub%2FShared%20Documents%2FAdvisory%20Data%2FDim_Dictionary%2FDeveloper%2FDeveloper_Dictionary.xlsx')/Files/add(overwrite=true,url='Developer_Dictionary.xlsx')\")",
     "output_type": "error",
     "traceback": [
      "\u001b[1;31m---------------------------------------------------------------------------\u001b[0m",
      "\u001b[1;31mHTTPError\u001b[0m                                 Traceback (most recent call last)",
      "File \u001b[1;32m~\\AppData\\Roaming\\Python\\Python311\\site-packages\\office365\\runtime\\client_request.py:58\u001b[0m, in \u001b[0;36mClientRequest.execute_query\u001b[1;34m(self, query)\u001b[0m\n\u001b[0;32m     57\u001b[0m response \u001b[38;5;241m=\u001b[39m \u001b[38;5;28mself\u001b[39m\u001b[38;5;241m.\u001b[39mexecute_request_direct(request)\n\u001b[1;32m---> 58\u001b[0m response\u001b[38;5;241m.\u001b[39mraise_for_status()\n\u001b[0;32m     59\u001b[0m \u001b[38;5;28mself\u001b[39m\u001b[38;5;241m.\u001b[39mprocess_response(response, query)\n",
      "File \u001b[1;32mc:\\ProgramData\\anaconda3\\Lib\\site-packages\\requests\\models.py:1021\u001b[0m, in \u001b[0;36mResponse.raise_for_status\u001b[1;34m(self)\u001b[0m\n\u001b[0;32m   1020\u001b[0m \u001b[38;5;28;01mif\u001b[39;00m http_error_msg:\n\u001b[1;32m-> 1021\u001b[0m     \u001b[38;5;28;01mraise\u001b[39;00m HTTPError(http_error_msg, response\u001b[38;5;241m=\u001b[39m\u001b[38;5;28mself\u001b[39m)\n",
      "\u001b[1;31mHTTPError\u001b[0m: 404 Client Error: Not Found for url: https://savills.sharepoint.com/sites/BIHub/_api/Web/getFolderByServerRelativeUrl('%2Fsites%2FBIHub%2FShared%20Documents%2FAdvisory%20Data%2FDim_Dictionary%2FDeveloper%2FDeveloper_Dictionary.xlsx')/Files/add(overwrite=true,url='Developer_Dictionary.xlsx')",
      "\nDuring handling of the above exception, another exception occurred:\n",
      "\u001b[1;31mClientRequestException\u001b[0m                    Traceback (most recent call last)",
      "Cell \u001b[1;32mIn[86], line 3\u001b[0m\n\u001b[0;32m      1\u001b[0m file_path \u001b[38;5;241m=\u001b[39m \u001b[38;5;124m'\u001b[39m\u001b[38;5;124mDeveloper_Dictionary.xlsx\u001b[39m\u001b[38;5;124m'\u001b[39m\n\u001b[0;32m      2\u001b[0m \u001b[38;5;28;01mfor\u001b[39;00m file_url \u001b[38;5;129;01min\u001b[39;00m tqdm(url):\n\u001b[1;32m----> 3\u001b[0m     BIHub\u001b[38;5;241m.\u001b[39mupload_file(file_url, file_path)\n",
      "File \u001b[1;32mc:\\MainSystemProject\\research\\New_202306\\function\\PyToSp.py:181\u001b[0m, in \u001b[0;36mSharePoint.upload_file\u001b[1;34m(self, file_url, file_path)\u001b[0m\n\u001b[0;32m    179\u001b[0m         \u001b[38;5;28mself\u001b[39m\u001b[38;5;241m.\u001b[39mfile_content \u001b[38;5;241m=\u001b[39m content_file\u001b[38;5;241m.\u001b[39mread()\n\u001b[0;32m    180\u001b[0m     \u001b[38;5;28mprint\u001b[39m(file_path)\n\u001b[1;32m--> 181\u001b[0m     file \u001b[38;5;241m=\u001b[39m \u001b[38;5;28mself\u001b[39m\u001b[38;5;241m.\u001b[39mctx\u001b[38;5;241m.\u001b[39mweb\u001b[38;5;241m.\u001b[39mget_folder_by_server_relative_url(file_url)\u001b[38;5;241m.\u001b[39mupload_file(\u001b[38;5;28mself\u001b[39m\u001b[38;5;241m.\u001b[39mfile_name, \u001b[38;5;28mself\u001b[39m\u001b[38;5;241m.\u001b[39mfile_content)\u001b[38;5;241m.\u001b[39mexecute_query()\n\u001b[0;32m    182\u001b[0m \u001b[38;5;28;01melse\u001b[39;00m:\n\u001b[0;32m    183\u001b[0m     \u001b[38;5;28mprint\u001b[39m(\u001b[38;5;124m\"\u001b[39m\u001b[38;5;124mCheck file path again!\u001b[39m\u001b[38;5;124m\"\u001b[39m)\n",
      "File \u001b[1;32m~\\AppData\\Roaming\\Python\\Python311\\site-packages\\office365\\runtime\\client_object.py:47\u001b[0m, in \u001b[0;36mClientObject.execute_query\u001b[1;34m(self)\u001b[0m\n\u001b[0;32m     41\u001b[0m \u001b[38;5;28;01mdef\u001b[39;00m \u001b[38;5;21mexecute_query\u001b[39m(\u001b[38;5;28mself\u001b[39m):\n\u001b[0;32m     42\u001b[0m \u001b[38;5;250m    \u001b[39m\u001b[38;5;124;03m\"\"\"\u001b[39;00m\n\u001b[0;32m     43\u001b[0m \u001b[38;5;124;03m    Submit request(s) to the server\u001b[39;00m\n\u001b[0;32m     44\u001b[0m \n\u001b[0;32m     45\u001b[0m \u001b[38;5;124;03m    :type self: T\u001b[39;00m\n\u001b[0;32m     46\u001b[0m \u001b[38;5;124;03m    \"\"\"\u001b[39;00m\n\u001b[1;32m---> 47\u001b[0m     \u001b[38;5;28mself\u001b[39m\u001b[38;5;241m.\u001b[39mcontext\u001b[38;5;241m.\u001b[39mexecute_query()\n\u001b[0;32m     48\u001b[0m     \u001b[38;5;28;01mreturn\u001b[39;00m \u001b[38;5;28mself\u001b[39m\n",
      "File \u001b[1;32m~\\AppData\\Roaming\\Python\\Python311\\site-packages\\office365\\runtime\\client_runtime_context.py:187\u001b[0m, in \u001b[0;36mClientRuntimeContext.execute_query\u001b[1;34m(self)\u001b[0m\n\u001b[0;32m    185\u001b[0m \u001b[38;5;28;01mwhile\u001b[39;00m \u001b[38;5;28mself\u001b[39m\u001b[38;5;241m.\u001b[39mhas_pending_request:\n\u001b[0;32m    186\u001b[0m     qry \u001b[38;5;241m=\u001b[39m \u001b[38;5;28mself\u001b[39m\u001b[38;5;241m.\u001b[39m_get_next_query()\n\u001b[1;32m--> 187\u001b[0m     \u001b[38;5;28mself\u001b[39m\u001b[38;5;241m.\u001b[39mpending_request()\u001b[38;5;241m.\u001b[39mexecute_query(qry)\n",
      "File \u001b[1;32m~\\AppData\\Roaming\\Python\\Python311\\site-packages\\office365\\runtime\\client_request.py:62\u001b[0m, in \u001b[0;36mClientRequest.execute_query\u001b[1;34m(self, query)\u001b[0m\n\u001b[0;32m     60\u001b[0m     \u001b[38;5;28mself\u001b[39m\u001b[38;5;241m.\u001b[39mafterExecute\u001b[38;5;241m.\u001b[39mnotify(response)\n\u001b[0;32m     61\u001b[0m \u001b[38;5;28;01mexcept\u001b[39;00m HTTPError \u001b[38;5;28;01mas\u001b[39;00m e:\n\u001b[1;32m---> 62\u001b[0m     \u001b[38;5;28;01mraise\u001b[39;00m ClientRequestException(\u001b[38;5;241m*\u001b[39me\u001b[38;5;241m.\u001b[39margs, response\u001b[38;5;241m=\u001b[39me\u001b[38;5;241m.\u001b[39mresponse)\n",
      "\u001b[1;31mClientRequestException\u001b[0m: ('-2147024893, System.IO.DirectoryNotFoundException', 'File Not Found.', \"404 Client Error: Not Found for url: https://savills.sharepoint.com/sites/BIHub/_api/Web/getFolderByServerRelativeUrl('%2Fsites%2FBIHub%2FShared%20Documents%2FAdvisory%20Data%2FDim_Dictionary%2FDeveloper%2FDeveloper_Dictionary.xlsx')/Files/add(overwrite=true,url='Developer_Dictionary.xlsx')\")"
     ]
    }
   ],
   "source": [
    "file_path = 'Developer_Dictionary.xlsx'\n",
    "for file_url in tqdm(url):\n",
    "    BIHub.upload_file(file_url, file_path)"
   ]
  },
  {
   "cell_type": "code",
   "execution_count": null,
   "metadata": {},
   "outputs": [],
   "source": []
  }
 ],
 "metadata": {
  "kernelspec": {
   "display_name": "Python 3 (ipykernel)",
   "language": "python",
   "name": "python3"
  },
  "language_info": {
   "codemirror_mode": {
    "name": "ipython",
    "version": 3
   },
   "file_extension": ".py",
   "mimetype": "text/x-python",
   "name": "python",
   "nbconvert_exporter": "python",
   "pygments_lexer": "ipython3",
   "version": "3.11.4"
  }
 },
 "nbformat": 4,
 "nbformat_minor": 5
}
