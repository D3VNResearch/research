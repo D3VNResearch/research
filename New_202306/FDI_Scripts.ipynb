{
 "cells": [
  {
   "cell_type": "markdown",
   "id": "2f9c70bc",
   "metadata": {},
   "source": [
    "### IMPORT LIBRARY"
   ]
  },
  {
   "cell_type": "code",
   "execution_count": 39,
   "id": "ccfa4d14",
   "metadata": {},
   "outputs": [],
   "source": [
    "from office365.runtime.auth.authentication_context import AuthenticationContext\n",
    "from office365.sharepoint.client_context import ClientContext\n",
    "from office365.sharepoint.files.file import File\n",
    "from office365.runtime.auth.client_credential import ClientCredential\n",
    "from office365.runtime.client_request_exception import ClientRequestException\n",
    "import datetime\n",
    "import pytz\n",
    "import pandas as pd\n",
    "import numpy as np\n",
    "import csv\n",
    "import glob\n",
    "import pyodbc\n",
    "import os \n",
    "import json\n",
    "from io import BytesIO\n",
    "import io\n",
    "import platform\n",
    "from function.PyToSp import *\n",
    "from tqdm import tqdm\n",
    "from urllib.parse import quote_plus\n",
    "import numpy as np\n",
    "import pandas as pd\n",
    "from sqlalchemy import create_engine, event\n",
    "import pyodbc\n",
    "import requests\n",
    "import inspect\n",
    "from validate import *\n",
    "pd.set_option('display.max_columns', None)\n",
    "pd.set_option('display.max_rows', None)\n",
    "from urllib.parse import quote_plus\n",
    "import msal\n",
    "from itertools import chain\n",
    "from send_email import *"
   ]
  },
  {
   "cell_type": "markdown",
   "id": "d8bee114",
   "metadata": {},
   "source": [
    "### CONNECT TO AZURE SQL"
   ]
  },
  {
   "cell_type": "code",
   "execution_count": 40,
   "id": "a39960d9",
   "metadata": {},
   "outputs": [],
   "source": [
    "import json\n",
    "f = open ('database_information.json', \"r\")\n",
    "qq = json.loads(f.read())\n",
    "f.close()\n",
    "ini_cnt_str ='Driver={driver_str};Server=tcp:hkazdevsqld3vnreserch.database.windows.net,1433;database={database};Uid={username};Pwd={password};Encrypt=yes;Authentication=ActiveDirectoryPassword;Connection Timeout=30;'.format(**qq)\n",
    "quoted = quote_plus(ini_cnt_str)\n",
    "cnt_str = 'mssql+pyodbc:///?odbc_connect={}'.format(quoted)\n",
    "engine = create_engine(cnt_str)"
   ]
  },
  {
   "cell_type": "markdown",
   "id": "81420039",
   "metadata": {},
   "source": [
    "### CONNECT TO SHAREPOINT"
   ]
  },
  {
   "cell_type": "code",
   "execution_count": 41,
   "id": "4b0587ba",
   "metadata": {
    "scrolled": false
   },
   "outputs": [
    {
     "name": "stdout",
     "output_type": "stream",
     "text": [
      "Web site title: S22M Research & BI Hub _ Successful Connection!\n"
     ]
    }
   ],
   "source": [
    "header_BIHub = 'share_point_BIHub'\n",
    "config_BIHub = read_config_json(config_path, header_BIHub)\n",
    "BIHub = SharePoint(config_BIHub)\n",
    "BIHub.check_connect()"
   ]
  },
  {
   "cell_type": "code",
   "execution_count": 42,
   "id": "d951e70e",
   "metadata": {
    "scrolled": true
   },
   "outputs": [
    {
     "name": "stdout",
     "output_type": "stream",
     "text": [
      "Folder name: /sites/BIHub/Shared Documents/Advisory Data/FDI/Flat file/2021\n",
      "/sites/BIHub/Shared Documents/Advisory Data/FDI/Flat file/2018\n",
      "/sites/BIHub/Shared Documents/Advisory Data/FDI/Flat file/2019\n",
      "/sites/BIHub/Shared Documents/Advisory Data/FDI/Flat file/2022\n",
      "/sites/BIHub/Shared Documents/Advisory Data/FDI/Flat file/2016\n",
      "/sites/BIHub/Shared Documents/Advisory Data/FDI/Flat file/2020\n",
      "/sites/BIHub/Shared Documents/Advisory Data/FDI/Flat file/2023\n",
      "/sites/BIHub/Shared Documents/Advisory Data/FDI/Flat file/2017\n"
     ]
    }
   ],
   "source": [
    "#Tất cả các tỉnh\n",
    "relative_url = \"/sites/BIHub/Shared Documents/Advisory Data/FDI/Flat file\"\n",
    "sp_object = relative_url.split('/')[2].replace('-','')\n",
    "list_folder = eval(sp_object).get_content_url(relative_url,return_list_folder=True)"
   ]
  },
  {
   "cell_type": "code",
   "execution_count": 43,
   "id": "955b3c95",
   "metadata": {},
   "outputs": [
    {
     "name": "stdout",
     "output_type": "stream",
     "text": [
      "Folder name: /sites/BIHub/Shared Documents/Advisory Data/FDI/Flat file/2021/Q4\n",
      "Folder name: /sites/BIHub/Shared Documents/Advisory Data/FDI/Flat file/2018/Q4\n",
      "Folder name: /sites/BIHub/Shared Documents/Advisory Data/FDI/Flat file/2019/Q4\n",
      "Folder name: /sites/BIHub/Shared Documents/Advisory Data/FDI/Flat file/2022/Q3\n",
      "/sites/BIHub/Shared Documents/Advisory Data/FDI/Flat file/2022/Q4\n",
      "/sites/BIHub/Shared Documents/Advisory Data/FDI/Flat file/2022/Q2\n",
      "/sites/BIHub/Shared Documents/Advisory Data/FDI/Flat file/2022/Q1\n",
      "Folder name: /sites/BIHub/Shared Documents/Advisory Data/FDI/Flat file/2016/Q4\n",
      "Folder name: /sites/BIHub/Shared Documents/Advisory Data/FDI/Flat file/2020/Q4\n",
      "Folder name: /sites/BIHub/Shared Documents/Advisory Data/FDI/Flat file/2023/Q2\n",
      "/sites/BIHub/Shared Documents/Advisory Data/FDI/Flat file/2023/Backup\n",
      "/sites/BIHub/Shared Documents/Advisory Data/FDI/Flat file/2023/Q1\n",
      "Folder name: /sites/BIHub/Shared Documents/Advisory Data/FDI/Flat file/2017/Q4\n"
     ]
    }
   ],
   "source": [
    "#lấy năm\n",
    "list_folder_sub1=[]\n",
    "for i in list_folder:\n",
    "    ls=eval(sp_object).get_content_url(i,return_list_folder=True)\n",
    "    list_folder_sub1=list_folder_sub1+ls"
   ]
  },
  {
   "cell_type": "code",
   "execution_count": 44,
   "id": "aa46fe3c",
   "metadata": {
    "scrolled": true
   },
   "outputs": [
    {
     "name": "stdout",
     "output_type": "stream",
     "text": [
      "Folder name: \n",
      "Files name: /sites/BIHub/Shared Documents/Advisory Data/FDI/Flat file/2017/Q4/FDI_20171231.xlsx\n"
     ]
    }
   ],
   "source": [
    "quarter = ['Q4']#Chọn năm cần import\n",
    "year = ['2017']#Chọn quý cần import\n",
    "#-------------------------------------------------------\n",
    "df_summ_file = pd.DataFrame({'Name':[],'ServerRelativeUrl':[], 'TimeLastModified':[], 'ModTime':[], 'Modified_by_ID':[]})\n",
    "for i in list_folder_sub1:\n",
    "    if i.split('/')[-2] in year and i.split('/')[-1] in quarter:\n",
    "        df_summ_file = pd.concat([df_summ_file, eval(sp_object).get_content_url(i)])\n",
    "list_file = df_summ_file['ServerRelativeUrl'].to_list()\n",
    "#History file\n",
    "df_query=pd.DataFrame(df_summ_file).reset_index(drop=True)\n",
    "df_summ_file = df_summ_file.reset_index(drop=True)"
   ]
  },
  {
   "cell_type": "code",
   "execution_count": 45,
   "id": "e5bc3144",
   "metadata": {
    "scrolled": true
   },
   "outputs": [
    {
     "data": {
      "text/plain": [
       "['/sites/BIHub/Shared Documents/Advisory Data/FDI/Flat file/2017/Q4/FDI_20171231.xlsx']"
      ]
     },
     "execution_count": 45,
     "metadata": {},
     "output_type": "execute_result"
    }
   ],
   "source": [
    "url = []\n",
    "for i in list_file:\n",
    "    data_key = i.split('/')[-1].split('.')[0].split('_')[-1]\n",
    "    if str(data_key) not in ('x'):\n",
    "        url.append(i)\n",
    "url        "
   ]
  },
  {
   "cell_type": "markdown",
   "id": "8fc83b84",
   "metadata": {},
   "source": [
    "### IMPORT DATA"
   ]
  },
  {
   "cell_type": "code",
   "execution_count": 46,
   "id": "51d50056",
   "metadata": {
    "scrolled": true
   },
   "outputs": [
    {
     "name": "stderr",
     "output_type": "stream",
     "text": [
      "  0%|          | 0/1 [00:00<?, ?it/s]"
     ]
    },
    {
     "name": "stdout",
     "output_type": "stream",
     "text": [
      "Series([], Name: City, dtype: object)\n",
      "Series([], Name: District, dtype: object)\n",
      "Series([], Name: Project_Name, dtype: object)\n",
      "Series([], Name: Investor_Nationality, dtype: object)\n",
      "Series([], Name: Industry_Lv1, dtype: object)\n",
      "Series([], Name: Investment_Form, dtype: object)\n",
      "\u001b[32mValidate succesfully\u001b[0m\n",
      "CONNECTION SUCESSFUL IN INSERT TO FRESH FUNCTION!\n",
      "Insert FDI_20171231 to Fresh\n",
      "Insert FDI_20171231 to Fresh\n",
      "Insert FDI_20171231 to Fresh\n"
     ]
    },
    {
     "name": "stderr",
     "output_type": "stream",
     "text": [
      "100%|██████████| 1/1 [00:39<00:00, 39.90s/it]"
     ]
    },
    {
     "name": "stdout",
     "output_type": "stream",
     "text": [
      "Hehehe đc ròi neeeeeeee\n"
     ]
    },
    {
     "name": "stderr",
     "output_type": "stream",
     "text": [
      "\n"
     ]
    }
   ],
   "source": [
    "'''Prepare ingredients'''\n",
    "# columns_that_need_unidecode=['Project_Name', 'Business_Name', 'Investor_Name', 'Investor_Nationality'\n",
    "#                              , 'Industry_Lv1', 'Investment_Form', 'City', 'District', 'Project_Objective'\n",
    "#                              , 'Unit', 'Investor_Address', 'Scale', 'Duration', 'Project_Implement_Location'\n",
    "#                              , 'Headquarters_Address', 'Business_Representative', 'Capital_Contribute_Progress'\n",
    "#                              , 'Implement_Progress'\n",
    "#                             ]\n",
    "columns_that_need_unidecode=['Project_Name', 'Business_Name', 'Investor_Name', 'Investor_Nationality'\n",
    "                             , 'Industry_Lv1', 'Investment_Form', 'City', 'District'\n",
    "                            ]\n",
    "#Create empty df for checking dictionary\n",
    "df_dict = pd.DataFrame(columns=['File_Name', 'Missing_Values', 'Flag'])\n",
    "df_temp_flat_fdi = pd.DataFrame()\n",
    "df_flat_fdi = pd.DataFrame()\n",
    "#-------------------------------------------------------\n",
    "'''Get data''' \n",
    "for file_url in tqdm(url):\n",
    "    data, file_name, sector = get_data(relative_url, file_url)\n",
    "    #-------------------------------------------------------\n",
    "    data = check_date_key(file_url, data)#Check format date_key in flat file\n",
    "    #-------------------------------------------------------\n",
    "    '''Validation step'''\n",
    "    #Remove unfortmated values\n",
    "    #data = remove_unformated_character(type_sector = 2, sector = sector, file_name = file_name, data = data)\n",
    "    data = remove_unformated_character(data)\n",
    "    #Remove unicode characters\n",
    "    for i in columns_that_need_unidecode:\n",
    "        data[i] = remove_unicode(data[i])\n",
    "    #Check dictionary\n",
    "    lst_dict = ['City', 'Project_Name', 'Investor_Nationality', 'Industry_Lv1', 'Investment_Form']\n",
    "    lst_cls = ['City', 'Project_Name', 'Investor_Nationality', 'Industry_Lv1', 'Investment_Form']\n",
    "    for i, j in zip(lst_cls, lst_dict):\n",
    "        data, df_dict = check_dictionary(df_dict, file_name, data, i, j, sector, engine, sp_object)\n",
    "    if len(df_dict) == 0:\n",
    "        print(colored('Validate succesfully','green'))\n",
    "        data = Generate_Additional_Columns(data,df_summ_file,BIHub,engine,file_url)\n",
    "        df_temp_flat_fdi = pd.concat([df_temp_flat_fdi, data], axis=0)\n",
    "        df_flat_fdi = tracking_flat_file(df_temp_flat_fdi, sector)\n",
    "        insert_to_fresh(file_url, data, cnt_str)\n",
    "        print(\"Hehehe đc ròi neeeeeeee\")\n",
    "    else:\n",
    "        pass"
   ]
  },
  {
   "cell_type": "code",
   "execution_count": null,
   "id": "d6cf21bc",
   "metadata": {},
   "outputs": [],
   "source": []
  },
  {
   "cell_type": "markdown",
   "id": "8ab4b79b",
   "metadata": {
    "scrolled": true
   },
   "source": [
    "### SEND EMAIL"
   ]
  },
  {
   "cell_type": "code",
   "execution_count": 47,
   "id": "8736012f",
   "metadata": {
    "scrolled": true
   },
   "outputs": [
    {
     "name": "stdout",
     "output_type": "stream",
     "text": [
      "Imported data succesfully\n",
      "Sent email successfully\n"
     ]
    }
   ],
   "source": [
    "list_df_flat = [df_flat_fdi]\n",
    "to_email = ['hcmcbi-intern04@savills.com.vn']\n",
    "if len(df_dict) != 0:\n",
    "    print(colored('Missing values in dictionary','yellow'))\n",
    "    df_noti_html = convert_df_to_html(type_html = 2, df = df_dict, cnxn = engine)\n",
    "    run_email(email_type = 2, user_email = to_email, df_noti_html = df_noti_html)\n",
    "else:\n",
    "    print('Imported data succesfully')\n",
    "    df_flat_html, df_query_html = convert_df_to_html(type_html = 3, list_df = list_df_flat, type_sector = 2, cnxn = engine)\n",
    "    run_email(type_sector = 'FDI', email_type = 3, user_email = to_email, df_flat_html = df_flat_html, df_query_html = df_query_html)"
   ]
  },
  {
   "cell_type": "markdown",
   "id": "88a8fdb2",
   "metadata": {},
   "source": [
    "### TRACKING AUDIT"
   ]
  },
  {
   "cell_type": "code",
   "execution_count": 48,
   "id": "0d522b00",
   "metadata": {},
   "outputs": [
    {
     "name": "stdout",
     "output_type": "stream",
     "text": [
      "\u001b[32mInserted audit tracking sucessfully\u001b[0m\n"
     ]
    }
   ],
   "source": [
    "insert_to_tracking(list_df_flat, 'Tracking_FDI', engine)"
   ]
  },
  {
   "cell_type": "code",
   "execution_count": null,
   "id": "15a4adc6",
   "metadata": {},
   "outputs": [],
   "source": []
  }
 ],
 "metadata": {
  "kernelspec": {
   "display_name": "Python 3 (ipykernel)",
   "language": "python",
   "name": "python3"
  },
  "language_info": {
   "codemirror_mode": {
    "name": "ipython",
    "version": 3
   },
   "file_extension": ".py",
   "mimetype": "text/x-python",
   "name": "python",
   "nbconvert_exporter": "python",
   "pygments_lexer": "ipython3",
   "version": "3.10.11"
  }
 },
 "nbformat": 4,
 "nbformat_minor": 5
}
