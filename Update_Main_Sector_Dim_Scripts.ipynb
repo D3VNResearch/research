{
 "cells": [
  {
   "attachments": {},
   "cell_type": "markdown",
   "id": "12012f35",
   "metadata": {},
   "source": [
    "### IMPORT LIBRARY"
   ]
  },
  {
   "cell_type": "code",
   "execution_count": 1,
   "id": "378258c1",
   "metadata": {},
   "outputs": [],
   "source": [
    "from office365.runtime.auth.authentication_context import AuthenticationContext\n",
    "from office365.sharepoint.client_context import ClientContext\n",
    "from office365.sharepoint.files.file import File\n",
    "from office365.runtime.auth.client_credential import ClientCredential\n",
    "from office365.runtime.client_request_exception import ClientRequestException\n",
    "import datetime\n",
    "import pytz\n",
    "import pandas as pd\n",
    "import numpy as np\n",
    "import csv\n",
    "import glob\n",
    "import pyodbc\n",
    "import os \n",
    "import json\n",
    "from io import BytesIO\n",
    "import io\n",
    "import platform\n",
    "from function.PyToSp import *\n",
    "from tqdm import tqdm\n",
    "from urllib.parse import quote_plus\n",
    "import numpy as np\n",
    "import pandas as pd\n",
    "from sqlalchemy import create_engine, event\n",
    "import pyodbc\n",
    "import requests\n",
    "import inspect\n",
    "from validate_update import *\n",
    "#pd.set_option('display.max_columns', None)\n",
    "#pd.set_option('display.max_rows', None)\n",
    "from urllib.parse import quote_plus\n",
    "import msal\n",
    "from itertools import chain\n",
    "from termcolor import colored\n",
    "from send_email import *"
   ]
  },
  {
   "attachments": {},
   "cell_type": "markdown",
   "id": "d8bee114",
   "metadata": {},
   "source": [
    "### CONNECT TO AZURE SQL"
   ]
  },
  {
   "cell_type": "code",
   "execution_count": 2,
   "id": "a39960d9",
   "metadata": {},
   "outputs": [],
   "source": [
    "import json\n",
    "f = open ('database_information.json', \"r\")\n",
    "qq = json.loads(f.read())\n",
    "f.close()\n",
    "ini_cnt_str ='Driver={driver_str};Server=tcp:hkazdevsqld3vnreserch.database.windows.net,1433;database={database};Uid={username};Pwd={password};Encrypt=yes;Authentication=ActiveDirectoryPassword;Connection Timeout=30;'.format(**qq)\n",
    "quoted = quote_plus(ini_cnt_str)\n",
    "cnt_str = 'mssql+pyodbc:///?odbc_connect={}'.format(quoted)\n",
    "engine = create_engine(cnt_str)\n",
    "\n",
    "#Test Connection\n",
    "try:\n",
    "    result = engine.execute(\"SELECT 1\")\n",
    "    print(\"CONNECTION SUCESSFUL!\")\n",
    "except Exception as e:\n",
    "    print(\"CONNECTION FAILED:\",str(e))"
   ]
  },
  {
   "attachments": {},
   "cell_type": "markdown",
   "id": "81420039",
   "metadata": {},
   "source": [
    "### CONNECT TO SHAREPOINT"
   ]
  },
  {
   "cell_type": "code",
   "execution_count": 3,
   "id": "4b0587ba",
   "metadata": {
    "scrolled": true
   },
   "outputs": [
    {
     "name": "stdout",
     "output_type": "stream",
     "text": [
      "Web site title: S22M Internal Hub _ Successful Connection!\n"
     ]
    }
   ],
   "source": [
    "header_BIHub = 'share_point_BIHub'\n",
    "config_BIHub = read_config_json(config_path, header_BIHub)\n",
    "config_BIHub\n",
    "BIHub = SharePoint(config_BIHub)\n",
    "BIHub.check_connect()"
   ]
  },
  {
   "attachments": {},
   "cell_type": "markdown",
   "id": "0e642c12",
   "metadata": {},
   "source": [
    "### READ AND LIST FOLDER"
   ]
  },
  {
   "cell_type": "code",
   "execution_count": 4,
   "id": "d951e70e",
   "metadata": {
    "scrolled": true
   },
   "outputs": [
    {
     "name": "stdout",
     "output_type": "stream",
     "text": [
      "Folder name: /sites/BIHub/Shared Documents/Advisory Data/Main sector/Update/Dim/Binh Duong Province\n",
      "/sites/BIHub/Shared Documents/Advisory Data/Main sector/Update/Dim/Dong Nai Province\n",
      "/sites/BIHub/Shared Documents/Advisory Data/Main sector/Update/Dim/Ho Chi Minh City\n",
      "/sites/BIHub/Shared Documents/Advisory Data/Main sector/Update/Dim/Ha Noi City\n",
      "/sites/BIHub/Shared Documents/Advisory Data/Main sector/Update/Dim/Long An Province\n",
      "/sites/BIHub/Shared Documents/Advisory Data/Main sector/Update/Dim/Hung Yen Province\n"
     ]
    }
   ],
   "source": [
    "#Tất cả các tỉnh\n",
    "relative_url = \"/sites/BIHub/Shared Documents/Advisory Data/Main sector/Update/Dim\"\n",
    "sp_object = relative_url.split('/')[2].replace('-','')\n",
    "list_folder = eval(sp_object).get_content_url(relative_url,return_list_folder=True)"
   ]
  },
  {
   "cell_type": "code",
   "execution_count": 5,
   "id": "162f57a3",
   "metadata": {
    "scrolled": true
   },
   "outputs": [
    {
     "name": "stdout",
     "output_type": "stream",
     "text": [
      "Folder name: /sites/BIHub/Shared Documents/Advisory Data/Main sector/Update/Dim/Binh Duong Province/2022\n",
      "Folder name: /sites/BIHub/Shared Documents/Advisory Data/Main sector/Update/Dim/Dong Nai Province/2022\n",
      "Folder name: /sites/BIHub/Shared Documents/Advisory Data/Main sector/Update/Dim/Ho Chi Minh City/2022\n",
      "Folder name: /sites/BIHub/Shared Documents/Advisory Data/Main sector/Update/Dim/Ha Noi City/2022\n",
      "Folder name: /sites/BIHub/Shared Documents/Advisory Data/Main sector/Update/Dim/Long An Province/2022\n",
      "Folder name: /sites/BIHub/Shared Documents/Advisory Data/Main sector/Update/Dim/Hung Yen Province/2022\n"
     ]
    }
   ],
   "source": [
    "#lấy năm\n",
    "list_folder_sub1=[]\n",
    "for i in list_folder:\n",
    "    ls=eval(sp_object).get_content_url(i,return_list_folder=True)\n",
    "    list_folder_sub1=list_folder_sub1+ls"
   ]
  },
  {
   "cell_type": "code",
   "execution_count": 6,
   "id": "338da9f5",
   "metadata": {
    "scrolled": true
   },
   "outputs": [
    {
     "name": "stdout",
     "output_type": "stream",
     "text": [
      "Folder name: /sites/BIHub/Shared Documents/Advisory Data/Main sector/Update/Dim/Binh Duong Province/2022/Q3\n",
      "Folder name: /sites/BIHub/Shared Documents/Advisory Data/Main sector/Update/Dim/Dong Nai Province/2022/Q3\n",
      "Folder name: /sites/BIHub/Shared Documents/Advisory Data/Main sector/Update/Dim/Ho Chi Minh City/2022/Q3\n",
      "/sites/BIHub/Shared Documents/Advisory Data/Main sector/Update/Dim/Ho Chi Minh City/2022/Q4\n",
      "Folder name: /sites/BIHub/Shared Documents/Advisory Data/Main sector/Update/Dim/Ha Noi City/2022/Q3\n",
      "/sites/BIHub/Shared Documents/Advisory Data/Main sector/Update/Dim/Ha Noi City/2022/Q4\n",
      "Folder name: /sites/BIHub/Shared Documents/Advisory Data/Main sector/Update/Dim/Long An Province/2022/Q3\n",
      "Folder name: /sites/BIHub/Shared Documents/Advisory Data/Main sector/Update/Dim/Hung Yen Province/2022/Q3\n"
     ]
    }
   ],
   "source": [
    "#lấy quý\n",
    "list_folder_sub2=[]\n",
    "for i in list_folder_sub1:\n",
    "    ls=eval(sp_object).get_content_url(i,return_list_folder=True)\n",
    "    list_folder_sub2=list_folder_sub2+ls"
   ]
  },
  {
   "cell_type": "code",
   "execution_count": 11,
   "id": "aa46fe3c",
   "metadata": {
    "scrolled": true
   },
   "outputs": [
    {
     "name": "stdout",
     "output_type": "stream",
     "text": [
      "Folder name: \n",
      "Files name: /sites/BIHub/Shared Documents/Advisory Data/Main sector/Update/Dim/Ho Chi Minh City/2022/Q4/Update_SA_HCM_20221231.xlsx\n",
      "Files name: /sites/BIHub/Shared Documents/Advisory Data/Main sector/Update/Dim/Ho Chi Minh City/2022/Q4/Update_Retail_HCM_20221231.xlsx\n",
      "Folder name: \n",
      "Files name: /sites/BIHub/Shared Documents/Advisory Data/Main sector/Update/Dim/Ha Noi City/2022/Q4/Update_Office_HN_20221231.xlsx\n",
      "Files name: /sites/BIHub/Shared Documents/Advisory Data/Main sector/Update/Dim/Ha Noi City/2022/Q4/Update_SA_HN_20221231.xlsx\n",
      "Files name: /sites/BIHub/Shared Documents/Advisory Data/Main sector/Update/Dim/Ha Noi City/2022/Q4/Update_Apt_HN_20221231.xlsx\n",
      "Files name: /sites/BIHub/Shared Documents/Advisory Data/Main sector/Update/Dim/Ha Noi City/2022/Q4/Update_Hotel_HN_20221231.xlsx\n"
     ]
    }
   ],
   "source": [
    "#Provide information\n",
    "Province_name=['Binh Duong Province']#Chọn tỉnh cần import-- là tên folder \n",
    "Year=['2023']#Chọn năm cần import\n",
    "Quarter=['Q1']#Chọn quý cần import\n",
    "#Có thể chọn nhiều tỉnh, tên tỉnh để trong dấu nháy đơn và cách nhau bởi dấy phẩy. Áp dụng tương tự cho năm, quý\n",
    "#-------------------------------------------------------\n",
    "df_summ_file = pd.DataFrame({'Name':[],'ServerRelativeUrl':[], 'TimeLastModified':[], 'ModTime':[], 'Modified_by_ID':[]})\n",
    "for i in list_folder_sub2:\n",
    "    if i.split('/')[-3] in Province_name and i.split('/')[-2] in Year and i.split('/')[-1] in Quarter:\n",
    "        df_summ_file = pd.concat([df_summ_file, eval(sp_object).get_content_url(i)])\n",
    "list_url = df_summ_file['ServerRelativeUrl'].to_list()\n",
    "#History file\n",
    "df_query=pd.DataFrame(df_summ_file).reset_index(drop=True)\n",
    "df_summ_file = df_summ_file.reset_index(drop=True)"
   ]
  },
  {
   "attachments": {},
   "cell_type": "markdown",
   "id": "afbe169c",
   "metadata": {},
   "source": [
    "### GET IMPORT FILE"
   ]
  },
  {
   "cell_type": "code",
   "execution_count": 8,
   "id": "51e0061a",
   "metadata": {
    "scrolled": true
   },
   "outputs": [
    {
     "data": {
      "text/plain": [
       "['/sites/BIHub/Shared Documents/Advisory Data/Main sector/Update/Dim/Ho Chi Minh City/2022/Q4/Update_Retail_HCM_20221231.xlsx']"
      ]
     },
     "execution_count": 8,
     "metadata": {},
     "output_type": "execute_result"
    }
   ],
   "source": [
    "url = []\n",
    "for i in list_url:\n",
    "    sector = i.split('/')[-1].split('_')[1].upper()\n",
    "    if sector in ('RETAIL'):#Chọn sector cần import: RETAIL, OFFICE, SA, HOTEL, APT, VLTH\n",
    "        url.append(i)\n",
    "    else:\n",
    "        pass\n",
    "url"
   ]
  },
  {
   "attachments": {},
   "cell_type": "markdown",
   "id": "df571cf7",
   "metadata": {},
   "source": [
    "### IMPORT DATA"
   ]
  },
  {
   "cell_type": "code",
   "execution_count": 9,
   "id": "5fa7bc94",
   "metadata": {
    "scrolled": true
   },
   "outputs": [
    {
     "name": "stderr",
     "output_type": "stream",
     "text": [
      "\r\n",
      "  0%|                                                                                            | 0/1 [00:00<?, ?it/s]"
     ]
    },
    {
     "name": "stdout",
     "output_type": "stream",
     "text": [
      "\u001b[32mValidate succesfully\u001b[0m\n"
     ]
    },
    {
     "name": "stderr",
     "output_type": "stream",
     "text": [
      "100%|████████████████████████████████████████████████████████████████████████████████████| 1/1 [00:13<00:00, 13.41s/it]\n"
     ]
    }
   ],
   "source": [
    "'''Prepare ingredients''' \n",
    "columns_that_need_unidecode = ['Sub_Project_Name', 'Project_District_Name', 'Project_City_Name'\n",
    "                               , 'New_Sub_Project_Name', 'New_Project_District_Name', 'New_Project_City_Name'\n",
    "                              ]\n",
    "#Create empty df for checking dictionary\n",
    "df_dict = pd.DataFrame(columns=['File_Name', 'Missing_Values', 'Flag'])\n",
    "name_sector = ['RETAIL', 'SA', 'APT', 'VLTH', 'OFFICE', 'HOTEL']\n",
    "for i in name_sector:\n",
    "    globals()[f'df_update_{i.lower()}'] = pd.DataFrame([])\n",
    "#-------------------------------------------------------\n",
    "'''Get data''' \n",
    "for file_url in tqdm(url):  \n",
    "    data, file_name, sector = get_data(relative_url, file_url)\n",
    "    #-------------------------------------------------------\n",
    "    '''Validation step'''\n",
    "    #Fill up if lười điền =))\n",
    "    data['New_Sub_Project_Name']= np.where(data['New_Sub_Project_Name'].isnull(), data['Sub_Project_Name'], data['New_Sub_Project_Name'])\n",
    "    #Remove unfortmated values\n",
    "    data = remove_unformated_character(data)\n",
    "    #Remove unicode characters\n",
    "    for i in columns_that_need_unidecode:\n",
    "        data[i] = remove_unicode(data[i])\n",
    "    #Check dictionary\n",
    "    lst_dict = ['City', 'District', 'Grade', 'Type']\n",
    "    for p in lst_dict:\n",
    "        lst_p = [x for x in data.columns[data.columns.str.contains(p)]]\n",
    "        for i, j in zip([x for x in data[lst_p] if 'New' not in x], [x for x in data[lst_p] if 'New' in x]):\n",
    "            data[j] = data[j].fillna(data[i])\n",
    "        for i in lst_p:\n",
    "            data, df_dict = check_dictionary(df_dict, file_name, data, i, p, sector, engine, sp_object)\n",
    "    if len(df_dict) == 0:\n",
    "        print(colored('Validate succesfully','green'))\n",
    "        #-------------------------------------------------------\n",
    "        '''Import data process'''\n",
    "        #Check project key\n",
    "        processed_data, flag_key = check_project_key(file_url, data, sector, engine)\n",
    "        new_processed_data, flag_new_key = check_new_key(file_url, data, sector, engine)\n",
    "        if flag_key == 0 and flag_new_key ==0:\n",
    "            data = get_project_key(flag_key, processed_data, data, sector, engine)\n",
    "            data = get_new_key(flag_new_key, new_processed_data, data, sector, engine)\n",
    "            if sector == 'RETAIL':\n",
    "                df_update_retail = pd.concat([df_update_retail, data], axis=0)\n",
    "            elif sector == 'OFFICE':\n",
    "                df_update_office = pd.concat([df_update_office, data], axis=0)\n",
    "            elif sector == 'HOTEL':\n",
    "                df_update_hotel = pd.concat([df_update_hotel, data], axis=0)\n",
    "            elif sector == 'SA' or sector=='SERVICED_APARTMENT':\n",
    "                df_update_sa = pd.concat([df_update_sa, data], axis=0)\n",
    "            elif sector == 'APT' or sector=='APARTMENT':\n",
    "                df_update_apt = pd.concat([df_update_apt, data], axis=0)\n",
    "            elif sector == 'VLTH':\n",
    "                df_update_vlth = pd.concat([df_update_vlth, data], axis=0)\n",
    "        else:\n",
    "            if flag_key != 0:\n",
    "                print(colored(f'Cant get key in {file_name}', 'yellow'))\n",
    "            elif flag_new_key != 0:\n",
    "                print(colored(f'Cant get new key in {file_name}', 'yellow'))"
   ]
  },
  {
   "cell_type": "code",
   "execution_count": 10,
   "id": "61d1d8c4",
   "metadata": {},
   "outputs": [
    {
     "data": {
      "text/html": [
       "<div>\n",
       "<style scoped>\n",
       "    .dataframe tbody tr th:only-of-type {\n",
       "        vertical-align: middle;\n",
       "    }\n",
       "\n",
       "    .dataframe tbody tr th {\n",
       "        vertical-align: top;\n",
       "    }\n",
       "\n",
       "    .dataframe thead th {\n",
       "        text-align: right;\n",
       "    }\n",
       "</style>\n",
       "<table border=\"1\" class=\"dataframe\">\n",
       "  <thead>\n",
       "    <tr style=\"text-align: right;\">\n",
       "      <th></th>\n",
       "      <th>Update_Date</th>\n",
       "      <th>Sector</th>\n",
       "      <th>Sub_Project_Name</th>\n",
       "      <th>Project_District_Name</th>\n",
       "      <th>Project_City_Name</th>\n",
       "      <th>Sub_Project_Type</th>\n",
       "      <th>New_Sub_Project_Name</th>\n",
       "      <th>New_Project_District_Name</th>\n",
       "      <th>New_Project_City_Name</th>\n",
       "      <th>New_Sub_Project_Type</th>\n",
       "      <th>Project_Key</th>\n",
       "      <th>New_Project_Key</th>\n",
       "    </tr>\n",
       "  </thead>\n",
       "  <tbody>\n",
       "    <tr>\n",
       "      <th>0</th>\n",
       "      <td>20221231</td>\n",
       "      <td>RETAIL</td>\n",
       "      <td>Big C An Lac</td>\n",
       "      <td>Binh Tan District</td>\n",
       "      <td>Ho Chi Minh City</td>\n",
       "      <td>Supermarket</td>\n",
       "      <td>Go! An Lac</td>\n",
       "      <td>Binh Tan District</td>\n",
       "      <td>Ho Chi Minh City</td>\n",
       "      <td>Supermarket</td>\n",
       "      <td>20142</td>\n",
       "      <td>45310</td>\n",
       "    </tr>\n",
       "    <tr>\n",
       "      <th>1</th>\n",
       "      <td>20221231</td>\n",
       "      <td>RETAIL</td>\n",
       "      <td>Big C Go Vap</td>\n",
       "      <td>Go Vap District</td>\n",
       "      <td>Ho Chi Minh City</td>\n",
       "      <td>Supermarket</td>\n",
       "      <td>Go! Go Vap</td>\n",
       "      <td>Go Vap District</td>\n",
       "      <td>Ho Chi Minh City</td>\n",
       "      <td>Supermarket</td>\n",
       "      <td>20145</td>\n",
       "      <td>45313</td>\n",
       "    </tr>\n",
       "    <tr>\n",
       "      <th>2</th>\n",
       "      <td>20221231</td>\n",
       "      <td>RETAIL</td>\n",
       "      <td>Big C Phu Thanh</td>\n",
       "      <td>Tan Phu District</td>\n",
       "      <td>Ho Chi Minh City</td>\n",
       "      <td>Supermarket</td>\n",
       "      <td>Go! Phu Thanh</td>\n",
       "      <td>Tan Phu District</td>\n",
       "      <td>Ho Chi Minh City</td>\n",
       "      <td>Supermarket</td>\n",
       "      <td>20147</td>\n",
       "      <td>45314</td>\n",
       "    </tr>\n",
       "    <tr>\n",
       "      <th>3</th>\n",
       "      <td>20221231</td>\n",
       "      <td>RETAIL</td>\n",
       "      <td>Big C An Phu</td>\n",
       "      <td>District 2</td>\n",
       "      <td>Ho Chi Minh City</td>\n",
       "      <td>Supermarket</td>\n",
       "      <td>Tops Market An Phu</td>\n",
       "      <td>District 2</td>\n",
       "      <td>Ho Chi Minh City</td>\n",
       "      <td>Supermarket</td>\n",
       "      <td>20259</td>\n",
       "      <td>45316</td>\n",
       "    </tr>\n",
       "    <tr>\n",
       "      <th>4</th>\n",
       "      <td>20221231</td>\n",
       "      <td>RETAIL</td>\n",
       "      <td>Big C City Land</td>\n",
       "      <td>District 7</td>\n",
       "      <td>Ho Chi Minh City</td>\n",
       "      <td>Shopping Center</td>\n",
       "      <td>Go! Nguyen Thi Thap</td>\n",
       "      <td>District 7</td>\n",
       "      <td>Ho Chi Minh City</td>\n",
       "      <td>Shopping Center</td>\n",
       "      <td>20144</td>\n",
       "      <td>45312</td>\n",
       "    </tr>\n",
       "    <tr>\n",
       "      <th>5</th>\n",
       "      <td>20221231</td>\n",
       "      <td>RETAIL</td>\n",
       "      <td>Big C Thao Dien Pearl</td>\n",
       "      <td>District 2</td>\n",
       "      <td>Ho Chi Minh City</td>\n",
       "      <td>Supermarket</td>\n",
       "      <td>Tops Market Thao Dien Pearl</td>\n",
       "      <td>District 2</td>\n",
       "      <td>Ho Chi Minh City</td>\n",
       "      <td>Supermarket</td>\n",
       "      <td>20149</td>\n",
       "      <td>45315</td>\n",
       "    </tr>\n",
       "    <tr>\n",
       "      <th>6</th>\n",
       "      <td>20221231</td>\n",
       "      <td>RETAIL</td>\n",
       "      <td>Big C Auco</td>\n",
       "      <td>Tan Phu District</td>\n",
       "      <td>Ho Chi Minh City</td>\n",
       "      <td>Supermarket</td>\n",
       "      <td>Tops Market Auco</td>\n",
       "      <td>Tan Phu District</td>\n",
       "      <td>Ho Chi Minh City</td>\n",
       "      <td>Supermarket</td>\n",
       "      <td>20143</td>\n",
       "      <td>45311</td>\n",
       "    </tr>\n",
       "    <tr>\n",
       "      <th>7</th>\n",
       "      <td>20221231</td>\n",
       "      <td>RETAIL</td>\n",
       "      <td>Long Son Building Phase 2022</td>\n",
       "      <td>District 7</td>\n",
       "      <td>Ho Chi Minh City</td>\n",
       "      <td>Retail Podium</td>\n",
       "      <td>Long Son Building Next Phase</td>\n",
       "      <td>District 7</td>\n",
       "      <td>Ho Chi Minh City</td>\n",
       "      <td>Retail Podium</td>\n",
       "      <td>34026</td>\n",
       "      <td>45318</td>\n",
       "    </tr>\n",
       "    <tr>\n",
       "      <th>8</th>\n",
       "      <td>20221231</td>\n",
       "      <td>RETAIL</td>\n",
       "      <td>Hung Vuong Plaza - Phase 2023</td>\n",
       "      <td>District 5</td>\n",
       "      <td>Ho Chi Minh City</td>\n",
       "      <td>Shopping Center</td>\n",
       "      <td>Hung Vuong Plaza Next Phase</td>\n",
       "      <td>District 5</td>\n",
       "      <td>Ho Chi Minh City</td>\n",
       "      <td>Department Store</td>\n",
       "      <td>44710</td>\n",
       "      <td>45319</td>\n",
       "    </tr>\n",
       "    <tr>\n",
       "      <th>9</th>\n",
       "      <td>20221231</td>\n",
       "      <td>RETAIL</td>\n",
       "      <td>Union Square Phase H22022</td>\n",
       "      <td>District 1</td>\n",
       "      <td>Ho Chi Minh City</td>\n",
       "      <td>Shopping Center</td>\n",
       "      <td>Union Square Next Phase</td>\n",
       "      <td>District 1</td>\n",
       "      <td>Ho Chi Minh City</td>\n",
       "      <td>Shopping Center</td>\n",
       "      <td>34028</td>\n",
       "      <td>45321</td>\n",
       "    </tr>\n",
       "    <tr>\n",
       "      <th>10</th>\n",
       "      <td>20221231</td>\n",
       "      <td>RETAIL</td>\n",
       "      <td>One Central Hcm</td>\n",
       "      <td>District 1</td>\n",
       "      <td>Ho Chi Minh City</td>\n",
       "      <td>Shopping Center</td>\n",
       "      <td>One Central Saigon</td>\n",
       "      <td>District 1</td>\n",
       "      <td>Ho Chi Minh City</td>\n",
       "      <td>Shopping Center</td>\n",
       "      <td>20404</td>\n",
       "      <td>45322</td>\n",
       "    </tr>\n",
       "  </tbody>\n",
       "</table>\n",
       "</div>"
      ],
      "text/plain": [
       "   Update_Date  Sector               Sub_Project_Name Project_District_Name  \\\n",
       "0     20221231  RETAIL                   Big C An Lac     Binh Tan District   \n",
       "1     20221231  RETAIL                   Big C Go Vap       Go Vap District   \n",
       "2     20221231  RETAIL                Big C Phu Thanh      Tan Phu District   \n",
       "3     20221231  RETAIL                   Big C An Phu            District 2   \n",
       "4     20221231  RETAIL                Big C City Land            District 7   \n",
       "5     20221231  RETAIL          Big C Thao Dien Pearl            District 2   \n",
       "6     20221231  RETAIL                     Big C Auco      Tan Phu District   \n",
       "7     20221231  RETAIL   Long Son Building Phase 2022            District 7   \n",
       "8     20221231  RETAIL  Hung Vuong Plaza - Phase 2023            District 5   \n",
       "9     20221231  RETAIL      Union Square Phase H22022            District 1   \n",
       "10    20221231  RETAIL                One Central Hcm            District 1   \n",
       "\n",
       "   Project_City_Name Sub_Project_Type          New_Sub_Project_Name  \\\n",
       "0   Ho Chi Minh City      Supermarket                    Go! An Lac   \n",
       "1   Ho Chi Minh City      Supermarket                    Go! Go Vap   \n",
       "2   Ho Chi Minh City      Supermarket                 Go! Phu Thanh   \n",
       "3   Ho Chi Minh City      Supermarket            Tops Market An Phu   \n",
       "4   Ho Chi Minh City  Shopping Center           Go! Nguyen Thi Thap   \n",
       "5   Ho Chi Minh City      Supermarket   Tops Market Thao Dien Pearl   \n",
       "6   Ho Chi Minh City      Supermarket              Tops Market Auco   \n",
       "7   Ho Chi Minh City    Retail Podium  Long Son Building Next Phase   \n",
       "8   Ho Chi Minh City  Shopping Center   Hung Vuong Plaza Next Phase   \n",
       "9   Ho Chi Minh City  Shopping Center       Union Square Next Phase   \n",
       "10  Ho Chi Minh City  Shopping Center            One Central Saigon   \n",
       "\n",
       "   New_Project_District_Name New_Project_City_Name New_Sub_Project_Type  \\\n",
       "0          Binh Tan District      Ho Chi Minh City          Supermarket   \n",
       "1            Go Vap District      Ho Chi Minh City          Supermarket   \n",
       "2           Tan Phu District      Ho Chi Minh City          Supermarket   \n",
       "3                 District 2      Ho Chi Minh City          Supermarket   \n",
       "4                 District 7      Ho Chi Minh City      Shopping Center   \n",
       "5                 District 2      Ho Chi Minh City          Supermarket   \n",
       "6           Tan Phu District      Ho Chi Minh City          Supermarket   \n",
       "7                 District 7      Ho Chi Minh City        Retail Podium   \n",
       "8                 District 5      Ho Chi Minh City     Department Store   \n",
       "9                 District 1      Ho Chi Minh City      Shopping Center   \n",
       "10                District 1      Ho Chi Minh City      Shopping Center   \n",
       "\n",
       "    Project_Key  New_Project_Key  \n",
       "0         20142            45310  \n",
       "1         20145            45313  \n",
       "2         20147            45314  \n",
       "3         20259            45316  \n",
       "4         20144            45312  \n",
       "5         20149            45315  \n",
       "6         20143            45311  \n",
       "7         34026            45318  \n",
       "8         44710            45319  \n",
       "9         34028            45321  \n",
       "10        20404            45322  "
      ]
     },
     "execution_count": 10,
     "metadata": {},
     "output_type": "execute_result"
    }
   ],
   "source": [
    "df_update_retail"
   ]
  },
  {
   "cell_type": "code",
   "execution_count": null,
   "id": "480d1d06",
   "metadata": {},
   "outputs": [],
   "source": []
  }
 ],
 "metadata": {
  "kernelspec": {
   "display_name": "test4",
   "language": "python",
   "name": "test4"
  },
  "language_info": {
   "codemirror_mode": {
    "name": "ipython",
    "version": 3
   },
   "file_extension": ".py",
   "mimetype": "text/x-python",
   "name": "python",
   "nbconvert_exporter": "python",
   "pygments_lexer": "ipython3",
   "version": "3.9.7"
  }
 },
 "nbformat": 4,
 "nbformat_minor": 5
}
