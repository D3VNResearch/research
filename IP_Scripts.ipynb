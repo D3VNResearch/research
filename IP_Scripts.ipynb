{
 "cells": [
  {
   "attachments": {},
   "cell_type": "markdown",
   "id": "12012f35",
   "metadata": {},
   "source": [
    "### IMPORT LIBRARY"
   ]
  },
  {
   "cell_type": "code",
   "execution_count": 18,
   "id": "378258c1",
   "metadata": {},
   "outputs": [],
   "source": [
    "from office365.runtime.auth.authentication_context import AuthenticationContext\n",
    "from office365.sharepoint.client_context import ClientContext\n",
    "from office365.sharepoint.files.file import File\n",
    "from office365.runtime.auth.client_credential import ClientCredential\n",
    "from office365.runtime.client_request_exception import ClientRequestException\n",
    "import datetime\n",
    "import pytz\n",
    "import pandas as pd\n",
    "import numpy as np\n",
    "import csv\n",
    "import glob\n",
    "import pyodbc\n",
    "import os \n",
    "import json\n",
    "from io import BytesIO\n",
    "import io\n",
    "import platform\n",
    "from function.PyToSp import *\n",
    "from tqdm import tqdm\n",
    "from urllib.parse import quote_plus\n",
    "import numpy as np\n",
    "import pandas as pd\n",
    "from sqlalchemy import create_engine, event,text\n",
    "import pyodbc\n",
    "import requests\n",
    "import inspect\n",
    "from validate import *\n",
    "pd.set_option('display.max_columns', None)\n",
    "pd.set_option('display.max_rows', None)\n",
    "from urllib.parse import quote_plus\n",
    "import msal\n",
    "from itertools import chain\n",
    "from send_email import *\n",
    "\n",
    "# set to_email\n",
    "to_email = ['nthieu@savills.com.vn','pthihuongnguyen@savills.com.vn']\n",
    "# to_email = ['nthieu@savills.com.vn']"
   ]
  },
  {
   "attachments": {},
   "cell_type": "markdown",
   "id": "d8bee114",
   "metadata": {},
   "source": [
    "### CONNECT TO AZURE SQL"
   ]
  },
  {
   "cell_type": "code",
   "execution_count": 19,
   "id": "a39960d9",
   "metadata": {},
   "outputs": [
    {
     "name": "stdout",
     "output_type": "stream",
     "text": [
      "CONNECTION SUCESSFUL!\n"
     ]
    }
   ],
   "source": [
    "import json\n",
    "f = open ('database_information.json', \"r\")\n",
    "qq = json.loads(f.read())\n",
    "f.close()\n",
    "ini_cnt_str ='Driver={driver_str};Server=tcp:hkazdevsqld3vnreserch.database.windows.net,1433;database={database};Uid={username};Pwd={password};Encrypt=yes;Authentication=ActiveDirectoryPassword;Connection Timeout=30;'.format(**qq)\n",
    "quoted = quote_plus(ini_cnt_str)\n",
    "cnt_str = 'mssql+pyodbc:///?odbc_connect={}'.format(quoted)\n",
    "engine = create_engine(cnt_str)\n",
    "\n",
    "#Test Connection\n",
    "try:\n",
    "    conn = engine.connect()\n",
    "    result = conn.execute(text(\"SELECT 1\"))\n",
    "    print(\"CONNECTION SUCESSFUL!\")\n",
    "except Exception as e:\n",
    "    print(\"CONNECTION FAILED:\",str(e))"
   ]
  },
  {
   "attachments": {},
   "cell_type": "markdown",
   "id": "81420039",
   "metadata": {},
   "source": [
    "### CONNECT TO SHAREPOINT"
   ]
  },
  {
   "cell_type": "code",
   "execution_count": 20,
   "id": "4b0587ba",
   "metadata": {},
   "outputs": [
    {
     "name": "stdout",
     "output_type": "stream",
     "text": [
      "Web site title: S22M Research & BI Hub _ Successful Connection!\n"
     ]
    }
   ],
   "source": [
    "header_BIHub = 'share_point_BIHub'\n",
    "config_BIHub = read_config_json(config_path, header_BIHub)\n",
    "BIHub = SharePoint(config_BIHub)\n",
    "BIHub.check_connect()"
   ]
  },
  {
   "attachments": {},
   "cell_type": "markdown",
   "id": "0e642c12",
   "metadata": {},
   "source": [
    "### READ AND LIST FOLDER"
   ]
  },
  {
   "cell_type": "code",
   "execution_count": 21,
   "id": "d951e70e",
   "metadata": {
    "scrolled": true
   },
   "outputs": [
    {
     "name": "stdout",
     "output_type": "stream",
     "text": [
      "Folder name: /sites/BIHub/Shared Documents/Advisory Data/IP/Flat file/Tien Giang Province\n",
      "/sites/BIHub/Shared Documents/Advisory Data/IP/Flat file/Nam Dinh Province\n",
      "/sites/BIHub/Shared Documents/Advisory Data/IP/Flat file/Vinh Phuc Province\n",
      "/sites/BIHub/Shared Documents/Advisory Data/IP/Flat file/Hai Duong Province\n",
      "/sites/BIHub/Shared Documents/Advisory Data/IP/Flat file/Binh Duong Province\n",
      "/sites/BIHub/Shared Documents/Advisory Data/IP/Flat file/Quang Nam Province\n",
      "/sites/BIHub/Shared Documents/Advisory Data/IP/Flat file/Ninh Binh Province\n",
      "/sites/BIHub/Shared Documents/Advisory Data/IP/Flat file/Thai Nguyen Province\n",
      "/sites/BIHub/Shared Documents/Advisory Data/IP/Flat file/Nghe An Province\n",
      "/sites/BIHub/Shared Documents/Advisory Data/IP/Flat file/Dong Nai Province\n",
      "/sites/BIHub/Shared Documents/Advisory Data/IP/Flat file/Quang Ngai Province\n",
      "/sites/BIHub/Shared Documents/Advisory Data/IP/Flat file/Da Nang City\n",
      "/sites/BIHub/Shared Documents/Advisory Data/IP/Flat file/Thai Binh Province\n",
      "/sites/BIHub/Shared Documents/Advisory Data/IP/Flat file/BRVT\n",
      "/sites/BIHub/Shared Documents/Advisory Data/IP/Flat file/Hoa Binh Province\n",
      "/sites/BIHub/Shared Documents/Advisory Data/IP/Flat file/Ho Chi Minh City\n",
      "/sites/BIHub/Shared Documents/Advisory Data/IP/Flat file/Thanh Hoa Province\n",
      "/sites/BIHub/Shared Documents/Advisory Data/IP/Flat file/Ha Nam Province\n",
      "/sites/BIHub/Shared Documents/Advisory Data/IP/Flat file/Binh Phuoc Province\n",
      "/sites/BIHub/Shared Documents/Advisory Data/IP/Flat file/Phu Tho Province\n",
      "/sites/BIHub/Shared Documents/Advisory Data/IP/Flat file/Hai Phong City\n",
      "/sites/BIHub/Shared Documents/Advisory Data/IP/Flat file/Ha Noi City\n",
      "/sites/BIHub/Shared Documents/Advisory Data/IP/Flat file/Long An Province\n",
      "/sites/BIHub/Shared Documents/Advisory Data/IP/Flat file/Quang Tri Province\n",
      "/sites/BIHub/Shared Documents/Advisory Data/IP/Flat file/Binh Thuan Province\n",
      "/sites/BIHub/Shared Documents/Advisory Data/IP/Flat file/Tay Ninh Province\n",
      "/sites/BIHub/Shared Documents/Advisory Data/IP/Flat file/Bac Ninh Province\n",
      "/sites/BIHub/Shared Documents/Advisory Data/IP/Flat file/Hung Yen Province\n",
      "/sites/BIHub/Shared Documents/Advisory Data/IP/Flat file/Bac Giang Province\n",
      "/sites/BIHub/Shared Documents/Advisory Data/IP/Flat file/Can Tho Province\n",
      "/sites/BIHub/Shared Documents/Advisory Data/IP/Flat file/Thua Thien Hue Province\n",
      "/sites/BIHub/Shared Documents/Advisory Data/IP/Flat file/Quang Ninh Province\n"
     ]
    }
   ],
   "source": [
    "#Tất cả các tỉnh\n",
    "relative_url = \"/sites/BIHub/Shared Documents/Advisory Data/IP/Flat file\"\n",
    "sp_object = relative_url.split('/')[2].replace('-','')\n",
    "list_folder = eval(sp_object).get_content_url(relative_url,return_list_folder=True)"
   ]
  },
  {
   "cell_type": "code",
   "execution_count": 22,
   "id": "d41e195b",
   "metadata": {},
   "outputs": [
    {
     "name": "stdout",
     "output_type": "stream",
     "text": [
      "Các tỉnh đã chọn:\n",
      "\u001b[33mHai Duong Province\u001b[0m\n",
      "\u001b[33mYear:2019, Quarter:Q4\u001b[0m\n",
      "Folder các tỉnh cần import:\n",
      "\u001b[33m/sites/BIHub/Shared Documents/Advisory Data/IP/Flat file/Hai Duong Province\u001b[0m\n",
      "Folder name: \n",
      "Files name: /sites/BIHub/Shared Documents/Advisory Data/IP/Flat file/Hai Duong Province/2019/Q4/IP_HaiDuong_20191231.xlsx\n"
     ]
    }
   ],
   "source": [
    "# Lấy danh sách tỉnh\n",
    "province_list = []\n",
    "for i in list_folder:\n",
    "    province_list.append(i.split('/')[7])\n",
    "\n",
    "# Chọn tỉnh\n",
    "selected_provinces = []\n",
    "\n",
    "# Input tỉnh\n",
    "input_string = input(\"Nhập tên các tỉnh bạn muốn chọn, cách nhau bằng dấu phẩy (nhập -1 để thoát): \")\n",
    "input_list = input_string.split(',')\n",
    "\n",
    "for input_province in input_list:\n",
    "    input_province = input_province.strip().lower()\n",
    "    if input_province == \"-1\":\n",
    "        break\n",
    "\n",
    "    matched_provinces = [province for province in province_list if input_province in province.lower()]\n",
    "    if matched_provinces:\n",
    "        selected_provinces.extend(matched_provinces)\n",
    "    else:\n",
    "        print(f\"Không tìm thấy tỉnh chứa từ khóa '{input_province}'.\")\n",
    "\n",
    "# Input Năm và Quý\n",
    "quarter_year = input(\"Nhập chuỗi năm và quý (ví dụ: 2023Q1): \")\n",
    "Year, Quarter = quarter_year[:4], quarter_year[4:]\n",
    "\n",
    "# In danh sách tỉnh đã chọn, năm và quý\n",
    "print(\"Các tỉnh đã chọn:\")\n",
    "for province in selected_provinces:\n",
    "    print(colored(province,'yellow'))\n",
    "print(colored(\"Year:{}, Quarter:{}\".format(Year,Quarter),'yellow'))\n",
    "\n",
    "# Tìm các folder chứa từ khóa\n",
    "selected_province_folders = [folder for folder in list_folder if any(re.search(keyword, folder, re.IGNORECASE) for keyword in selected_provinces)]\n",
    "selected_year_quarter = []\n",
    "for folder in selected_province_folders:\n",
    "    folder_sub2 = folder + '/' + Year + '/' + Quarter\n",
    "    selected_year_quarter.append(folder_sub2)\n",
    "# In danh sách các folder đã tìm thấy\n",
    "print(\"Folder các tỉnh cần import:\")\n",
    "for folder in selected_province_folders:\n",
    "    print(colored(folder,'yellow'))\n",
    "\n",
    "#Lấy file trong Năm và Quý\n",
    "df_summ_file = pd.DataFrame({'Name':[],'ServerRelativeUrl':[], 'TimeLastModified':[], 'ModTime':[], 'Modified_by_ID':[]})\n",
    "for i in selected_year_quarter:\n",
    "    if i.split('/')[7] in selected_provinces and i.split('/')[8] in Year and i.split('/')[9] in Quarter:\n",
    "        df_summ_file = pd.concat([df_summ_file, eval(sp_object).get_content_url(i)])\n",
    "list_url = df_summ_file['ServerRelativeUrl'].to_list()\n",
    "\n",
    "#History file\n",
    "df_query=pd.DataFrame(df_summ_file).reset_index(drop=True)\n",
    "df_summ_file = df_summ_file.reset_index(drop=True)"
   ]
  },
  {
   "attachments": {},
   "cell_type": "markdown",
   "id": "afbe169c",
   "metadata": {},
   "source": [
    "### GET IMPORT FILE"
   ]
  },
  {
   "cell_type": "code",
   "execution_count": 23,
   "id": "ca0b2498",
   "metadata": {
    "scrolled": true
   },
   "outputs": [
    {
     "data": {
      "text/plain": [
       "['/sites/BIHub/Shared Documents/Advisory Data/IP/Flat file/Hai Duong Province/2019/Q4/IP_HaiDuong_20191231.xlsx']"
      ]
     },
     "execution_count": 23,
     "metadata": {},
     "output_type": "execute_result"
    }
   ],
   "source": [
    "url = []\n",
    "for i in list_url:\n",
    "    sector = i.split('/')[-1].split('_')[0].upper()\n",
    "    if sector not in ('x'):\n",
    "        url.append(i)\n",
    "    else:\n",
    "        pass\n",
    "url"
   ]
  },
  {
   "attachments": {},
   "cell_type": "markdown",
   "id": "df571cf7",
   "metadata": {},
   "source": [
    "### IMPORT DATA"
   ]
  },
  {
   "cell_type": "code",
   "execution_count": 24,
   "id": "5fa7bc94",
   "metadata": {
    "scrolled": true
   },
   "outputs": [
    {
     "name": "stdout",
     "output_type": "stream",
     "text": [
      "Start Get Data...\n"
     ]
    },
    {
     "name": "stderr",
     "output_type": "stream",
     "text": [
      "  0%|          | 0/1 [00:00<?, ?it/s]"
     ]
    },
    {
     "name": "stdout",
     "output_type": "stream",
     "text": [
      "Can not read IP_HaiDuong_20191231.xlsx\n"
     ]
    },
    {
     "name": "stderr",
     "output_type": "stream",
     "text": [
      "\n"
     ]
    },
    {
     "ename": "AttributeError",
     "evalue": "'bool' object has no attribute 'dropna'",
     "output_type": "error",
     "traceback": [
      "\u001b[1;31m---------------------------------------------------------------------------\u001b[0m",
      "\u001b[1;31mAttributeError\u001b[0m                            Traceback (most recent call last)",
      "Cell \u001b[1;32mIn[24], line 17\u001b[0m\n\u001b[0;32m     15\u001b[0m \u001b[39mprint\u001b[39m(\u001b[39m'\u001b[39m\u001b[39mStart Get Data...\u001b[39m\u001b[39m'\u001b[39m)\n\u001b[0;32m     16\u001b[0m \u001b[39mfor\u001b[39;00m file_url \u001b[39min\u001b[39;00m tqdm(url):  \n\u001b[1;32m---> 17\u001b[0m     data, file_name, sector \u001b[39m=\u001b[39m get_data(relative_url, file_url)\n\u001b[0;32m     18\u001b[0m     \u001b[39m#-------------------------------------------------------\u001b[39;00m\n\u001b[0;32m     19\u001b[0m     data \u001b[39m=\u001b[39m check_date_key(file_url, data)\u001b[39m#Check format date_key in flat file   \u001b[39;00m\n",
      "File \u001b[1;32mc:\\Project_Savills\\research\\validate.py:45\u001b[0m, in \u001b[0;36mget_data\u001b[1;34m(relative_url, file_url)\u001b[0m\n\u001b[0;32m     42\u001b[0m data \u001b[39m=\u001b[39m \u001b[39meval\u001b[39m(sp_object)\u001b[39m.\u001b[39mget_file(file_url)   \n\u001b[0;32m     43\u001b[0m \u001b[39m#Remove irrelevant data\u001b[39;00m\n\u001b[0;32m     44\u001b[0m \u001b[39m#data.dropna(axis = 0, how = 'all', thresh = None, subset = None, inplace = True)#remove blank rows\u001b[39;00m\n\u001b[1;32m---> 45\u001b[0m data\u001b[39m.\u001b[39;49mdropna(axis \u001b[39m=\u001b[39m \u001b[39m0\u001b[39m, how \u001b[39m=\u001b[39m \u001b[39m'\u001b[39m\u001b[39mall\u001b[39m\u001b[39m'\u001b[39m, inplace \u001b[39m=\u001b[39m \u001b[39mTrue\u001b[39;00m)\u001b[39m#remove blank rows\u001b[39;00m\n\u001b[0;32m     46\u001b[0m data\u001b[39m.\u001b[39mdrop(data\u001b[39m.\u001b[39mcolumns[data\u001b[39m.\u001b[39mcolumns\u001b[39m.\u001b[39mstr\u001b[39m.\u001b[39mcontains(\u001b[39m'\u001b[39m\u001b[39mUnnamed\u001b[39m\u001b[39m'\u001b[39m)], axis \u001b[39m=\u001b[39m \u001b[39m1\u001b[39m, inplace \u001b[39m=\u001b[39m \u001b[39mTrue\u001b[39;00m)\u001b[39m#remove blank columns\u001b[39;00m\n\u001b[0;32m     47\u001b[0m data\u001b[39m.\u001b[39mcolumns \u001b[39m=\u001b[39m data\u001b[39m.\u001b[39mcolumns\u001b[39m.\u001b[39mstr\u001b[39m.\u001b[39mstrip()\u001b[39m.\u001b[39mstr\u001b[39m.\u001b[39mreplace(\u001b[39mr\u001b[39m\u001b[39m'\u001b[39m\u001b[39m\\\u001b[39m\u001b[39ms+\u001b[39m\u001b[39m'\u001b[39m, \u001b[39m'\u001b[39m\u001b[39m'\u001b[39m, regex \u001b[39m=\u001b[39m \u001b[39mTrue\u001b[39;00m)\u001b[39m#strip column\u001b[39;00m\n",
      "\u001b[1;31mAttributeError\u001b[0m: 'bool' object has no attribute 'dropna'"
     ]
    }
   ],
   "source": [
    "'''Prepare ingredients''' \n",
    "columns_that_need_unidecode=['Project_Name', 'Sub_Project_Name', 'Developer_Name'\n",
    "                             , 'City', 'District', 'Target_Industry']\n",
    "#Create empty df for checking dictionary\n",
    "df_dict = pd.DataFrame(columns=['File_Name', 'Missing_Values', 'Flag'])\n",
    "#Create multi empty df for tracking autdit step\n",
    "name_sector = ['IP']\n",
    "name_sector = [x.lower() for x in name_sector]\n",
    "for i in name_sector:\n",
    "    globals()['df_temp_flat_{}'.format(i)] = pd.DataFrame([])\n",
    "    globals()['df_flat_{}'.format(i)] = pd.DataFrame([])\n",
    "    globals()['df_new_key_{}'.format(i)] = pd.DataFrame([])  \n",
    "#-------------------------------------------------------\n",
    "'''Get data''' \n",
    "print('Start Get Data...')\n",
    "for file_url in tqdm(url):  \n",
    "    data, file_name, sector = get_data(relative_url, file_url)\n",
    "    #-------------------------------------------------------\n",
    "    data = check_date_key(file_url, data)#Check format date_key in flat file   \n",
    "    data['Project_Name']= np.where(data['Project_Name'].isnull(), data['Sub_Project_Name'], data['Project_Name'])#Fill up project_name if its null\n",
    "    data['Project_Sub_Type']= np.where(data['Project_Sub_Type'].isnull(), data['Project_Type'], data['Project_Sub_Type'])#Fill up Sub_Type if its null\n",
    "    \n",
    "    #Check duplicate sub_name\n",
    "    print('Start Check duplicate sub_name...')\n",
    "    data, df_dup = check_duplicate(data, 'Sub_Project_Name')\n",
    "    if len(df_dup) != 0:\n",
    "        print(colored('Check duplicate sub_name', 'yellow'))\n",
    "        df_noti_html = convert_df_to_html(type_html = 1, df = df_dup, type_sector = 2, cnxn = engine)\n",
    "        run_email(type_sector = 'IP', email_type = 1, user_email = to_email, df_noti_html = df_noti_html)\n",
    "    else:       \n",
    "        #-------------------------------------------------------\n",
    "        \n",
    "        '''Validation step'''\n",
    "        print('Start validation step...')\n",
    "        #Remove unfortmated values\n",
    "        data = remove_unformated_character(data)\n",
    "        #Remove unicode characters\n",
    "        for i in columns_that_need_unidecode:\n",
    "            data[i] = remove_unicode(data[i])\n",
    "        #Check dictionary\n",
    "        print('Start Check dictionary...')\n",
    "        lst_dict = ['City', 'District', 'Status', 'Sub_Type', 'Type']\n",
    "        lst_cls = ['City', 'District', 'Status', 'Project_Sub_Type', 'Project_Type']\n",
    "        for i, j in zip(lst_cls, lst_dict):\n",
    "            print(f'Start checking dictionary of [{i}:{j}]...')\n",
    "            data, df_dict = check_dictionary(df_dict, file_name, data, i, j, sector, engine, sp_object)\n",
    "        print(f'End Check dictionary with df_dict = {len(df_dict)} ...')\n",
    "        \n",
    "        if len(df_dict) == 0:\n",
    "            print(colored('Validate succesfully','green'))\n",
    "            #-------------------------------------------------------\n",
    "            '''Import data process'''\n",
    "            #Check project key\n",
    "            data = Generate_Additional_Columns(data,url,df_summ_file,BIHub,engine,file_url)\n",
    "            processed_data, flag_key = check_project_key(file_url, data, sector, engine)\n",
    "            df_temp_flat_ip = pd.concat([df_temp_flat_ip, data], axis=0)\n",
    "            df_flat_ip = tracking_flat_file(df_temp_flat_ip, file_url)\n",
    "            if len(processed_data) != 0:\n",
    "                df_new_key_ip = check_new_key(df_new_key = df_new_key_ip, processed_data = processed_data, sector = sector)\n",
    "            #Get key and generate new key (if needed)\n",
    "            data = get_project_key(flag_key, processed_data, data, sector, engine)\n",
    "            # insert_to_fresh(file_url, data, cnt_str)\n",
    "        \n",
    "            \n",
    "            #Test insert_to_fresh\n",
    "            try:\n",
    "                result = insert_to_fresh(file_url, data, cnt_str)\n",
    "                print(colored(\"insert_to_fresh SUCESSFUL!\",'green'))\n",
    "            except Exception as e:\n",
    "                print(colored(\"insert_to_fresh FAILED:\",str(e),'red'))\n",
    "            \n",
    "        else:\n",
    "            print(df_dict)\n",
    "            print(colored('Validate failed','red'))\n",
    "            pass"
   ]
  },
  {
   "attachments": {},
   "cell_type": "markdown",
   "id": "b005d5eb",
   "metadata": {},
   "source": [
    "### SEND EMAIL"
   ]
  },
  {
   "cell_type": "code",
   "execution_count": null,
   "id": "29b12652",
   "metadata": {
    "scrolled": true
   },
   "outputs": [],
   "source": [
    "list_df_flat = [df_flat_ip]\n",
    "list_df_new_key = [df_new_key_ip]\n",
    "#Email notify missing in dictionary\n",
    "if len(df_dict) != 0:\n",
    "    print(colored('Missing values in dictionary','yellow'))\n",
    "    df_noti_html = convert_df_to_html(type_html = 2, df = df_dict, cnxn = engine)\n",
    "    run_email(email_type = 2, user_email = to_email, df_noti_html = df_noti_html)\n",
    "else:\n",
    "    pass\n",
    "\n",
    "#Email notify imported data\n",
    "df_flat_html, df_query_html = convert_df_to_html(type_html = 3, list_df = list_df_flat, type_sector = 2, cnxn = engine)\n",
    "run_email(type_sector = 'IP', email_type = 3, user_email = to_email, df_flat_html = df_flat_html, df_query_html = df_query_html)\n",
    "\n",
    "#Email notify create new key\n",
    "df_new_key_html = convert_df_to_html(type_html = 4, list_df = list_df_new_key, cnxn = engine)\n",
    "if len(df_new_key_html) != 0:\n",
    "    print(colored('Some new keys were created','yellow'))\n",
    "    run_email(type_sector = 'IP', email_type = 4, user_email = to_email, df_noti_html = df_new_key_html)"
   ]
  },
  {
   "cell_type": "code",
   "execution_count": null,
   "id": "5e0a281d",
   "metadata": {},
   "outputs": [],
   "source": [
    "df_dict"
   ]
  },
  {
   "attachments": {},
   "cell_type": "markdown",
   "id": "2e64df76",
   "metadata": {},
   "source": [
    "### TRACKING AUDIT"
   ]
  },
  {
   "cell_type": "code",
   "execution_count": null,
   "id": "6edb6c07",
   "metadata": {},
   "outputs": [],
   "source": [
    "insert_to_tracking(list_df_flat, 'Tracking_IP', engine)"
   ]
  },
  {
   "cell_type": "code",
   "execution_count": null,
   "id": "6808d09b",
   "metadata": {},
   "outputs": [],
   "source": []
  }
 ],
 "metadata": {
  "kernelspec": {
   "display_name": "Python 3 (ipykernel)",
   "language": "python",
   "name": "python3"
  },
  "language_info": {
   "codemirror_mode": {
    "name": "ipython",
    "version": 3
   },
   "file_extension": ".py",
   "mimetype": "text/x-python",
   "name": "python",
   "nbconvert_exporter": "python",
   "pygments_lexer": "ipython3",
   "version": "3.11.4"
  }
 },
 "nbformat": 4,
 "nbformat_minor": 5
}
